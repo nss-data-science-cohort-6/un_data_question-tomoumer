{
 "cells": [
  {
   "cell_type": "markdown",
   "metadata": {},
   "source": [
    "## Solo Exploration and Presentation:\n",
    "\n",
    "available on: https://github.com/nss-data-science-cohort-6/un_data_question-tomoumer"
   ]
  },
  {
   "cell_type": "markdown",
   "metadata": {},
   "source": [
    "1. Choose and download another data set from the UN data http://data.un.org/Explorer.aspx to explore. You may want to combine your new dataset with one or both of the datasets that you already worked with. Prepare a short (< 5 minute) presentation of your findings. Report any interesting correlations or trends that you find.\n",
    "\n",
    "2. If time allows, check out the plotly library to add additional interativity to your plots. https://plotly.com/python/plotly-express/."
   ]
  },
  {
   "cell_type": "code",
   "execution_count": 1,
   "metadata": {},
   "outputs": [],
   "source": [
    "import pandas as pd\n",
    "import numpy as np\n",
    "import matplotlib.pyplot as plt\n",
    "import seaborn as sns\n",
    "import plotly.express as px"
   ]
  },
  {
   "cell_type": "code",
   "execution_count": 3,
   "metadata": {},
   "outputs": [],
   "source": [
    "gdp_df = (\n",
    "    pd.read_csv('../data/gdp_per_capita.csv', skipfooter=2, engine='python')\n",
    "    .drop(columns='Value Footnotes')\n",
    "    .rename(columns={'Country or Area': 'Country', 'Value': 'GDP_Per_Capita'})\n",
    ")"
   ]
  },
  {
   "cell_type": "code",
   "execution_count": 4,
   "metadata": {},
   "outputs": [],
   "source": [
    "trade = (\n",
    "    pd.read_csv('../data/tradeofgoods.csv')\n",
    "    .rename(columns = {'Country or Area' : 'Country'})\n",
    "    .drop(columns = ['Commodity', 'Weight (kg)', 'Quantity Name', 'Quantity'])\n",
    "    )\n",
    "\n",
    "trade['Country'] = (trade['Country']\n",
    "    .str.replace('USA', 'United States')\n",
    "    .str.replace('Brunei Darussalam', 'Brunei')\n",
    "    .str.replace(r'Bolivia.+', 'Bolivia', regex=True)\n",
    ")\n",
    "# note: had to use regex to rename Bolivia, because the parenthesis messed up the string Bolivia (Plurinational State of)\n",
    "# trade['Country'].unique() to check them"
   ]
  },
  {
   "cell_type": "code",
   "execution_count": 7,
   "metadata": {},
   "outputs": [],
   "source": [
    "gdp_trade = pd.merge(gdp_df, trade, \"inner\", on=['Country', 'Year'])"
   ]
  },
  {
   "cell_type": "markdown",
   "metadata": {},
   "source": [
    "I wanted to check a graph with some countries, decided to go with: gdp_trade.loc[gdp_trade['Country'].isin(['Slovenia', 'Italy', 'United States', 'China'])]"
   ]
  },
  {
   "cell_type": "code",
   "execution_count": 17,
   "metadata": {},
   "outputs": [],
   "source": [
    "country_filter = ['Slovenia', 'Italy', 'United States', 'China']\n",
    "plots_per_row = 2\n",
    "plot_x = 'Year'\n",
    "plot_y = 'Trade (USD)'\n",
    "hue_var = 'Flow'"
   ]
  },
  {
   "cell_type": "code",
   "execution_count": 22,
   "metadata": {},
   "outputs": [],
   "source": [
    "def multicountry_plot(country_filter, plots_per_row, plot_x, plot_y, hue_var='') :\n",
    "    g1 = (sns.FacetGrid\n",
    "        (gdp_trade\n",
    "        .loc[gdp_trade['Country']\n",
    "        .isin(country_filter)],\n",
    "        col='Country',\n",
    "        hue=hue_var,\n",
    "        height=6,\n",
    "        col_wrap=plots_per_row\n",
    "        )\n",
    "        .map(sns.scatterplot,\n",
    "        plot_x,\n",
    "        plot_y\n",
    "        )\n",
    "        .add_legend()\n",
    "        );"
   ]
  },
  {
   "cell_type": "code",
   "execution_count": null,
   "metadata": {},
   "outputs": [],
   "source": [
    "# I made plotting into a function!! Yay!"
   ]
  },
  {
   "cell_type": "markdown",
   "metadata": {},
   "source": [
    "Comment on above graphs: Slo's trade is ofc negligible compared to US. What's interesting though is that Italy seems to be oscillating around the same value, while the US is consistently on the rise, though the imports are outpacing the exports. China instead is exporting more than importing."
   ]
  },
  {
   "cell_type": "markdown",
   "metadata": {},
   "source": [
    "Idea: look at top 10 countries with highest GDP and check different statistics for them"
   ]
  },
  {
   "cell_type": "code",
   "execution_count": null,
   "metadata": {},
   "outputs": [],
   "source": [
    "gdp_df.head()"
   ]
  },
  {
   "cell_type": "code",
   "execution_count": null,
   "metadata": {},
   "outputs": [],
   "source": [
    "(gdp_df\n",
    "    .loc[gdp_df['Year'] == gdp_df['Year'].max()]\n",
    "    .sort_values('GDP_Per_Capita', ascending=False)\n",
    "    .head(11)\n",
    ")"
   ]
  },
  {
   "cell_type": "markdown",
   "metadata": {},
   "source": [
    "I selected top 11 countries for the last year available (2019) sorted from highest GDP_Per_Capita to lowest. The reason I did top 11 is because Macao SAR, China is technically a self-governing(*ish) City, so I haven't decided if I'm going to include it or exclude for further comparisons. Below the top 10 for comparison."
   ]
  },
  {
   "cell_type": "code",
   "execution_count": null,
   "metadata": {},
   "outputs": [],
   "source": [
    "(gdp_df\n",
    "    .loc[gdp_df['Year'] == gdp_df['Year'].max()]\n",
    "    .sort_values('GDP_Per_Capita', ascending=False)\n",
    "    .tail(10)\n",
    ")"
   ]
  },
  {
   "cell_type": "code",
   "execution_count": null,
   "metadata": {},
   "outputs": [],
   "source": [
    "top10_gdp = (gdp_df\n",
    "    .loc[\n",
    "        (gdp_df['Year'] == gdp_df['Year'].max()) &\n",
    "        (gdp_df['Country'] != 'Macao SAR, China')\n",
    "        ]\n",
    "    .sort_values('GDP_Per_Capita', ascending=False)\n",
    "    .head(10)['Country']\n",
    ")"
   ]
  },
  {
   "cell_type": "code",
   "execution_count": null,
   "metadata": {},
   "outputs": [],
   "source": [
    "g2 = sns.FacetGrid(\n",
    "    gdp_trade.loc[gdp_trade['Country'].isin(top10_gdp)],\n",
    "    col='Country',\n",
    "    col_wrap=4,\n",
    "    hue='Flow',\n",
    "    height=6\n",
    ")\n",
    "g2.map(sns.scatterplot, 'Year', 'Trade (USD)')\n",
    "g2.add_legend()"
   ]
  },
  {
   "cell_type": "markdown",
   "metadata": {},
   "source": [
    "Interestingly enough, the other 9 top countries per GDP per capita can't compare to the UDS trade. I'll have to normalize the trade values per capita."
   ]
  },
  {
   "cell_type": "code",
   "execution_count": null,
   "metadata": {},
   "outputs": [],
   "source": [
    "population = pd.read_csv('../data/Population1990to2019.csv')"
   ]
  },
  {
   "cell_type": "markdown",
   "metadata": {},
   "source": [
    "This data has already been filtered from 1990 to 2019, because the database was too big to download. Furthermore, this data includes predictors for future years; for past years it's all the same, so I decided to keep only the 'no change' (although it doesn't matter)"
   ]
  },
  {
   "cell_type": "code",
   "execution_count": null,
   "metadata": {},
   "outputs": [],
   "source": [
    "population = (\n",
    "    population\n",
    "    .loc[population['Variant'] == 'No change']\n",
    "    .drop(columns='Variant')\n",
    "    .rename(columns={'Country or Area' : 'Country', 'Year(s)' : 'Year', 'Value' : 'Population'})\n",
    ")\n",
    "population['Country'] = population['Country'].str.replace('United States of America', 'United States')\n",
    "population['Country'] = population['Country'].str.replace('Brunei Darussalam', 'Brunei')\n",
    "population['Country'] = population['Country'].str.replace(r'Bolivia.+', 'Bolivia', regex=True)"
   ]
  },
  {
   "cell_type": "code",
   "execution_count": null,
   "metadata": {},
   "outputs": [],
   "source": [
    "#did not realize this at first, the population was in thousands; need to multiply!\n",
    "population['Population'] = population['Population'] * 1000"
   ]
  },
  {
   "cell_type": "code",
   "execution_count": null,
   "metadata": {},
   "outputs": [],
   "source": [
    "gdp_trade_pop = pd.merge(gdp_trade, population, \"inner\", on=['Country', 'Year'])"
   ]
  },
  {
   "cell_type": "markdown",
   "metadata": {},
   "source": [
    "Adjusting the trade to trade per capita (dividing Trade (USD) by Population)"
   ]
  },
  {
   "cell_type": "code",
   "execution_count": null,
   "metadata": {},
   "outputs": [],
   "source": [
    "gdp_trade_pop['Trade_Per_Capita'] = gdp_trade_pop['Trade (USD)'] / gdp_trade_pop['Population'] "
   ]
  },
  {
   "cell_type": "code",
   "execution_count": null,
   "metadata": {},
   "outputs": [],
   "source": [
    "gdp_trade_pop.head()"
   ]
  },
  {
   "cell_type": "code",
   "execution_count": null,
   "metadata": {},
   "outputs": [],
   "source": [
    "g3 = sns.FacetGrid(\n",
    "    gdp_trade_pop.loc[gdp_trade_pop['Country'].isin(top10_gdp)],\n",
    "    col='Country',\n",
    "    col_wrap=4,\n",
    "    hue='Flow',\n",
    "    height=6\n",
    ")\n",
    "g3.map(sns.scatterplot, 'Year', 'Trade_Per_Capita')\n",
    "g3.add_legend()"
   ]
  },
  {
   "cell_type": "markdown",
   "metadata": {},
   "source": [
    "I had to go back and fix the USA / United States / United States of America, as well as Brunei Darussalam to Brunei\n",
    "\n",
    "When adjusted for population, the graphs of trade paint quite a different picture. In terms of exporting goods, Singapore, Switzerland and Arab Emirates are outstanding. Also Ireland - that's the one I'm most surprised about in all honesty."
   ]
  },
  {
   "cell_type": "code",
   "execution_count": null,
   "metadata": {},
   "outputs": [],
   "source": [
    "g4 = sns.FacetGrid(\n",
    "    gdp_trade_pop.loc[gdp_trade_pop['Country'].isin(top10_gdp)],\n",
    "    col='Country',\n",
    "    col_wrap=5\n",
    ")\n",
    "g4.map(sns.scatterplot, 'Year', 'GDP_Per_Capita')\n",
    "g4.add_legend()"
   ]
  },
  {
   "cell_type": "code",
   "execution_count": null,
   "metadata": {},
   "outputs": [],
   "source": [
    "g5 = sns.FacetGrid(\n",
    "    gdp_trade_pop.loc[gdp_trade_pop['Country'].isin(top10_gdp)],\n",
    "    col='Country',\n",
    "    col_wrap=4,\n",
    "    hue='Flow',\n",
    "    height=5\n",
    ")\n",
    "g5.map(sns.scatterplot, 'Trade_Per_Capita', 'GDP_Per_Capita')\n",
    "g5.add_legend()"
   ]
  },
  {
   "cell_type": "markdown",
   "metadata": {},
   "source": [
    "Above is the plot I was initially curious to see. comparing hte GDP Per capita to the Trade Per Capita. I was wondering what impact does the trade have on GDP. Without any research I'd imagine that if we're looking just at Import/Export, the more the difference between those two would be, the higher the GDP. Interestingly, I don't see such a clear trend for most countries."
   ]
  },
  {
   "cell_type": "code",
   "execution_count": null,
   "metadata": {},
   "outputs": [],
   "source": [
    "gdp_trade_pop.head()"
   ]
  },
  {
   "cell_type": "code",
   "execution_count": null,
   "metadata": {},
   "outputs": [],
   "source": [
    "# don't do for loops in pandas ... if you do, typically means you did something wrong\n",
    "# if (row['Flow'] == 'Import') or (row['Flow'] == 'Re-Import'):\n",
    "#    gdp_trade_pop.loc[index, 'Trade (USD)'] = gdp_trade_pop.loc[index, 'Trade (USD)'] * (-1)\n",
    "#    gdp_trade_pop.loc[index, 'Trade_Per_Capita'] = gdp_trade_pop.loc[index, 'Trade_Per_Capita'] * (-1)"
   ]
  },
  {
   "cell_type": "code",
   "execution_count": null,
   "metadata": {},
   "outputs": [],
   "source": [
    "# same as pivot below\n",
    "# gdp_trade_pop.pivot_table(index=['Country', 'Year', 'GDP_Per_Capita', 'Population'], columns=['Flow']).reset_index()"
   ]
  },
  {
   "cell_type": "code",
   "execution_count": null,
   "metadata": {},
   "outputs": [],
   "source": [
    "# this below would work, except I'd need to find a way to get rid of the sub-columns\n",
    "gdp_trade_pop.pivot(index=['Country', 'Year', 'GDP_Per_Capita', 'Population'], columns='Flow').reset_index()"
   ]
  },
  {
   "cell_type": "code",
   "execution_count": null,
   "metadata": {},
   "outputs": [],
   "source": [
    "# the function below is made in order to separate the Trade(USD);\n",
    "# only downside is that with this method, Trade_Per_Capita could not be kept so I'll need to calculate it again\n",
    "gdp_trade_pop = (\n",
    "    gdp_trade_pop\n",
    "    .pivot(index=['Country', 'Year', 'GDP_Per_Capita', 'Population'],\n",
    "        columns='Flow',\n",
    "        values='Trade (USD)')\n",
    "    .reset_index()\n",
    "    .rename_axis(None, axis=1)\n",
    "    .fillna(0)\n",
    ")"
   ]
  },
  {
   "cell_type": "code",
   "execution_count": null,
   "metadata": {},
   "outputs": [],
   "source": [
    "gdp_trade_pop['Surplus_Deficit'] = gdp_trade_pop['Export'] + gdp_trade_pop['Re-Export'] - gdp_trade_pop['Import'] - gdp_trade_pop['Re-Import']\n",
    "gdp_trade_pop['Export_Per_Capita'] = gdp_trade_pop['Export'] / gdp_trade_pop['Population'] \n",
    "gdp_trade_pop['Import_Per_Capita'] = gdp_trade_pop['Import'] / gdp_trade_pop['Population'] \n",
    "gdp_trade_pop['Re-Export_Per_Capita'] = gdp_trade_pop['Re-Export'] / gdp_trade_pop['Population'] \n",
    "gdp_trade_pop['Re-Import_Per_Capita'] = gdp_trade_pop['Re-Import'] / gdp_trade_pop['Population']\n",
    "gdp_trade_pop['Surplus_Deficit_Per_Capita'] = gdp_trade_pop['Surplus_Deficit'] / gdp_trade_pop['Population']"
   ]
  },
  {
   "cell_type": "markdown",
   "metadata": {},
   "source": [
    "Now that I have this, let's look at some countries (irrespective of year) who had the biggest surplus, or deficit based on their exports and imports.\n",
    "\n",
    "I'm surprised that for many years Luxembourg appears amongst the worst!"
   ]
  },
  {
   "cell_type": "code",
   "execution_count": null,
   "metadata": {},
   "outputs": [],
   "source": [
    "gdp_trade_pop.sort_values(by='Surplus_Deficit_Per_Capita').head(10)"
   ]
  },
  {
   "cell_type": "code",
   "execution_count": null,
   "metadata": {},
   "outputs": [],
   "source": [
    "gdp_trade_pop.sort_values(by='Surplus_Deficit_Per_Capita').tail(10)"
   ]
  },
  {
   "cell_type": "markdown",
   "metadata": {},
   "source": [
    "Just checking now the same, but only for the year 2019"
   ]
  },
  {
   "cell_type": "code",
   "execution_count": null,
   "metadata": {},
   "outputs": [],
   "source": [
    "gdp_trade_pop.loc[gdp_trade_pop['Year'] == gdp_trade_pop['Year'].max()].sort_values(by='Surplus_Deficit_Per_Capita').head(10)\n"
   ]
  },
  {
   "cell_type": "code",
   "execution_count": null,
   "metadata": {},
   "outputs": [],
   "source": [
    "gdp_trade_pop.loc[gdp_trade_pop['Year'] == gdp_trade_pop['Year'].max()].sort_values(by='Surplus_Deficit_Per_Capita').tail(10)\n"
   ]
  },
  {
   "cell_type": "markdown",
   "metadata": {},
   "source": [
    "Luxemburg disappeared from bottom 10 in 2019, yay! With that said, of the top 10 GDP earners, only Switzerland appears to have the highest surplus! Also, alright Poland, those Witcher sales looking good for your economy, lol!"
   ]
  },
  {
   "cell_type": "code",
   "execution_count": null,
   "metadata": {},
   "outputs": [],
   "source": [
    "g6 = sns.FacetGrid(\n",
    "    gdp_trade_pop.loc[gdp_trade_pop['Country'].isin(top10_gdp)],\n",
    "    col='Country',\n",
    "    col_wrap=4,\n",
    "    hue='Year',\n",
    "    height=6\n",
    ")\n",
    "g6.map(sns.scatterplot, 'Surplus_Deficit_Per_Capita', 'GDP_Per_Capita')\n",
    "g6.add_legend()"
   ]
  },
  {
   "cell_type": "markdown",
   "metadata": {},
   "source": [
    "A more clear look at what above - a higher surplus does not necessarily mean higher GDP."
   ]
  },
  {
   "cell_type": "code",
   "execution_count": null,
   "metadata": {},
   "outputs": [],
   "source": [
    "sns.scatterplot(\n",
    "    data=gdp_trade_pop.loc[gdp_trade_pop['Country']=='Slovenia'],\n",
    "    x='Surplus_Deficit_Per_Capita',\n",
    "    y='GDP_Per_Capita',\n",
    "    hue='Year'\n",
    ")"
   ]
  },
  {
   "cell_type": "code",
   "execution_count": null,
   "metadata": {},
   "outputs": [],
   "source": [
    "sns.lineplot(\n",
    "    data=gdp_trade_pop.loc[gdp_trade_pop['Country']=='Slovenia'],\n",
    "    x='Year',\n",
    "    y='GDP_Per_Capita'\n",
    ")\n"
   ]
  },
  {
   "cell_type": "code",
   "execution_count": null,
   "metadata": {},
   "outputs": [],
   "source": [
    "sns.lineplot(\n",
    "    data=gdp_trade_pop.loc[gdp_trade_pop['Country']=='Slovenia'],\n",
    "    x='Year',\n",
    "    y='Surplus_Deficit_Per_Capita'\n",
    ")"
   ]
  },
  {
   "cell_type": "markdown",
   "metadata": {},
   "source": [
    "After all this: idea to compare the highest GDP and lowest GDP per different continents."
   ]
  },
  {
   "cell_type": "code",
   "execution_count": null,
   "metadata": {},
   "outputs": [],
   "source": [
    "continents = pd.read_csv('../data/continents.csv')"
   ]
  },
  {
   "cell_type": "code",
   "execution_count": null,
   "metadata": {},
   "outputs": [],
   "source": [
    "gdp_trade_pop_continent = pd.merge(gdp_trade_pop, continents, how='inner', on='Country')"
   ]
  },
  {
   "cell_type": "code",
   "execution_count": null,
   "metadata": {},
   "outputs": [],
   "source": [
    "gdp_trade_pop_continent.value_counts('Continent')"
   ]
  },
  {
   "cell_type": "markdown",
   "metadata": {},
   "source": [
    "First of all, create a list of top GDP countries per each continent and bottom GDP countries per each continent (6 in each list)."
   ]
  },
  {
   "cell_type": "code",
   "execution_count": null,
   "metadata": {},
   "outputs": [],
   "source": [
    "gdp_trade_pop_continent.groupby('Continent')['GDP_Per_Capita'].describe()"
   ]
  },
  {
   "cell_type": "markdown",
   "metadata": {},
   "source": [
    "Comment: I knew that they were going to be skewed (with some countries having much higher gdp than others), but something doesn't look right!"
   ]
  },
  {
   "cell_type": "code",
   "execution_count": null,
   "metadata": {},
   "outputs": [],
   "source": [
    "gdp_trade_pop_continent.loc[gdp_trade_pop_continent['Year'] == gdp_trade_pop_continent['Year'].max()].groupby('Continent')['GDP_Per_Capita'].describe()"
   ]
  },
  {
   "cell_type": "code",
   "execution_count": null,
   "metadata": {},
   "outputs": [],
   "source": [
    "gdp_trade_pop_continent.loc[gdp_trade_pop_continent['Year']==2019]"
   ]
  },
  {
   "cell_type": "markdown",
   "metadata": {},
   "source": [
    "## After all this, just realized that trade might not have all the values I need for year 2019 because of various INNER merges!\n",
    "\n",
    "Ok, back to the original gdp_df file, to merge it with continents and see what's up."
   ]
  },
  {
   "cell_type": "code",
   "execution_count": null,
   "metadata": {},
   "outputs": [],
   "source": [
    "gdp_continent = pd.merge(gdp_df, continents, how='inner', on='Country')"
   ]
  },
  {
   "cell_type": "code",
   "execution_count": null,
   "metadata": {},
   "outputs": [],
   "source": [
    "gdp_continent.loc[gdp_continent['Year'] == 2019].groupby('Continent')['GDP_Per_Capita'].describe()"
   ]
  },
  {
   "cell_type": "code",
   "execution_count": null,
   "metadata": {},
   "outputs": [],
   "source": [
    "max_gdp2019 = gdp_continent.loc[(gdp_continent['Year'] == 2019) & (gdp_continent['Country'] != 'Macao SAR, China')].groupby('Continent')['GDP_Per_Capita'].max()\n",
    "max_gdp2019_countries = gdp_continent.loc[gdp_continent['GDP_Per_Capita'].isin(max_gdp2019)]['Country']"
   ]
  },
  {
   "cell_type": "code",
   "execution_count": null,
   "metadata": {},
   "outputs": [],
   "source": [
    "max_gdp2019_countries"
   ]
  },
  {
   "cell_type": "markdown",
   "metadata": {},
   "source": [
    "After checking for countries in the Trade dataset, I realized that most of these don't have a value for 2019 (last one is 2018). And Macao SAR, China is weird, stops at 2016, so excluding that one anyways!\n",
    "\n",
    "After I ridid the same exact as above, except 2018, the same top 6 countries appeared!\n",
    "\n",
    "can check the years with something like this trade.loc[trade['Country'] == 'Ukraine'].sort_values('Year', ascending=False)"
   ]
  },
  {
   "cell_type": "markdown",
   "metadata": {},
   "source": [
    "Haiti only has values until 1997..., Honduraas 2017. For year 2019 Nicaragua has lower gdp than Honduras, and it does go until 2018, so I went with that. Also had to remove Kosovo as it's not in the Trade dataset!"
   ]
  },
  {
   "cell_type": "code",
   "execution_count": null,
   "metadata": {},
   "outputs": [],
   "source": [
    "min_gdp2019 = gdp_continent.loc[(gdp_continent['Year'] == 2019) & (gdp_continent['Country'] != 'Haiti') & (gdp_continent['Country'] != 'Kosovo')].groupby('Continent')['GDP_Per_Capita'].min()\n",
    "min_gdp2019_countries = gdp_continent.loc[gdp_continent['GDP_Per_Capita'].isin(min_gdp2019)]['Country']"
   ]
  },
  {
   "cell_type": "code",
   "execution_count": null,
   "metadata": {},
   "outputs": [],
   "source": [
    "min_gdp2019_countries"
   ]
  },
  {
   "cell_type": "code",
   "execution_count": null,
   "metadata": {},
   "outputs": [],
   "source": [
    "minmax_gdp2019_countries = pd.concat([min_gdp2019_countries, max_gdp2019_countries])"
   ]
  },
  {
   "cell_type": "code",
   "execution_count": null,
   "metadata": {},
   "outputs": [],
   "source": [
    "minmax_gdp2019_countries"
   ]
  },
  {
   "cell_type": "code",
   "execution_count": null,
   "metadata": {},
   "outputs": [],
   "source": [
    "# by using code below, I found out which country was missing and it was Bolivia!\n",
    "population.loc[population['Country'].isin(minmax_gdp2019_countries)].value_counts('Country')"
   ]
  },
  {
   "cell_type": "code",
   "execution_count": null,
   "metadata": {},
   "outputs": [],
   "source": [
    "filtered_gdp_cont = gdp_continent.loc[gdp_continent['Country'].isin(minmax_gdp2019_countries)]"
   ]
  },
  {
   "cell_type": "code",
   "execution_count": null,
   "metadata": {},
   "outputs": [],
   "source": [
    "filtered_gdp_cont_pop = pd.merge(filtered_gdp_cont, population, \"inner\", on=['Country', 'Year'])"
   ]
  },
  {
   "cell_type": "code",
   "execution_count": null,
   "metadata": {},
   "outputs": [],
   "source": [
    "filtered_gdp_cont_pop.info()"
   ]
  },
  {
   "cell_type": "markdown",
   "metadata": {},
   "source": [
    "I want to keep all the years from GDP, so I'll have to left join because trade is missing years"
   ]
  },
  {
   "cell_type": "code",
   "execution_count": null,
   "metadata": {},
   "outputs": [],
   "source": [
    "filtered_gdp_cont_pop_trade = pd.merge(filtered_gdp_cont_pop, trade, 'left', on=['Country', 'Year'])"
   ]
  },
  {
   "cell_type": "code",
   "execution_count": null,
   "metadata": {},
   "outputs": [],
   "source": [
    "filtered_gdp_cont_pop_trade = (\n",
    "    filtered_gdp_cont_pop_trade\n",
    "    .pivot(index=['Country', 'Year', 'GDP_Per_Capita', 'Population'],\n",
    "        columns='Flow',\n",
    "        values='Trade (USD)')\n",
    "    .reset_index()\n",
    "    .rename_axis(None, axis=1)\n",
    "    .fillna(0)\n",
    ")\n",
    "# uh so this is weird, by doing a left join instead of inner, this leaves me with a NaN column that\n",
    "# doesn't want to be dropped using .drop(columns='NaN')"
   ]
  },
  {
   "cell_type": "code",
   "execution_count": null,
   "metadata": {},
   "outputs": [],
   "source": [
    "filtered_gdp_cont_pop_trade['Surplus_Deficit'] = filtered_gdp_cont_pop_trade['Export'] + filtered_gdp_cont_pop_trade['Re-Export'] - filtered_gdp_cont_pop_trade['Import'] - filtered_gdp_cont_pop_trade['Re-Import']\n",
    "filtered_gdp_cont_pop_trade['Export_Per_Capita'] = filtered_gdp_cont_pop_trade['Export'] / filtered_gdp_cont_pop_trade['Population'] \n",
    "filtered_gdp_cont_pop_trade['Import_Per_Capita'] = filtered_gdp_cont_pop_trade['Import'] / filtered_gdp_cont_pop_trade['Population'] \n",
    "filtered_gdp_cont_pop_trade['Re-Export_Per_Capita'] = filtered_gdp_cont_pop_trade['Re-Export'] / filtered_gdp_cont_pop_trade['Population'] \n",
    "filtered_gdp_cont_pop_trade['Re-Import_Per_Capita'] = filtered_gdp_cont_pop_trade['Re-Import'] / filtered_gdp_cont_pop_trade['Population']\n",
    "filtered_gdp_cont_pop_trade['Surplus_Deficit_Per_Capita'] = filtered_gdp_cont_pop_trade['Surplus_Deficit'] / filtered_gdp_cont_pop_trade['Population']"
   ]
  },
  {
   "cell_type": "code",
   "execution_count": null,
   "metadata": {},
   "outputs": [],
   "source": [
    "filtered_gdp_cont_pop_trade.head(5)"
   ]
  },
  {
   "cell_type": "markdown",
   "metadata": {},
   "source": [
    "All is ready for the seaborn plots!!"
   ]
  },
  {
   "cell_type": "code",
   "execution_count": null,
   "metadata": {},
   "outputs": [],
   "source": [
    "g7 = sns.FacetGrid(\n",
    "    filtered_gdp_cont_pop_trade,\n",
    "    col='Country',\n",
    "    col_wrap=4,\n",
    "    hue='Year'\n",
    ")\n",
    "g7.map(sns.scatterplot, 'Surplus_Deficit_Per_Capita', 'GDP_Per_Capita')\n",
    "g7.add_legend()"
   ]
  },
  {
   "cell_type": "code",
   "execution_count": null,
   "metadata": {},
   "outputs": [],
   "source": [
    "g7max = sns.FacetGrid(\n",
    "    filtered_gdp_cont_pop_trade.loc[filtered_gdp_cont_pop_trade['Country'].isin(max_gdp2019_countries)],\n",
    "    col='Country',\n",
    "    col_wrap=3,\n",
    "    hue='Year',\n",
    "    height=6\n",
    ")\n",
    "g7max.map(sns.scatterplot, 'Surplus_Deficit_Per_Capita', 'GDP_Per_Capita')\n",
    "g7max.add_legend()"
   ]
  },
  {
   "cell_type": "code",
   "execution_count": null,
   "metadata": {},
   "outputs": [],
   "source": [
    "g7min = sns.FacetGrid(\n",
    "    filtered_gdp_cont_pop_trade.loc[filtered_gdp_cont_pop_trade['Country'].isin(min_gdp2019_countries)],\n",
    "    col='Country',\n",
    "    col_wrap=3,\n",
    "    hue='Year',\n",
    "    height=6\n",
    ")\n",
    "g7min.map(sns.scatterplot, 'Surplus_Deficit_Per_Capita', 'GDP_Per_Capita')\n",
    "g7min.add_legend()"
   ]
  },
  {
   "cell_type": "code",
   "execution_count": null,
   "metadata": {},
   "outputs": [],
   "source": [
    "g8 = sns.FacetGrid(\n",
    "    filtered_gdp_cont_pop_trade,\n",
    "    col='Country',\n",
    "    col_wrap=4\n",
    ")\n",
    "g8.map(sns.scatterplot, 'Year', 'GDP_Per_Capita')\n",
    "g8.add_legend()"
   ]
  },
  {
   "cell_type": "code",
   "execution_count": null,
   "metadata": {},
   "outputs": [],
   "source": [
    "g9 = sns.FacetGrid(\n",
    "    filtered_gdp_cont_pop_trade,\n",
    "    col='Country',\n",
    "    col_wrap=4\n",
    ")\n",
    "g9.map(sns.scatterplot, 'Year', 'Surplus_Deficit_Per_Capita')\n",
    "g9.add_legend()"
   ]
  },
  {
   "cell_type": "code",
   "execution_count": null,
   "metadata": {},
   "outputs": [],
   "source": [
    "fig1 = px.line(filtered_gdp_cont_pop_trade.loc[filtered_gdp_cont_pop_trade['Country'].isin(max_gdp2019_countries)], x='Year', y='GDP_Per_Capita', color='Country', symbol=\"Country\")\n",
    "fig1.show()"
   ]
  },
  {
   "cell_type": "code",
   "execution_count": null,
   "metadata": {},
   "outputs": [],
   "source": [
    "fig2 = px.line(filtered_gdp_cont_pop_trade.loc[filtered_gdp_cont_pop_trade['Country'].isin(min_gdp2019_countries)], x='Year', y='GDP_Per_Capita', color='Country', symbol=\"Country\")\n",
    "fig2.show()"
   ]
  },
  {
   "cell_type": "code",
   "execution_count": null,
   "metadata": {},
   "outputs": [],
   "source": [
    "fig3 = px.line(filtered_gdp_cont_pop_trade.loc[filtered_gdp_cont_pop_trade['Country'].isin(max_gdp2019_countries)], x='Year', y='Surplus_Deficit_Per_Capita', color='Country', symbol=\"Country\")\n",
    "fig3.show()"
   ]
  },
  {
   "cell_type": "code",
   "execution_count": null,
   "metadata": {},
   "outputs": [],
   "source": [
    "fig4 = px.line(filtered_gdp_cont_pop_trade.loc[filtered_gdp_cont_pop_trade['Country'].isin(min_gdp2019_countries)], x='Year', y='Surplus_Deficit_Per_Capita', color='Country', symbol=\"Country\")\n",
    "fig4.show()"
   ]
  },
  {
   "cell_type": "markdown",
   "metadata": {},
   "source": [
    "Looking at the two graphs above: it is interesting how for the top GDP countries, the surplus (or lack thereoff) oscilates in larger values - up to 20 Million in USD. For poorest GDP countries it is contained within a Million"
   ]
  },
  {
   "cell_type": "code",
   "execution_count": null,
   "metadata": {},
   "outputs": [],
   "source": [
    "fig5 = px.scatter(filtered_gdp_cont_pop_trade.loc[filtered_gdp_cont_pop_trade['Country'] == 'Luxembourg'], x='Surplus_Deficit_Per_Capita', y='GDP_Per_Capita', color='Year')\n",
    "fig5.show()"
   ]
  },
  {
   "cell_type": "markdown",
   "metadata": {},
   "source": [
    "alright, let's do the above in a function!"
   ]
  },
  {
   "cell_type": "code",
   "execution_count": null,
   "metadata": {},
   "outputs": [],
   "source": [
    "def gd"
   ]
  }
 ],
 "metadata": {
  "kernelspec": {
   "display_name": "Python 3.9.12 ('base')",
   "language": "python",
   "name": "python3"
  },
  "language_info": {
   "codemirror_mode": {
    "name": "ipython",
    "version": 3
   },
   "file_extension": ".py",
   "mimetype": "text/x-python",
   "name": "python",
   "nbconvert_exporter": "python",
   "pygments_lexer": "ipython3",
   "version": "3.9.12"
  },
  "orig_nbformat": 4,
  "vscode": {
   "interpreter": {
    "hash": "8ae6d9166a6324ec8fca68373a3fb6f0a0d010f541edaf8017d36667030d4460"
   }
  }
 },
 "nbformat": 4,
 "nbformat_minor": 2
}
