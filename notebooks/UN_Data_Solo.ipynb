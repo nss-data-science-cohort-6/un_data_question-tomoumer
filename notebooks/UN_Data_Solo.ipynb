{
 "cells": [
  {
   "cell_type": "markdown",
   "metadata": {},
   "source": [
    "## Solo Exploration and Presentation:\n",
    "\n",
    "available on: https://github.com/nss-data-science-cohort-6/un_data_question-tomoumer"
   ]
  },
  {
   "cell_type": "markdown",
   "metadata": {},
   "source": [
    "1. Choose and download another data set from the UN data http://data.un.org/Explorer.aspx to explore. You may want to combine your new dataset with one or both of the datasets that you already worked with. Prepare a short (< 5 minute) presentation of your findings. Report any interesting correlations or trends that you find.\n",
    "\n",
    "2. If time allows, check out the plotly library to add additional interativity to your plots. https://plotly.com/python/plotly-express/."
   ]
  },
  {
   "cell_type": "code",
   "execution_count": 1,
   "metadata": {},
   "outputs": [],
   "source": [
    "import pandas as pd\n",
    "import numpy as np\n",
    "import matplotlib.pyplot as plt\n",
    "import seaborn as sns"
   ]
  },
  {
   "cell_type": "code",
   "execution_count": 2,
   "metadata": {},
   "outputs": [],
   "source": [
    "gdp_df = pd.read_csv('../data/gdp_per_capita.csv', skipfooter=2, engine='python')"
   ]
  },
  {
   "cell_type": "code",
   "execution_count": 3,
   "metadata": {},
   "outputs": [],
   "source": [
    "gdp_df = (gdp_df\n",
    "    .drop(columns='Value Footnotes')\n",
    "    .rename(columns={'Country or Area': 'Country', 'Value': 'GDP_Per_Capita'})\n",
    "    ) "
   ]
  },
  {
   "cell_type": "code",
   "execution_count": 5,
   "metadata": {},
   "outputs": [],
   "source": [
    "trade = pd.read_csv('../data/tradeofgoods.csv')"
   ]
  },
  {
   "cell_type": "code",
   "execution_count": 6,
   "metadata": {},
   "outputs": [],
   "source": [
    "trade = (\n",
    "    trade\n",
    "    .rename(columns = {'Country or Area' : 'Country'})\n",
    "    .drop(columns = ['Commodity', 'Weight (kg)', 'Quantity Name', 'Quantity'])\n",
    ")\n",
    "trade['Country'] = trade['Country'].str.replace('USA', 'United States')"
   ]
  },
  {
   "cell_type": "code",
   "execution_count": 7,
   "metadata": {},
   "outputs": [],
   "source": [
    "gdp_trade = pd.merge(gdp_df, trade, \"inner\", on=['Country', 'Year'])"
   ]
  },
  {
   "cell_type": "code",
   "execution_count": 8,
   "metadata": {},
   "outputs": [
    {
     "data": {
      "text/html": [
       "<div>\n",
       "<style scoped>\n",
       "    .dataframe tbody tr th:only-of-type {\n",
       "        vertical-align: middle;\n",
       "    }\n",
       "\n",
       "    .dataframe tbody tr th {\n",
       "        vertical-align: top;\n",
       "    }\n",
       "\n",
       "    .dataframe thead th {\n",
       "        text-align: right;\n",
       "    }\n",
       "</style>\n",
       "<table border=\"1\" class=\"dataframe\">\n",
       "  <thead>\n",
       "    <tr style=\"text-align: right;\">\n",
       "      <th></th>\n",
       "      <th>Country</th>\n",
       "      <th>Year</th>\n",
       "      <th>GDP_Per_Capita</th>\n",
       "      <th>Flow</th>\n",
       "      <th>Trade (USD)</th>\n",
       "    </tr>\n",
       "  </thead>\n",
       "  <tbody>\n",
       "    <tr>\n",
       "      <th>3544</th>\n",
       "      <td>Italy</td>\n",
       "      <td>2018</td>\n",
       "      <td>42187.824116</td>\n",
       "      <td>Import</td>\n",
       "      <td>5.035811e+11</td>\n",
       "    </tr>\n",
       "    <tr>\n",
       "      <th>3545</th>\n",
       "      <td>Italy</td>\n",
       "      <td>2018</td>\n",
       "      <td>42187.824116</td>\n",
       "      <td>Export</td>\n",
       "      <td>5.499070e+11</td>\n",
       "    </tr>\n",
       "    <tr>\n",
       "      <th>3546</th>\n",
       "      <td>Italy</td>\n",
       "      <td>2018</td>\n",
       "      <td>42187.824116</td>\n",
       "      <td>Re-Export</td>\n",
       "      <td>2.385311e+10</td>\n",
       "    </tr>\n",
       "    <tr>\n",
       "      <th>3547</th>\n",
       "      <td>Italy</td>\n",
       "      <td>2018</td>\n",
       "      <td>42187.824116</td>\n",
       "      <td>Re-Import</td>\n",
       "      <td>4.986970e+09</td>\n",
       "    </tr>\n",
       "    <tr>\n",
       "      <th>3548</th>\n",
       "      <td>Italy</td>\n",
       "      <td>2017</td>\n",
       "      <td>41713.900017</td>\n",
       "      <td>Import</td>\n",
       "      <td>4.535830e+11</td>\n",
       "    </tr>\n",
       "    <tr>\n",
       "      <th>...</th>\n",
       "      <td>...</td>\n",
       "      <td>...</td>\n",
       "      <td>...</td>\n",
       "      <td>...</td>\n",
       "      <td>...</td>\n",
       "    </tr>\n",
       "    <tr>\n",
       "      <th>7620</th>\n",
       "      <td>United States</td>\n",
       "      <td>1992</td>\n",
       "      <td>40698.340183</td>\n",
       "      <td>Export</td>\n",
       "      <td>4.473301e+11</td>\n",
       "    </tr>\n",
       "    <tr>\n",
       "      <th>7621</th>\n",
       "      <td>United States</td>\n",
       "      <td>1992</td>\n",
       "      <td>40698.340183</td>\n",
       "      <td>Re-Export</td>\n",
       "      <td>2.245862e+10</td>\n",
       "    </tr>\n",
       "    <tr>\n",
       "      <th>7622</th>\n",
       "      <td>United States</td>\n",
       "      <td>1991</td>\n",
       "      <td>39862.575565</td>\n",
       "      <td>Import</td>\n",
       "      <td>5.089440e+11</td>\n",
       "    </tr>\n",
       "    <tr>\n",
       "      <th>7623</th>\n",
       "      <td>United States</td>\n",
       "      <td>1991</td>\n",
       "      <td>39862.575565</td>\n",
       "      <td>Export</td>\n",
       "      <td>4.215554e+11</td>\n",
       "    </tr>\n",
       "    <tr>\n",
       "      <th>7624</th>\n",
       "      <td>United States</td>\n",
       "      <td>1991</td>\n",
       "      <td>39862.575565</td>\n",
       "      <td>Re-Export</td>\n",
       "      <td>2.057163e+10</td>\n",
       "    </tr>\n",
       "  </tbody>\n",
       "</table>\n",
       "<p>212 rows × 5 columns</p>\n",
       "</div>"
      ],
      "text/plain": [
       "            Country  Year  GDP_Per_Capita       Flow   Trade (USD)\n",
       "3544          Italy  2018    42187.824116     Import  5.035811e+11\n",
       "3545          Italy  2018    42187.824116     Export  5.499070e+11\n",
       "3546          Italy  2018    42187.824116  Re-Export  2.385311e+10\n",
       "3547          Italy  2018    42187.824116  Re-Import  4.986970e+09\n",
       "3548          Italy  2017    41713.900017     Import  4.535830e+11\n",
       "...             ...   ...             ...        ...           ...\n",
       "7620  United States  1992    40698.340183     Export  4.473301e+11\n",
       "7621  United States  1992    40698.340183  Re-Export  2.245862e+10\n",
       "7622  United States  1991    39862.575565     Import  5.089440e+11\n",
       "7623  United States  1991    39862.575565     Export  4.215554e+11\n",
       "7624  United States  1991    39862.575565  Re-Export  2.057163e+10\n",
       "\n",
       "[212 rows x 5 columns]"
      ]
     },
     "execution_count": 8,
     "metadata": {},
     "output_type": "execute_result"
    }
   ],
   "source": [
    "gdp_trade.loc[gdp_trade['Country'].isin(['Slovenia', 'Italy', 'United States'])]"
   ]
  },
  {
   "cell_type": "code",
   "execution_count": 10,
   "metadata": {},
   "outputs": [
    {
     "data": {
      "text/plain": [
       "<seaborn.axisgrid.FacetGrid at 0x7f85c3575cd0>"
      ]
     },
     "execution_count": 10,
     "metadata": {},
     "output_type": "execute_result"
    },
    {
     "data": {
      "image/png": "[encoded data removed]",
      "text/plain": [
       "<Figure size 948.875x216 with 4 Axes>"
      ]
     },
     "metadata": {
      "needs_background": "light"
     },
     "output_type": "display_data"
    }
   ],
   "source": [
    "fg = sns.FacetGrid(\n",
    "    gdp_trade.loc[gdp_trade['Country'].isin(['Slovenia', 'Italy', 'United States', 'China'])],\n",
    "    col='Country',\n",
    "    hue='Flow'\n",
    ")\n",
    "fg.map(sns.scatterplot, 'Year', 'Trade (USD)')\n",
    "fg.add_legend()"
   ]
  },
  {
   "cell_type": "markdown",
   "metadata": {},
   "source": [
    "Comment on above graphs: Slo's trade is ofc negligible compared to US. What's interesting though is that Italy seems to be oscillating around the same value, while the US is consistently on the rise, though the imports are outpacing the exports. China instead is exporting more than importing."
   ]
  },
  {
   "cell_type": "code",
   "execution_count": null,
   "metadata": {},
   "outputs": [],
   "source": []
  }
 ],
 "metadata": {
  "kernelspec": {
   "display_name": "Python 3.9.12 ('base')",
   "language": "python",
   "name": "python3"
  },
  "language_info": {
   "codemirror_mode": {
    "name": "ipython",
    "version": 3
   },
   "file_extension": ".py",
   "mimetype": "text/x-python",
   "name": "python",
   "nbconvert_exporter": "python",
   "pygments_lexer": "ipython3",
   "version": "3.9.12"
  },
  "orig_nbformat": 4,
  "vscode": {
   "interpreter": {
    "hash": "8ae6d9166a6324ec8fca68373a3fb6f0a0d010f541edaf8017d36667030d4460"
   }
  }
 },
 "nbformat": 4,
 "nbformat_minor": 2
}
