{
 "cells": [
  {
   "cell_type": "markdown",
   "metadata": {},
   "source": [
    "## Solo Exploration and Presentation:\n",
    "\n",
    "available on: https://github.com/nss-data-science-cohort-6/un_data_question-tomoumer"
   ]
  },
  {
   "cell_type": "markdown",
   "metadata": {},
   "source": [
    "1. Choose and download another data set from the UN data http://data.un.org/Explorer.aspx to explore. You may want to combine your new dataset with one or both of the datasets that you already worked with. Prepare a short (< 5 minute) presentation of your findings. Report any interesting correlations or trends that you find.\n",
    "\n",
    "2. If time allows, check out the plotly library to add additional interativity to your plots. https://plotly.com/python/plotly-express/."
   ]
  },
  {
   "cell_type": "code",
   "execution_count": 62,
   "metadata": {},
   "outputs": [],
   "source": [
    "import pandas as pd\n",
    "import numpy as np\n",
    "import matplotlib.pyplot as plt\n",
    "import seaborn as sns\n",
    "import plotly.express as px"
   ]
  },
  {
   "cell_type": "code",
   "execution_count": 2,
   "metadata": {},
   "outputs": [],
   "source": [
    "gdp_df = pd.read_csv('../data/gdp_per_capita.csv', skipfooter=2, engine='python')"
   ]
  },
  {
   "cell_type": "code",
   "execution_count": 3,
   "metadata": {},
   "outputs": [],
   "source": [
    "gdp_df = (gdp_df\n",
    "    .drop(columns='Value Footnotes')\n",
    "    .rename(columns={'Country or Area': 'Country', 'Value': 'GDP_Per_Capita'})\n",
    "    ) "
   ]
  },
  {
   "cell_type": "code",
   "execution_count": 4,
   "metadata": {},
   "outputs": [],
   "source": [
    "trade = pd.read_csv('../data/tradeofgoods.csv')"
   ]
  },
  {
   "cell_type": "code",
   "execution_count": 5,
   "metadata": {},
   "outputs": [],
   "source": [
    "trade = (\n",
    "    trade\n",
    "    .rename(columns = {'Country or Area' : 'Country'})\n",
    "    .drop(columns = ['Commodity', 'Weight (kg)', 'Quantity Name', 'Quantity'])\n",
    ")\n",
    "trade['Country'] = trade['Country'].str.replace('USA', 'United States')\n",
    "trade['Country'] = trade['Country'].str.replace('Brunei Darussalam', 'Brunei')\n",
    "trade['Country'] = trade['Country'].str.replace(r'Bolivia.+', 'Bolivia', regex=True)\n",
    "# note: had to use regex to rename Bolivia, because the parenthesis messed up the string Bolivia (Plurinational State of)"
   ]
  },
  {
   "cell_type": "code",
   "execution_count": 6,
   "metadata": {},
   "outputs": [],
   "source": [
    "gdp_trade = pd.merge(gdp_df, trade, \"inner\", on=['Country', 'Year'])"
   ]
  },
  {
   "cell_type": "code",
   "execution_count": 7,
   "metadata": {},
   "outputs": [
    {
     "data": {
      "text/html": [
       "<div>\n",
       "<style scoped>\n",
       "    .dataframe tbody tr th:only-of-type {\n",
       "        vertical-align: middle;\n",
       "    }\n",
       "\n",
       "    .dataframe tbody tr th {\n",
       "        vertical-align: top;\n",
       "    }\n",
       "\n",
       "    .dataframe thead th {\n",
       "        text-align: right;\n",
       "    }\n",
       "</style>\n",
       "<table border=\"1\" class=\"dataframe\">\n",
       "  <thead>\n",
       "    <tr style=\"text-align: right;\">\n",
       "      <th></th>\n",
       "      <th>Country</th>\n",
       "      <th>Year</th>\n",
       "      <th>GDP_Per_Capita</th>\n",
       "      <th>Flow</th>\n",
       "      <th>Trade (USD)</th>\n",
       "    </tr>\n",
       "  </thead>\n",
       "  <tbody>\n",
       "    <tr>\n",
       "      <th>3656</th>\n",
       "      <td>Italy</td>\n",
       "      <td>2018</td>\n",
       "      <td>42187.824116</td>\n",
       "      <td>Import</td>\n",
       "      <td>5.035811e+11</td>\n",
       "    </tr>\n",
       "    <tr>\n",
       "      <th>3657</th>\n",
       "      <td>Italy</td>\n",
       "      <td>2018</td>\n",
       "      <td>42187.824116</td>\n",
       "      <td>Export</td>\n",
       "      <td>5.499070e+11</td>\n",
       "    </tr>\n",
       "    <tr>\n",
       "      <th>3658</th>\n",
       "      <td>Italy</td>\n",
       "      <td>2018</td>\n",
       "      <td>42187.824116</td>\n",
       "      <td>Re-Export</td>\n",
       "      <td>2.385311e+10</td>\n",
       "    </tr>\n",
       "    <tr>\n",
       "      <th>3659</th>\n",
       "      <td>Italy</td>\n",
       "      <td>2018</td>\n",
       "      <td>42187.824116</td>\n",
       "      <td>Re-Import</td>\n",
       "      <td>4.986970e+09</td>\n",
       "    </tr>\n",
       "    <tr>\n",
       "      <th>3660</th>\n",
       "      <td>Italy</td>\n",
       "      <td>2017</td>\n",
       "      <td>41713.900017</td>\n",
       "      <td>Import</td>\n",
       "      <td>4.535830e+11</td>\n",
       "    </tr>\n",
       "    <tr>\n",
       "      <th>...</th>\n",
       "      <td>...</td>\n",
       "      <td>...</td>\n",
       "      <td>...</td>\n",
       "      <td>...</td>\n",
       "      <td>...</td>\n",
       "    </tr>\n",
       "    <tr>\n",
       "      <th>7732</th>\n",
       "      <td>United States</td>\n",
       "      <td>1992</td>\n",
       "      <td>40698.340183</td>\n",
       "      <td>Export</td>\n",
       "      <td>4.473301e+11</td>\n",
       "    </tr>\n",
       "    <tr>\n",
       "      <th>7733</th>\n",
       "      <td>United States</td>\n",
       "      <td>1992</td>\n",
       "      <td>40698.340183</td>\n",
       "      <td>Re-Export</td>\n",
       "      <td>2.245862e+10</td>\n",
       "    </tr>\n",
       "    <tr>\n",
       "      <th>7734</th>\n",
       "      <td>United States</td>\n",
       "      <td>1991</td>\n",
       "      <td>39862.575565</td>\n",
       "      <td>Import</td>\n",
       "      <td>5.089440e+11</td>\n",
       "    </tr>\n",
       "    <tr>\n",
       "      <th>7735</th>\n",
       "      <td>United States</td>\n",
       "      <td>1991</td>\n",
       "      <td>39862.575565</td>\n",
       "      <td>Export</td>\n",
       "      <td>4.215554e+11</td>\n",
       "    </tr>\n",
       "    <tr>\n",
       "      <th>7736</th>\n",
       "      <td>United States</td>\n",
       "      <td>1991</td>\n",
       "      <td>39862.575565</td>\n",
       "      <td>Re-Export</td>\n",
       "      <td>2.057163e+10</td>\n",
       "    </tr>\n",
       "  </tbody>\n",
       "</table>\n",
       "<p>212 rows × 5 columns</p>\n",
       "</div>"
      ],
      "text/plain": [
       "            Country  Year  GDP_Per_Capita       Flow   Trade (USD)\n",
       "3656          Italy  2018    42187.824116     Import  5.035811e+11\n",
       "3657          Italy  2018    42187.824116     Export  5.499070e+11\n",
       "3658          Italy  2018    42187.824116  Re-Export  2.385311e+10\n",
       "3659          Italy  2018    42187.824116  Re-Import  4.986970e+09\n",
       "3660          Italy  2017    41713.900017     Import  4.535830e+11\n",
       "...             ...   ...             ...        ...           ...\n",
       "7732  United States  1992    40698.340183     Export  4.473301e+11\n",
       "7733  United States  1992    40698.340183  Re-Export  2.245862e+10\n",
       "7734  United States  1991    39862.575565     Import  5.089440e+11\n",
       "7735  United States  1991    39862.575565     Export  4.215554e+11\n",
       "7736  United States  1991    39862.575565  Re-Export  2.057163e+10\n",
       "\n",
       "[212 rows x 5 columns]"
      ]
     },
     "execution_count": 7,
     "metadata": {},
     "output_type": "execute_result"
    }
   ],
   "source": [
    "gdp_trade.loc[gdp_trade['Country'].isin(['Slovenia', 'Italy', 'United States'])]"
   ]
  },
  {
   "cell_type": "code",
   "execution_count": 8,
   "metadata": {},
   "outputs": [
    {
     "data": {
      "text/plain": [
       "<seaborn.axisgrid.FacetGrid at 0x7fb6e2d09220>"
      ]
     },
     "execution_count": 8,
     "metadata": {},
     "output_type": "execute_result"
    },
    {
     "data": {
      "image/png": "[encoded data removed]",
      "text/plain": [
       "<Figure size 948.875x216 with 4 Axes>"
      ]
     },
     "metadata": {
      "needs_background": "light"
     },
     "output_type": "display_data"
    }
   ],
   "source": [
    "g1 = sns.FacetGrid(\n",
    "    gdp_trade.loc[gdp_trade['Country'].isin(['Slovenia', 'Italy', 'United States', 'China'])],\n",
    "    col='Country',\n",
    "    hue='Flow'\n",
    ")\n",
    "g1.map(sns.scatterplot, 'Year', 'Trade (USD)')\n",
    "g1.add_legend()"
   ]
  },
  {
   "cell_type": "markdown",
   "metadata": {},
   "source": [
    "Comment on above graphs: Slo's trade is ofc negligible compared to US. What's interesting though is that Italy seems to be oscillating around the same value, while the US is consistently on the rise, though the imports are outpacing the exports. China instead is exporting more than importing."
   ]
  },
  {
   "cell_type": "markdown",
   "metadata": {},
   "source": [
    "Idea: look at top 10 countries with highest GDP and check different statistics for them"
   ]
  },
  {
   "cell_type": "code",
   "execution_count": 9,
   "metadata": {},
   "outputs": [
    {
     "data": {
      "text/html": [
       "<div>\n",
       "<style scoped>\n",
       "    .dataframe tbody tr th:only-of-type {\n",
       "        vertical-align: middle;\n",
       "    }\n",
       "\n",
       "    .dataframe tbody tr th {\n",
       "        vertical-align: top;\n",
       "    }\n",
       "\n",
       "    .dataframe thead th {\n",
       "        text-align: right;\n",
       "    }\n",
       "</style>\n",
       "<table border=\"1\" class=\"dataframe\">\n",
       "  <thead>\n",
       "    <tr style=\"text-align: right;\">\n",
       "      <th></th>\n",
       "      <th>Country</th>\n",
       "      <th>Year</th>\n",
       "      <th>GDP_Per_Capita</th>\n",
       "    </tr>\n",
       "  </thead>\n",
       "  <tbody>\n",
       "    <tr>\n",
       "      <th>0</th>\n",
       "      <td>Afghanistan</td>\n",
       "      <td>2019</td>\n",
       "      <td>2065.036398</td>\n",
       "    </tr>\n",
       "    <tr>\n",
       "      <th>1</th>\n",
       "      <td>Afghanistan</td>\n",
       "      <td>2018</td>\n",
       "      <td>2033.779002</td>\n",
       "    </tr>\n",
       "    <tr>\n",
       "      <th>2</th>\n",
       "      <td>Afghanistan</td>\n",
       "      <td>2017</td>\n",
       "      <td>2058.383832</td>\n",
       "    </tr>\n",
       "    <tr>\n",
       "      <th>3</th>\n",
       "      <td>Afghanistan</td>\n",
       "      <td>2016</td>\n",
       "      <td>2057.062164</td>\n",
       "    </tr>\n",
       "    <tr>\n",
       "      <th>4</th>\n",
       "      <td>Afghanistan</td>\n",
       "      <td>2015</td>\n",
       "      <td>2068.265904</td>\n",
       "    </tr>\n",
       "  </tbody>\n",
       "</table>\n",
       "</div>"
      ],
      "text/plain": [
       "       Country  Year  GDP_Per_Capita\n",
       "0  Afghanistan  2019     2065.036398\n",
       "1  Afghanistan  2018     2033.779002\n",
       "2  Afghanistan  2017     2058.383832\n",
       "3  Afghanistan  2016     2057.062164\n",
       "4  Afghanistan  2015     2068.265904"
      ]
     },
     "execution_count": 9,
     "metadata": {},
     "output_type": "execute_result"
    }
   ],
   "source": [
    "gdp_df.head()"
   ]
  },
  {
   "cell_type": "code",
   "execution_count": 10,
   "metadata": {},
   "outputs": [
    {
     "data": {
      "text/html": [
       "<div>\n",
       "<style scoped>\n",
       "    .dataframe tbody tr th:only-of-type {\n",
       "        vertical-align: middle;\n",
       "    }\n",
       "\n",
       "    .dataframe tbody tr th {\n",
       "        vertical-align: top;\n",
       "    }\n",
       "\n",
       "    .dataframe thead th {\n",
       "        text-align: right;\n",
       "    }\n",
       "</style>\n",
       "<table border=\"1\" class=\"dataframe\">\n",
       "  <thead>\n",
       "    <tr style=\"text-align: right;\">\n",
       "      <th></th>\n",
       "      <th>Country</th>\n",
       "      <th>Year</th>\n",
       "      <th>GDP_Per_Capita</th>\n",
       "    </tr>\n",
       "  </thead>\n",
       "  <tbody>\n",
       "    <tr>\n",
       "      <th>3716</th>\n",
       "      <td>Macao SAR, China</td>\n",
       "      <td>2019</td>\n",
       "      <td>123965.286432</td>\n",
       "    </tr>\n",
       "    <tr>\n",
       "      <th>3686</th>\n",
       "      <td>Luxembourg</td>\n",
       "      <td>2019</td>\n",
       "      <td>114304.044210</td>\n",
       "    </tr>\n",
       "    <tr>\n",
       "      <th>5459</th>\n",
       "      <td>Singapore</td>\n",
       "      <td>2019</td>\n",
       "      <td>97341.468645</td>\n",
       "    </tr>\n",
       "    <tr>\n",
       "      <th>5133</th>\n",
       "      <td>Qatar</td>\n",
       "      <td>2019</td>\n",
       "      <td>90043.926180</td>\n",
       "    </tr>\n",
       "    <tr>\n",
       "      <th>2890</th>\n",
       "      <td>Ireland</td>\n",
       "      <td>2019</td>\n",
       "      <td>86826.335102</td>\n",
       "    </tr>\n",
       "    <tr>\n",
       "      <th>556</th>\n",
       "      <td>Bermuda</td>\n",
       "      <td>2019</td>\n",
       "      <td>81658.613276</td>\n",
       "    </tr>\n",
       "    <tr>\n",
       "      <th>6034</th>\n",
       "      <td>Switzerland</td>\n",
       "      <td>2019</td>\n",
       "      <td>68390.712985</td>\n",
       "    </tr>\n",
       "    <tr>\n",
       "      <th>6512</th>\n",
       "      <td>United Arab Emirates</td>\n",
       "      <td>2019</td>\n",
       "      <td>67119.132637</td>\n",
       "    </tr>\n",
       "    <tr>\n",
       "      <th>4643</th>\n",
       "      <td>Norway</td>\n",
       "      <td>2019</td>\n",
       "      <td>64962.262266</td>\n",
       "    </tr>\n",
       "    <tr>\n",
       "      <th>6572</th>\n",
       "      <td>United States</td>\n",
       "      <td>2019</td>\n",
       "      <td>62530.389595</td>\n",
       "    </tr>\n",
       "    <tr>\n",
       "      <th>732</th>\n",
       "      <td>Brunei</td>\n",
       "      <td>2019</td>\n",
       "      <td>62099.587889</td>\n",
       "    </tr>\n",
       "  </tbody>\n",
       "</table>\n",
       "</div>"
      ],
      "text/plain": [
       "                   Country  Year  GDP_Per_Capita\n",
       "3716      Macao SAR, China  2019   123965.286432\n",
       "3686            Luxembourg  2019   114304.044210\n",
       "5459             Singapore  2019    97341.468645\n",
       "5133                 Qatar  2019    90043.926180\n",
       "2890               Ireland  2019    86826.335102\n",
       "556                Bermuda  2019    81658.613276\n",
       "6034           Switzerland  2019    68390.712985\n",
       "6512  United Arab Emirates  2019    67119.132637\n",
       "4643                Norway  2019    64962.262266\n",
       "6572         United States  2019    62530.389595\n",
       "732                 Brunei  2019    62099.587889"
      ]
     },
     "execution_count": 10,
     "metadata": {},
     "output_type": "execute_result"
    }
   ],
   "source": [
    "(gdp_df\n",
    "    .loc[gdp_df['Year'] == gdp_df['Year'].max()]\n",
    "    .sort_values('GDP_Per_Capita', ascending=False)\n",
    "    .head(11)\n",
    ")"
   ]
  },
  {
   "cell_type": "markdown",
   "metadata": {},
   "source": [
    "I selected top 11 countries for the last year available (2019) sorted from highest GDP_Per_Capita to lowest. The reason I did top 11 is because Macao SAR, China is technically a self-governing(*ish) City, so I haven't decided if I'm going to include it or exclude for further comparisons. Below the top 10 for comparison."
   ]
  },
  {
   "cell_type": "code",
   "execution_count": 11,
   "metadata": {},
   "outputs": [
    {
     "data": {
      "text/html": [
       "<div>\n",
       "<style scoped>\n",
       "    .dataframe tbody tr th:only-of-type {\n",
       "        vertical-align: middle;\n",
       "    }\n",
       "\n",
       "    .dataframe tbody tr th {\n",
       "        vertical-align: top;\n",
       "    }\n",
       "\n",
       "    .dataframe thead th {\n",
       "        text-align: right;\n",
       "    }\n",
       "</style>\n",
       "<table border=\"1\" class=\"dataframe\">\n",
       "  <thead>\n",
       "    <tr style=\"text-align: right;\">\n",
       "      <th></th>\n",
       "      <th>Country</th>\n",
       "      <th>Year</th>\n",
       "      <th>GDP_Per_Capita</th>\n",
       "    </tr>\n",
       "  </thead>\n",
       "  <tbody>\n",
       "    <tr>\n",
       "      <th>3746</th>\n",
       "      <td>Madagascar</td>\n",
       "      <td>2019</td>\n",
       "      <td>1647.021160</td>\n",
       "    </tr>\n",
       "    <tr>\n",
       "      <th>6234</th>\n",
       "      <td>Togo</td>\n",
       "      <td>2019</td>\n",
       "      <td>1596.644938</td>\n",
       "    </tr>\n",
       "    <tr>\n",
       "      <th>1102</th>\n",
       "      <td>Chad</td>\n",
       "      <td>2019</td>\n",
       "      <td>1579.626695</td>\n",
       "    </tr>\n",
       "    <tr>\n",
       "      <th>3530</th>\n",
       "      <td>Liberia</td>\n",
       "      <td>2019</td>\n",
       "      <td>1427.819090</td>\n",
       "    </tr>\n",
       "    <tr>\n",
       "      <th>4297</th>\n",
       "      <td>Mozambique</td>\n",
       "      <td>2019</td>\n",
       "      <td>1281.391836</td>\n",
       "    </tr>\n",
       "    <tr>\n",
       "      <th>4523</th>\n",
       "      <td>Niger</td>\n",
       "      <td>2019</td>\n",
       "      <td>1224.510472</td>\n",
       "    </tr>\n",
       "    <tr>\n",
       "      <th>1417</th>\n",
       "      <td>Dem. Rep. Congo</td>\n",
       "      <td>2019</td>\n",
       "      <td>1097.948853</td>\n",
       "    </tr>\n",
       "    <tr>\n",
       "      <th>3776</th>\n",
       "      <td>Malawi</td>\n",
       "      <td>2019</td>\n",
       "      <td>1059.723490</td>\n",
       "    </tr>\n",
       "    <tr>\n",
       "      <th>1042</th>\n",
       "      <td>Central African Republic</td>\n",
       "      <td>2019</td>\n",
       "      <td>944.868093</td>\n",
       "    </tr>\n",
       "    <tr>\n",
       "      <th>822</th>\n",
       "      <td>Burundi</td>\n",
       "      <td>2019</td>\n",
       "      <td>751.663957</td>\n",
       "    </tr>\n",
       "  </tbody>\n",
       "</table>\n",
       "</div>"
      ],
      "text/plain": [
       "                       Country  Year  GDP_Per_Capita\n",
       "3746                Madagascar  2019     1647.021160\n",
       "6234                      Togo  2019     1596.644938\n",
       "1102                      Chad  2019     1579.626695\n",
       "3530                   Liberia  2019     1427.819090\n",
       "4297                Mozambique  2019     1281.391836\n",
       "4523                     Niger  2019     1224.510472\n",
       "1417           Dem. Rep. Congo  2019     1097.948853\n",
       "3776                    Malawi  2019     1059.723490\n",
       "1042  Central African Republic  2019      944.868093\n",
       "822                    Burundi  2019      751.663957"
      ]
     },
     "execution_count": 11,
     "metadata": {},
     "output_type": "execute_result"
    }
   ],
   "source": [
    "(gdp_df\n",
    "    .loc[gdp_df['Year'] == gdp_df['Year'].max()]\n",
    "    .sort_values('GDP_Per_Capita', ascending=False)\n",
    "    .tail(10)\n",
    ")"
   ]
  },
  {
   "cell_type": "code",
   "execution_count": 12,
   "metadata": {},
   "outputs": [],
   "source": [
    "top10_gdp = (gdp_df\n",
    "    .loc[\n",
    "        (gdp_df['Year'] == gdp_df['Year'].max()) &\n",
    "        (gdp_df['Country'] != 'Macao SAR, China')\n",
    "        ]\n",
    "    .sort_values('GDP_Per_Capita', ascending=False)\n",
    "    .head(10)['Country']\n",
    ")"
   ]
  },
  {
   "cell_type": "code",
   "execution_count": 13,
   "metadata": {},
   "outputs": [
    {
     "data": {
      "text/plain": [
       "<seaborn.axisgrid.FacetGrid at 0x7fb6b03ad430>"
      ]
     },
     "execution_count": 13,
     "metadata": {},
     "output_type": "execute_result"
    },
    {
     "data": {
      "image/png": "[encoded data removed]",
      "text/plain": [
       "<Figure size 1164.88x432 with 10 Axes>"
      ]
     },
     "metadata": {
      "needs_background": "light"
     },
     "output_type": "display_data"
    }
   ],
   "source": [
    "g2 = sns.FacetGrid(\n",
    "    gdp_trade.loc[gdp_trade['Country'].isin(top10_gdp)],\n",
    "    col='Country',\n",
    "    col_wrap=5,\n",
    "    hue='Flow'\n",
    ")\n",
    "g2.map(sns.scatterplot, 'Year', 'Trade (USD)')\n",
    "g2.add_legend()"
   ]
  },
  {
   "cell_type": "markdown",
   "metadata": {},
   "source": [
    "Interestingly enough, the other 9 top countries per GDP per capita can't compare to the UDS trade. I'll have to normalize the trade values per capita."
   ]
  },
  {
   "cell_type": "code",
   "execution_count": 14,
   "metadata": {},
   "outputs": [],
   "source": [
    "population = pd.read_csv('../data/Population1990to2019.csv')"
   ]
  },
  {
   "cell_type": "markdown",
   "metadata": {},
   "source": [
    "This data has already been filtered from 1990 to 2019, because the database was too big to download. Furthermore, this data includes predictors for future years; for past years it's all the same, so I decided to keep only the 'no change' (although it doesn't matter)"
   ]
  },
  {
   "cell_type": "code",
   "execution_count": 15,
   "metadata": {},
   "outputs": [],
   "source": [
    "population = (\n",
    "    population\n",
    "    .loc[population['Variant'] == 'No change']\n",
    "    .drop(columns='Variant')\n",
    "    .rename(columns={'Country or Area' : 'Country', 'Year(s)' : 'Year', 'Value' : 'Population'})\n",
    ")\n",
    "population['Country'] = population['Country'].str.replace('United States of America', 'United States')\n",
    "population['Country'] = population['Country'].str.replace('Brunei Darussalam', 'Brunei')\n",
    "population['Country'] = population['Country'].str.replace(r'Bolivia.+', 'Bolivia', regex=True)"
   ]
  },
  {
   "cell_type": "code",
   "execution_count": 16,
   "metadata": {},
   "outputs": [],
   "source": [
    "gdp_trade_pop = pd.merge(gdp_trade, population, \"inner\", on=['Country', 'Year'])"
   ]
  },
  {
   "cell_type": "markdown",
   "metadata": {},
   "source": [
    "Adjusting the trade to trade per capita (dividing Trade (USD) by Population)"
   ]
  },
  {
   "cell_type": "code",
   "execution_count": 17,
   "metadata": {},
   "outputs": [],
   "source": [
    "gdp_trade_pop['Trade_Per_Capita'] = gdp_trade_pop['Trade (USD)'] / gdp_trade_pop['Population'] "
   ]
  },
  {
   "cell_type": "code",
   "execution_count": 18,
   "metadata": {},
   "outputs": [
    {
     "data": {
      "text/html": [
       "<div>\n",
       "<style scoped>\n",
       "    .dataframe tbody tr th:only-of-type {\n",
       "        vertical-align: middle;\n",
       "    }\n",
       "\n",
       "    .dataframe tbody tr th {\n",
       "        vertical-align: top;\n",
       "    }\n",
       "\n",
       "    .dataframe thead th {\n",
       "        text-align: right;\n",
       "    }\n",
       "</style>\n",
       "<table border=\"1\" class=\"dataframe\">\n",
       "  <thead>\n",
       "    <tr style=\"text-align: right;\">\n",
       "      <th></th>\n",
       "      <th>Country</th>\n",
       "      <th>Year</th>\n",
       "      <th>GDP_Per_Capita</th>\n",
       "      <th>Flow</th>\n",
       "      <th>Trade (USD)</th>\n",
       "      <th>Population</th>\n",
       "      <th>Trade_Per_Capita</th>\n",
       "    </tr>\n",
       "  </thead>\n",
       "  <tbody>\n",
       "    <tr>\n",
       "      <th>0</th>\n",
       "      <td>Afghanistan</td>\n",
       "      <td>2018</td>\n",
       "      <td>2033.779002</td>\n",
       "      <td>Import</td>\n",
       "      <td>7.406590e+09</td>\n",
       "      <td>37171.921</td>\n",
       "      <td>199252.288434</td>\n",
       "    </tr>\n",
       "    <tr>\n",
       "      <th>1</th>\n",
       "      <td>Afghanistan</td>\n",
       "      <td>2018</td>\n",
       "      <td>2033.779002</td>\n",
       "      <td>Export</td>\n",
       "      <td>8.845045e+08</td>\n",
       "      <td>37171.921</td>\n",
       "      <td>23794.963310</td>\n",
       "    </tr>\n",
       "    <tr>\n",
       "      <th>2</th>\n",
       "      <td>Afghanistan</td>\n",
       "      <td>2018</td>\n",
       "      <td>2033.779002</td>\n",
       "      <td>Re-Export</td>\n",
       "      <td>9.263097e+06</td>\n",
       "      <td>37171.921</td>\n",
       "      <td>249.196086</td>\n",
       "    </tr>\n",
       "    <tr>\n",
       "      <th>3</th>\n",
       "      <td>Afghanistan</td>\n",
       "      <td>2016</td>\n",
       "      <td>2057.062164</td>\n",
       "      <td>Import</td>\n",
       "      <td>6.534140e+09</td>\n",
       "      <td>35383.032</td>\n",
       "      <td>184668.753458</td>\n",
       "    </tr>\n",
       "    <tr>\n",
       "      <th>4</th>\n",
       "      <td>Afghanistan</td>\n",
       "      <td>2016</td>\n",
       "      <td>2057.062164</td>\n",
       "      <td>Export</td>\n",
       "      <td>5.964553e+08</td>\n",
       "      <td>35383.032</td>\n",
       "      <td>16857.100799</td>\n",
       "    </tr>\n",
       "  </tbody>\n",
       "</table>\n",
       "</div>"
      ],
      "text/plain": [
       "       Country  Year  GDP_Per_Capita       Flow   Trade (USD)  Population  \\\n",
       "0  Afghanistan  2018     2033.779002     Import  7.406590e+09   37171.921   \n",
       "1  Afghanistan  2018     2033.779002     Export  8.845045e+08   37171.921   \n",
       "2  Afghanistan  2018     2033.779002  Re-Export  9.263097e+06   37171.921   \n",
       "3  Afghanistan  2016     2057.062164     Import  6.534140e+09   35383.032   \n",
       "4  Afghanistan  2016     2057.062164     Export  5.964553e+08   35383.032   \n",
       "\n",
       "   Trade_Per_Capita  \n",
       "0     199252.288434  \n",
       "1      23794.963310  \n",
       "2        249.196086  \n",
       "3     184668.753458  \n",
       "4      16857.100799  "
      ]
     },
     "execution_count": 18,
     "metadata": {},
     "output_type": "execute_result"
    }
   ],
   "source": [
    "gdp_trade_pop.head()"
   ]
  },
  {
   "cell_type": "code",
   "execution_count": 19,
   "metadata": {},
   "outputs": [
    {
     "data": {
      "text/plain": [
       "<seaborn.axisgrid.FacetGrid at 0x7fb6b05de8e0>"
      ]
     },
     "execution_count": 19,
     "metadata": {},
     "output_type": "execute_result"
    },
    {
     "data": {
      "image/png": "[encoded data removed]",
      "text/plain": [
       "<Figure size 1164.88x432 with 10 Axes>"
      ]
     },
     "metadata": {
      "needs_background": "light"
     },
     "output_type": "display_data"
    }
   ],
   "source": [
    "g3 = sns.FacetGrid(\n",
    "    gdp_trade_pop.loc[gdp_trade_pop['Country'].isin(top10_gdp)],\n",
    "    col='Country',\n",
    "    col_wrap=5,\n",
    "    hue='Flow'\n",
    ")\n",
    "g3.map(sns.scatterplot, 'Year', 'Trade_Per_Capita')\n",
    "g3.add_legend()"
   ]
  },
  {
   "cell_type": "markdown",
   "metadata": {},
   "source": [
    "I had to go back and fix the USA / United States / United States of America, as well as Brunei Darussalam to Brunei\n",
    "\n",
    "When adjusted for population, the graphs of trade paint quite a different picture. In terms of exporting goods, Singapore, Switzerland and Arab Emirates are outstanding. Also Ireland - that's the one I'm most surprised about in all honesty."
   ]
  },
  {
   "cell_type": "code",
   "execution_count": 20,
   "metadata": {},
   "outputs": [
    {
     "data": {
      "text/plain": [
       "<seaborn.axisgrid.FacetGrid at 0x7fb6e3578760>"
      ]
     },
     "execution_count": 20,
     "metadata": {},
     "output_type": "execute_result"
    },
    {
     "data": {
      "image/png": "[encoded data removed]",
      "text/plain": [
       "<Figure size 2168x216 with 10 Axes>"
      ]
     },
     "metadata": {
      "needs_background": "light"
     },
     "output_type": "display_data"
    }
   ],
   "source": [
    "g4 = sns.FacetGrid(\n",
    "    gdp_trade_pop.loc[gdp_trade_pop['Country'].isin(top10_gdp)],\n",
    "    col='Country'\n",
    ")\n",
    "g4.map(sns.scatterplot, 'Year', 'GDP_Per_Capita')\n",
    "g4.add_legend()"
   ]
  },
  {
   "cell_type": "code",
   "execution_count": 21,
   "metadata": {},
   "outputs": [
    {
     "data": {
      "text/plain": [
       "<seaborn.axisgrid.FacetGrid at 0x7fb6b08c3be0>"
      ]
     },
     "execution_count": 21,
     "metadata": {},
     "output_type": "execute_result"
    },
    {
     "data": {
      "image/png": "[encoded data removed]",
      "text/plain": [
       "<Figure size 1164.88x432 with 10 Axes>"
      ]
     },
     "metadata": {
      "needs_background": "light"
     },
     "output_type": "display_data"
    }
   ],
   "source": [
    "g5 = sns.FacetGrid(\n",
    "    gdp_trade_pop.loc[gdp_trade_pop['Country'].isin(top10_gdp)],\n",
    "    col='Country',\n",
    "    col_wrap=5,\n",
    "    hue='Flow'\n",
    ")\n",
    "g5.map(sns.scatterplot, 'Trade_Per_Capita', 'GDP_Per_Capita')\n",
    "g5.add_legend()"
   ]
  },
  {
   "cell_type": "markdown",
   "metadata": {},
   "source": [
    "Above is the plot I was initially curious to see. comparing hte GDP Per capita to the Trade Per Capita. I was wondering what impact does the trade have on GDP. Without any research I'd imagine that if we're looking just at Import/Export, the more the difference between those two would be, the higher the GDP. Interestingly, I don't see such a clear trend for most countries."
   ]
  },
  {
   "cell_type": "code",
   "execution_count": 22,
   "metadata": {},
   "outputs": [
    {
     "data": {
      "text/html": [
       "<div>\n",
       "<style scoped>\n",
       "    .dataframe tbody tr th:only-of-type {\n",
       "        vertical-align: middle;\n",
       "    }\n",
       "\n",
       "    .dataframe tbody tr th {\n",
       "        vertical-align: top;\n",
       "    }\n",
       "\n",
       "    .dataframe thead th {\n",
       "        text-align: right;\n",
       "    }\n",
       "</style>\n",
       "<table border=\"1\" class=\"dataframe\">\n",
       "  <thead>\n",
       "    <tr style=\"text-align: right;\">\n",
       "      <th></th>\n",
       "      <th>Country</th>\n",
       "      <th>Year</th>\n",
       "      <th>GDP_Per_Capita</th>\n",
       "      <th>Flow</th>\n",
       "      <th>Trade (USD)</th>\n",
       "      <th>Population</th>\n",
       "      <th>Trade_Per_Capita</th>\n",
       "    </tr>\n",
       "  </thead>\n",
       "  <tbody>\n",
       "    <tr>\n",
       "      <th>0</th>\n",
       "      <td>Afghanistan</td>\n",
       "      <td>2018</td>\n",
       "      <td>2033.779002</td>\n",
       "      <td>Import</td>\n",
       "      <td>7.406590e+09</td>\n",
       "      <td>37171.921</td>\n",
       "      <td>199252.288434</td>\n",
       "    </tr>\n",
       "    <tr>\n",
       "      <th>1</th>\n",
       "      <td>Afghanistan</td>\n",
       "      <td>2018</td>\n",
       "      <td>2033.779002</td>\n",
       "      <td>Export</td>\n",
       "      <td>8.845045e+08</td>\n",
       "      <td>37171.921</td>\n",
       "      <td>23794.963310</td>\n",
       "    </tr>\n",
       "    <tr>\n",
       "      <th>2</th>\n",
       "      <td>Afghanistan</td>\n",
       "      <td>2018</td>\n",
       "      <td>2033.779002</td>\n",
       "      <td>Re-Export</td>\n",
       "      <td>9.263097e+06</td>\n",
       "      <td>37171.921</td>\n",
       "      <td>249.196086</td>\n",
       "    </tr>\n",
       "    <tr>\n",
       "      <th>3</th>\n",
       "      <td>Afghanistan</td>\n",
       "      <td>2016</td>\n",
       "      <td>2057.062164</td>\n",
       "      <td>Import</td>\n",
       "      <td>6.534140e+09</td>\n",
       "      <td>35383.032</td>\n",
       "      <td>184668.753458</td>\n",
       "    </tr>\n",
       "    <tr>\n",
       "      <th>4</th>\n",
       "      <td>Afghanistan</td>\n",
       "      <td>2016</td>\n",
       "      <td>2057.062164</td>\n",
       "      <td>Export</td>\n",
       "      <td>5.964553e+08</td>\n",
       "      <td>35383.032</td>\n",
       "      <td>16857.100799</td>\n",
       "    </tr>\n",
       "  </tbody>\n",
       "</table>\n",
       "</div>"
      ],
      "text/plain": [
       "       Country  Year  GDP_Per_Capita       Flow   Trade (USD)  Population  \\\n",
       "0  Afghanistan  2018     2033.779002     Import  7.406590e+09   37171.921   \n",
       "1  Afghanistan  2018     2033.779002     Export  8.845045e+08   37171.921   \n",
       "2  Afghanistan  2018     2033.779002  Re-Export  9.263097e+06   37171.921   \n",
       "3  Afghanistan  2016     2057.062164     Import  6.534140e+09   35383.032   \n",
       "4  Afghanistan  2016     2057.062164     Export  5.964553e+08   35383.032   \n",
       "\n",
       "   Trade_Per_Capita  \n",
       "0     199252.288434  \n",
       "1      23794.963310  \n",
       "2        249.196086  \n",
       "3     184668.753458  \n",
       "4      16857.100799  "
      ]
     },
     "execution_count": 22,
     "metadata": {},
     "output_type": "execute_result"
    }
   ],
   "source": [
    "gdp_trade_pop.head()"
   ]
  },
  {
   "cell_type": "code",
   "execution_count": 23,
   "metadata": {},
   "outputs": [],
   "source": [
    "# don't do for loops in pandas ... if you do, typically means you did something wrong\n",
    "# if (row['Flow'] == 'Import') or (row['Flow'] == 'Re-Import'):\n",
    "#    gdp_trade_pop.loc[index, 'Trade (USD)'] = gdp_trade_pop.loc[index, 'Trade (USD)'] * (-1)\n",
    "#    gdp_trade_pop.loc[index, 'Trade_Per_Capita'] = gdp_trade_pop.loc[index, 'Trade_Per_Capita'] * (-1)"
   ]
  },
  {
   "cell_type": "code",
   "execution_count": 24,
   "metadata": {},
   "outputs": [],
   "source": [
    "# same as pivot below\n",
    "# gdp_trade_pop.pivot_table(index=['Country', 'Year', 'GDP_Per_Capita', 'Population'], columns=['Flow']).reset_index()"
   ]
  },
  {
   "cell_type": "code",
   "execution_count": 25,
   "metadata": {},
   "outputs": [
    {
     "data": {
      "text/html": [
       "<div>\n",
       "<style scoped>\n",
       "    .dataframe tbody tr th:only-of-type {\n",
       "        vertical-align: middle;\n",
       "    }\n",
       "\n",
       "    .dataframe tbody tr th {\n",
       "        vertical-align: top;\n",
       "    }\n",
       "\n",
       "    .dataframe thead tr th {\n",
       "        text-align: left;\n",
       "    }\n",
       "</style>\n",
       "<table border=\"1\" class=\"dataframe\">\n",
       "  <thead>\n",
       "    <tr>\n",
       "      <th></th>\n",
       "      <th>Country</th>\n",
       "      <th>Year</th>\n",
       "      <th>GDP_Per_Capita</th>\n",
       "      <th>Population</th>\n",
       "      <th colspan=\"4\" halign=\"left\">Trade (USD)</th>\n",
       "      <th colspan=\"4\" halign=\"left\">Trade_Per_Capita</th>\n",
       "    </tr>\n",
       "    <tr>\n",
       "      <th>Flow</th>\n",
       "      <th></th>\n",
       "      <th></th>\n",
       "      <th></th>\n",
       "      <th></th>\n",
       "      <th>Export</th>\n",
       "      <th>Import</th>\n",
       "      <th>Re-Export</th>\n",
       "      <th>Re-Import</th>\n",
       "      <th>Export</th>\n",
       "      <th>Import</th>\n",
       "      <th>Re-Export</th>\n",
       "      <th>Re-Import</th>\n",
       "    </tr>\n",
       "  </thead>\n",
       "  <tbody>\n",
       "    <tr>\n",
       "      <th>0</th>\n",
       "      <td>Afghanistan</td>\n",
       "      <td>2008</td>\n",
       "      <td>1484.114729</td>\n",
       "      <td>27722.276</td>\n",
       "      <td>5.400656e+08</td>\n",
       "      <td>3.019860e+09</td>\n",
       "      <td>NaN</td>\n",
       "      <td>NaN</td>\n",
       "      <td>19481.286241</td>\n",
       "      <td>108932.618988</td>\n",
       "      <td>NaN</td>\n",
       "      <td>NaN</td>\n",
       "    </tr>\n",
       "    <tr>\n",
       "      <th>1</th>\n",
       "      <td>Afghanistan</td>\n",
       "      <td>2009</td>\n",
       "      <td>1758.904043</td>\n",
       "      <td>28394.813</td>\n",
       "      <td>4.034410e+08</td>\n",
       "      <td>3.336435e+09</td>\n",
       "      <td>NaN</td>\n",
       "      <td>NaN</td>\n",
       "      <td>14208.264235</td>\n",
       "      <td>117501.558506</td>\n",
       "      <td>NaN</td>\n",
       "      <td>NaN</td>\n",
       "    </tr>\n",
       "    <tr>\n",
       "      <th>2</th>\n",
       "      <td>Afghanistan</td>\n",
       "      <td>2010</td>\n",
       "      <td>1957.029338</td>\n",
       "      <td>29185.507</td>\n",
       "      <td>3.884836e+08</td>\n",
       "      <td>5.154250e+09</td>\n",
       "      <td>NaN</td>\n",
       "      <td>NaN</td>\n",
       "      <td>13310.840720</td>\n",
       "      <td>176603.060793</td>\n",
       "      <td>NaN</td>\n",
       "      <td>NaN</td>\n",
       "    </tr>\n",
       "    <tr>\n",
       "      <th>3</th>\n",
       "      <td>Afghanistan</td>\n",
       "      <td>2011</td>\n",
       "      <td>1904.559799</td>\n",
       "      <td>30117.413</td>\n",
       "      <td>3.758509e+08</td>\n",
       "      <td>6.390311e+09</td>\n",
       "      <td>NaN</td>\n",
       "      <td>NaN</td>\n",
       "      <td>12479.522561</td>\n",
       "      <td>212179.942115</td>\n",
       "      <td>NaN</td>\n",
       "      <td>NaN</td>\n",
       "    </tr>\n",
       "    <tr>\n",
       "      <th>4</th>\n",
       "      <td>Afghanistan</td>\n",
       "      <td>2012</td>\n",
       "      <td>2075.491747</td>\n",
       "      <td>31161.376</td>\n",
       "      <td>4.289027e+08</td>\n",
       "      <td>6.204984e+09</td>\n",
       "      <td>NaN</td>\n",
       "      <td>NaN</td>\n",
       "      <td>13763.920759</td>\n",
       "      <td>199124.201094</td>\n",
       "      <td>NaN</td>\n",
       "      <td>NaN</td>\n",
       "    </tr>\n",
       "    <tr>\n",
       "      <th>...</th>\n",
       "      <td>...</td>\n",
       "      <td>...</td>\n",
       "      <td>...</td>\n",
       "      <td>...</td>\n",
       "      <td>...</td>\n",
       "      <td>...</td>\n",
       "      <td>...</td>\n",
       "      <td>...</td>\n",
       "      <td>...</td>\n",
       "      <td>...</td>\n",
       "      <td>...</td>\n",
       "      <td>...</td>\n",
       "    </tr>\n",
       "    <tr>\n",
       "      <th>3277</th>\n",
       "      <td>Zimbabwe</td>\n",
       "      <td>2014</td>\n",
       "      <td>2955.240287</td>\n",
       "      <td>13586.707</td>\n",
       "      <td>3.063741e+09</td>\n",
       "      <td>6.379758e+09</td>\n",
       "      <td>NaN</td>\n",
       "      <td>NaN</td>\n",
       "      <td>225495.505276</td>\n",
       "      <td>469558.815466</td>\n",
       "      <td>NaN</td>\n",
       "      <td>NaN</td>\n",
       "    </tr>\n",
       "    <tr>\n",
       "      <th>3278</th>\n",
       "      <td>Zimbabwe</td>\n",
       "      <td>2015</td>\n",
       "      <td>2958.209004</td>\n",
       "      <td>13814.629</td>\n",
       "      <td>2.704096e+09</td>\n",
       "      <td>6.002232e+09</td>\n",
       "      <td>NaN</td>\n",
       "      <td>NaN</td>\n",
       "      <td>195741.481584</td>\n",
       "      <td>434483.752839</td>\n",
       "      <td>NaN</td>\n",
       "      <td>NaN</td>\n",
       "    </tr>\n",
       "    <tr>\n",
       "      <th>3279</th>\n",
       "      <td>Zimbabwe</td>\n",
       "      <td>2016</td>\n",
       "      <td>2934.733650</td>\n",
       "      <td>14030.331</td>\n",
       "      <td>2.832310e+09</td>\n",
       "      <td>5.211577e+09</td>\n",
       "      <td>NaN</td>\n",
       "      <td>NaN</td>\n",
       "      <td>201870.505407</td>\n",
       "      <td>371450.726929</td>\n",
       "      <td>NaN</td>\n",
       "      <td>NaN</td>\n",
       "    </tr>\n",
       "    <tr>\n",
       "      <th>3280</th>\n",
       "      <td>Zimbabwe</td>\n",
       "      <td>2017</td>\n",
       "      <td>3028.245976</td>\n",
       "      <td>14236.595</td>\n",
       "      <td>3.480382e+09</td>\n",
       "      <td>4.962103e+09</td>\n",
       "      <td>NaN</td>\n",
       "      <td>NaN</td>\n",
       "      <td>244467.294810</td>\n",
       "      <td>348545.611781</td>\n",
       "      <td>NaN</td>\n",
       "      <td>NaN</td>\n",
       "    </tr>\n",
       "    <tr>\n",
       "      <th>3281</th>\n",
       "      <td>Zimbabwe</td>\n",
       "      <td>2018</td>\n",
       "      <td>3130.029501</td>\n",
       "      <td>14438.802</td>\n",
       "      <td>4.037203e+09</td>\n",
       "      <td>6.258856e+09</td>\n",
       "      <td>NaN</td>\n",
       "      <td>NaN</td>\n",
       "      <td>279607.869818</td>\n",
       "      <td>433474.756982</td>\n",
       "      <td>NaN</td>\n",
       "      <td>NaN</td>\n",
       "    </tr>\n",
       "  </tbody>\n",
       "</table>\n",
       "<p>3282 rows × 12 columns</p>\n",
       "</div>"
      ],
      "text/plain": [
       "          Country  Year GDP_Per_Capita Population   Trade (USD)                \\\n",
       "Flow                                                     Export        Import   \n",
       "0     Afghanistan  2008    1484.114729  27722.276  5.400656e+08  3.019860e+09   \n",
       "1     Afghanistan  2009    1758.904043  28394.813  4.034410e+08  3.336435e+09   \n",
       "2     Afghanistan  2010    1957.029338  29185.507  3.884836e+08  5.154250e+09   \n",
       "3     Afghanistan  2011    1904.559799  30117.413  3.758509e+08  6.390311e+09   \n",
       "4     Afghanistan  2012    2075.491747  31161.376  4.289027e+08  6.204984e+09   \n",
       "...           ...   ...            ...        ...           ...           ...   \n",
       "3277     Zimbabwe  2014    2955.240287  13586.707  3.063741e+09  6.379758e+09   \n",
       "3278     Zimbabwe  2015    2958.209004  13814.629  2.704096e+09  6.002232e+09   \n",
       "3279     Zimbabwe  2016    2934.733650  14030.331  2.832310e+09  5.211577e+09   \n",
       "3280     Zimbabwe  2017    3028.245976  14236.595  3.480382e+09  4.962103e+09   \n",
       "3281     Zimbabwe  2018    3130.029501  14438.802  4.037203e+09  6.258856e+09   \n",
       "\n",
       "                         Trade_Per_Capita                                     \n",
       "Flow Re-Export Re-Import           Export         Import Re-Export Re-Import  \n",
       "0          NaN       NaN     19481.286241  108932.618988       NaN       NaN  \n",
       "1          NaN       NaN     14208.264235  117501.558506       NaN       NaN  \n",
       "2          NaN       NaN     13310.840720  176603.060793       NaN       NaN  \n",
       "3          NaN       NaN     12479.522561  212179.942115       NaN       NaN  \n",
       "4          NaN       NaN     13763.920759  199124.201094       NaN       NaN  \n",
       "...        ...       ...              ...            ...       ...       ...  \n",
       "3277       NaN       NaN    225495.505276  469558.815466       NaN       NaN  \n",
       "3278       NaN       NaN    195741.481584  434483.752839       NaN       NaN  \n",
       "3279       NaN       NaN    201870.505407  371450.726929       NaN       NaN  \n",
       "3280       NaN       NaN    244467.294810  348545.611781       NaN       NaN  \n",
       "3281       NaN       NaN    279607.869818  433474.756982       NaN       NaN  \n",
       "\n",
       "[3282 rows x 12 columns]"
      ]
     },
     "execution_count": 25,
     "metadata": {},
     "output_type": "execute_result"
    }
   ],
   "source": [
    "# this below would work, except I'd need to find a way to get rid of the sub-columns\n",
    "gdp_trade_pop.pivot(index=['Country', 'Year', 'GDP_Per_Capita', 'Population'], columns='Flow').reset_index()"
   ]
  },
  {
   "cell_type": "code",
   "execution_count": 26,
   "metadata": {},
   "outputs": [],
   "source": [
    "# the function below is made in order to separate the Trade(USD);\n",
    "# only downside is that with this method, Trade_Per_Capita could not be kept so I'll need to calculate it again\n",
    "gdp_trade_pop = (\n",
    "    gdp_trade_pop\n",
    "    .pivot(index=['Country', 'Year', 'GDP_Per_Capita', 'Population'],\n",
    "        columns='Flow',\n",
    "        values='Trade (USD)')\n",
    "    .reset_index()\n",
    "    .rename_axis(None, axis=1)\n",
    "    .fillna(0)\n",
    ")"
   ]
  },
  {
   "cell_type": "code",
   "execution_count": 27,
   "metadata": {},
   "outputs": [],
   "source": [
    "gdp_trade_pop['Surplus_Deficit'] = gdp_trade_pop['Export'] + gdp_trade_pop['Re-Export'] - gdp_trade_pop['Import'] - gdp_trade_pop['Re-Import']\n",
    "gdp_trade_pop['Export_Per_Capita'] = gdp_trade_pop['Export'] / gdp_trade_pop['Population'] \n",
    "gdp_trade_pop['Import_Per_Capita'] = gdp_trade_pop['Import'] / gdp_trade_pop['Population'] \n",
    "gdp_trade_pop['Re-Export_Per_Capita'] = gdp_trade_pop['Re-Export'] / gdp_trade_pop['Population'] \n",
    "gdp_trade_pop['Re-Import_Per_Capita'] = gdp_trade_pop['Re-Import'] / gdp_trade_pop['Population']\n",
    "gdp_trade_pop['Surplus_Deficit_Per_Capita'] = gdp_trade_pop['Surplus_Deficit'] / gdp_trade_pop['Population']"
   ]
  },
  {
   "cell_type": "markdown",
   "metadata": {},
   "source": [
    "Now that I have this, let's look at some countries (irrespective of year) who had the biggest surplus, or deficit based on their exports and imports.\n",
    "\n",
    "I'm surprised that for many years Luxembourg appears amongst the worst!"
   ]
  },
  {
   "cell_type": "code",
   "execution_count": 28,
   "metadata": {},
   "outputs": [
    {
     "data": {
      "text/html": [
       "<div>\n",
       "<style scoped>\n",
       "    .dataframe tbody tr th:only-of-type {\n",
       "        vertical-align: middle;\n",
       "    }\n",
       "\n",
       "    .dataframe tbody tr th {\n",
       "        vertical-align: top;\n",
       "    }\n",
       "\n",
       "    .dataframe thead th {\n",
       "        text-align: right;\n",
       "    }\n",
       "</style>\n",
       "<table border=\"1\" class=\"dataframe\">\n",
       "  <thead>\n",
       "    <tr style=\"text-align: right;\">\n",
       "      <th></th>\n",
       "      <th>Country</th>\n",
       "      <th>Year</th>\n",
       "      <th>GDP_Per_Capita</th>\n",
       "      <th>Population</th>\n",
       "      <th>Export</th>\n",
       "      <th>Import</th>\n",
       "      <th>Re-Export</th>\n",
       "      <th>Re-Import</th>\n",
       "      <th>Surplus_Deficit</th>\n",
       "      <th>Export_Per_Capita</th>\n",
       "      <th>Import_Per_Capita</th>\n",
       "      <th>Re-Export_Per_Capita</th>\n",
       "      <th>Re-Import_Per_Capita</th>\n",
       "      <th>Surplus_Deficit_Per_Capita</th>\n",
       "    </tr>\n",
       "  </thead>\n",
       "  <tbody>\n",
       "    <tr>\n",
       "      <th>1799</th>\n",
       "      <td>Luxembourg</td>\n",
       "      <td>2012</td>\n",
       "      <td>105411.464571</td>\n",
       "      <td>530.857</td>\n",
       "      <td>1.372690e+10</td>\n",
       "      <td>2.428489e+10</td>\n",
       "      <td>52512186.0</td>\n",
       "      <td>51715604.0</td>\n",
       "      <td>-1.055719e+10</td>\n",
       "      <td>2.585800e+07</td>\n",
       "      <td>4.574658e+07</td>\n",
       "      <td>98919.645027</td>\n",
       "      <td>97419.086496</td>\n",
       "      <td>-1.988707e+07</td>\n",
       "    </tr>\n",
       "    <tr>\n",
       "      <th>1800</th>\n",
       "      <td>Luxembourg</td>\n",
       "      <td>2013</td>\n",
       "      <td>106767.275005</td>\n",
       "      <td>542.560</td>\n",
       "      <td>1.382601e+10</td>\n",
       "      <td>2.393408e+10</td>\n",
       "      <td>51926788.0</td>\n",
       "      <td>49761896.0</td>\n",
       "      <td>-1.010591e+10</td>\n",
       "      <td>2.548291e+07</td>\n",
       "      <td>4.411324e+07</td>\n",
       "      <td>95706.996461</td>\n",
       "      <td>91716.853436</td>\n",
       "      <td>-1.862634e+07</td>\n",
       "    </tr>\n",
       "    <tr>\n",
       "      <th>1798</th>\n",
       "      <td>Luxembourg</td>\n",
       "      <td>2011</td>\n",
       "      <td>108355.582583</td>\n",
       "      <td>519.307</td>\n",
       "      <td>1.630788e+10</td>\n",
       "      <td>2.597163e+10</td>\n",
       "      <td>70066127.0</td>\n",
       "      <td>47333435.0</td>\n",
       "      <td>-9.641022e+09</td>\n",
       "      <td>3.140316e+07</td>\n",
       "      <td>5.001210e+07</td>\n",
       "      <td>134922.361917</td>\n",
       "      <td>91147.307855</td>\n",
       "      <td>-1.856517e+07</td>\n",
       "    </tr>\n",
       "    <tr>\n",
       "      <th>389</th>\n",
       "      <td>Bermuda</td>\n",
       "      <td>2008</td>\n",
       "      <td>95855.800693</td>\n",
       "      <td>65.931</td>\n",
       "      <td>0.000000e+00</td>\n",
       "      <td>1.146778e+09</td>\n",
       "      <td>0.0</td>\n",
       "      <td>11815701.0</td>\n",
       "      <td>-1.158594e+09</td>\n",
       "      <td>0.000000e+00</td>\n",
       "      <td>1.739361e+07</td>\n",
       "      <td>0.000000</td>\n",
       "      <td>179213.131911</td>\n",
       "      <td>-1.757282e+07</td>\n",
       "    </tr>\n",
       "    <tr>\n",
       "      <th>388</th>\n",
       "      <td>Bermuda</td>\n",
       "      <td>2007</td>\n",
       "      <td>98257.992698</td>\n",
       "      <td>66.129</td>\n",
       "      <td>0.000000e+00</td>\n",
       "      <td>1.133147e+09</td>\n",
       "      <td>0.0</td>\n",
       "      <td>4202056.0</td>\n",
       "      <td>-1.137349e+09</td>\n",
       "      <td>0.000000e+00</td>\n",
       "      <td>1.713540e+07</td>\n",
       "      <td>0.000000</td>\n",
       "      <td>63543.316850</td>\n",
       "      <td>-1.719895e+07</td>\n",
       "    </tr>\n",
       "    <tr>\n",
       "      <th>398</th>\n",
       "      <td>Bermuda</td>\n",
       "      <td>2017</td>\n",
       "      <td>81834.955874</td>\n",
       "      <td>63.049</td>\n",
       "      <td>1.174217e+07</td>\n",
       "      <td>1.078214e+09</td>\n",
       "      <td>0.0</td>\n",
       "      <td>0.0</td>\n",
       "      <td>-1.066472e+09</td>\n",
       "      <td>1.862387e+05</td>\n",
       "      <td>1.710120e+07</td>\n",
       "      <td>0.000000</td>\n",
       "      <td>0.000000</td>\n",
       "      <td>-1.691496e+07</td>\n",
       "    </tr>\n",
       "    <tr>\n",
       "      <th>1795</th>\n",
       "      <td>Luxembourg</td>\n",
       "      <td>2008</td>\n",
       "      <td>111765.450698</td>\n",
       "      <td>485.405</td>\n",
       "      <td>1.738080e+10</td>\n",
       "      <td>2.549810e+10</td>\n",
       "      <td>73531997.0</td>\n",
       "      <td>67815510.0</td>\n",
       "      <td>-8.111582e+09</td>\n",
       "      <td>3.580679e+07</td>\n",
       "      <td>5.252953e+07</td>\n",
       "      <td>151485.866441</td>\n",
       "      <td>139709.129490</td>\n",
       "      <td>-1.671096e+07</td>\n",
       "    </tr>\n",
       "    <tr>\n",
       "      <th>399</th>\n",
       "      <td>Bermuda</td>\n",
       "      <td>2018</td>\n",
       "      <td>81420.860787</td>\n",
       "      <td>62.756</td>\n",
       "      <td>2.291242e+07</td>\n",
       "      <td>1.070009e+09</td>\n",
       "      <td>0.0</td>\n",
       "      <td>0.0</td>\n",
       "      <td>-1.047097e+09</td>\n",
       "      <td>3.651033e+05</td>\n",
       "      <td>1.705031e+07</td>\n",
       "      <td>0.000000</td>\n",
       "      <td>0.000000</td>\n",
       "      <td>-1.668520e+07</td>\n",
       "    </tr>\n",
       "    <tr>\n",
       "      <th>1801</th>\n",
       "      <td>Luxembourg</td>\n",
       "      <td>2014</td>\n",
       "      <td>108760.916030</td>\n",
       "      <td>554.516</td>\n",
       "      <td>1.479088e+10</td>\n",
       "      <td>2.385001e+10</td>\n",
       "      <td>44561207.0</td>\n",
       "      <td>50934806.0</td>\n",
       "      <td>-9.065503e+09</td>\n",
       "      <td>2.667350e+07</td>\n",
       "      <td>4.301050e+07</td>\n",
       "      <td>80360.543249</td>\n",
       "      <td>91854.528995</td>\n",
       "      <td>-1.634850e+07</td>\n",
       "    </tr>\n",
       "    <tr>\n",
       "      <th>387</th>\n",
       "      <td>Bermuda</td>\n",
       "      <td>2006</td>\n",
       "      <td>95615.360697</td>\n",
       "      <td>66.248</td>\n",
       "      <td>0.000000e+00</td>\n",
       "      <td>1.070974e+09</td>\n",
       "      <td>0.0</td>\n",
       "      <td>4915428.0</td>\n",
       "      <td>-1.075889e+09</td>\n",
       "      <td>0.000000e+00</td>\n",
       "      <td>1.616613e+07</td>\n",
       "      <td>0.000000</td>\n",
       "      <td>74197.379544</td>\n",
       "      <td>-1.624033e+07</td>\n",
       "    </tr>\n",
       "  </tbody>\n",
       "</table>\n",
       "</div>"
      ],
      "text/plain": [
       "         Country  Year  GDP_Per_Capita  Population        Export  \\\n",
       "1799  Luxembourg  2012   105411.464571     530.857  1.372690e+10   \n",
       "1800  Luxembourg  2013   106767.275005     542.560  1.382601e+10   \n",
       "1798  Luxembourg  2011   108355.582583     519.307  1.630788e+10   \n",
       "389      Bermuda  2008    95855.800693      65.931  0.000000e+00   \n",
       "388      Bermuda  2007    98257.992698      66.129  0.000000e+00   \n",
       "398      Bermuda  2017    81834.955874      63.049  1.174217e+07   \n",
       "1795  Luxembourg  2008   111765.450698     485.405  1.738080e+10   \n",
       "399      Bermuda  2018    81420.860787      62.756  2.291242e+07   \n",
       "1801  Luxembourg  2014   108760.916030     554.516  1.479088e+10   \n",
       "387      Bermuda  2006    95615.360697      66.248  0.000000e+00   \n",
       "\n",
       "            Import   Re-Export   Re-Import  Surplus_Deficit  \\\n",
       "1799  2.428489e+10  52512186.0  51715604.0    -1.055719e+10   \n",
       "1800  2.393408e+10  51926788.0  49761896.0    -1.010591e+10   \n",
       "1798  2.597163e+10  70066127.0  47333435.0    -9.641022e+09   \n",
       "389   1.146778e+09         0.0  11815701.0    -1.158594e+09   \n",
       "388   1.133147e+09         0.0   4202056.0    -1.137349e+09   \n",
       "398   1.078214e+09         0.0         0.0    -1.066472e+09   \n",
       "1795  2.549810e+10  73531997.0  67815510.0    -8.111582e+09   \n",
       "399   1.070009e+09         0.0         0.0    -1.047097e+09   \n",
       "1801  2.385001e+10  44561207.0  50934806.0    -9.065503e+09   \n",
       "387   1.070974e+09         0.0   4915428.0    -1.075889e+09   \n",
       "\n",
       "      Export_Per_Capita  Import_Per_Capita  Re-Export_Per_Capita  \\\n",
       "1799       2.585800e+07       4.574658e+07          98919.645027   \n",
       "1800       2.548291e+07       4.411324e+07          95706.996461   \n",
       "1798       3.140316e+07       5.001210e+07         134922.361917   \n",
       "389        0.000000e+00       1.739361e+07              0.000000   \n",
       "388        0.000000e+00       1.713540e+07              0.000000   \n",
       "398        1.862387e+05       1.710120e+07              0.000000   \n",
       "1795       3.580679e+07       5.252953e+07         151485.866441   \n",
       "399        3.651033e+05       1.705031e+07              0.000000   \n",
       "1801       2.667350e+07       4.301050e+07          80360.543249   \n",
       "387        0.000000e+00       1.616613e+07              0.000000   \n",
       "\n",
       "      Re-Import_Per_Capita  Surplus_Deficit_Per_Capita  \n",
       "1799          97419.086496               -1.988707e+07  \n",
       "1800          91716.853436               -1.862634e+07  \n",
       "1798          91147.307855               -1.856517e+07  \n",
       "389          179213.131911               -1.757282e+07  \n",
       "388           63543.316850               -1.719895e+07  \n",
       "398               0.000000               -1.691496e+07  \n",
       "1795         139709.129490               -1.671096e+07  \n",
       "399               0.000000               -1.668520e+07  \n",
       "1801          91854.528995               -1.634850e+07  \n",
       "387           74197.379544               -1.624033e+07  "
      ]
     },
     "execution_count": 28,
     "metadata": {},
     "output_type": "execute_result"
    }
   ],
   "source": [
    "gdp_trade_pop.sort_values(by='Surplus_Deficit_Per_Capita').head(10)"
   ]
  },
  {
   "cell_type": "code",
   "execution_count": 29,
   "metadata": {},
   "outputs": [
    {
     "data": {
      "text/html": [
       "<div>\n",
       "<style scoped>\n",
       "    .dataframe tbody tr th:only-of-type {\n",
       "        vertical-align: middle;\n",
       "    }\n",
       "\n",
       "    .dataframe tbody tr th {\n",
       "        vertical-align: top;\n",
       "    }\n",
       "\n",
       "    .dataframe thead th {\n",
       "        text-align: right;\n",
       "    }\n",
       "</style>\n",
       "<table border=\"1\" class=\"dataframe\">\n",
       "  <thead>\n",
       "    <tr style=\"text-align: right;\">\n",
       "      <th></th>\n",
       "      <th>Country</th>\n",
       "      <th>Year</th>\n",
       "      <th>GDP_Per_Capita</th>\n",
       "      <th>Population</th>\n",
       "      <th>Export</th>\n",
       "      <th>Import</th>\n",
       "      <th>Re-Export</th>\n",
       "      <th>Re-Import</th>\n",
       "      <th>Surplus_Deficit</th>\n",
       "      <th>Export_Per_Capita</th>\n",
       "      <th>Import_Per_Capita</th>\n",
       "      <th>Re-Export_Per_Capita</th>\n",
       "      <th>Re-Import_Per_Capita</th>\n",
       "      <th>Surplus_Deficit_Per_Capita</th>\n",
       "    </tr>\n",
       "  </thead>\n",
       "  <tbody>\n",
       "    <tr>\n",
       "      <th>1688</th>\n",
       "      <td>Kuwait</td>\n",
       "      <td>2008</td>\n",
       "      <td>73022.863351</td>\n",
       "      <td>2656.009</td>\n",
       "      <td>8.745702e+10</td>\n",
       "      <td>2.483959e+10</td>\n",
       "      <td>1.716346e+09</td>\n",
       "      <td>0.0</td>\n",
       "      <td>6.433378e+10</td>\n",
       "      <td>3.292798e+07</td>\n",
       "      <td>9.352224e+06</td>\n",
       "      <td>6.462123e+05</td>\n",
       "      <td>0.0</td>\n",
       "      <td>2.422197e+07</td>\n",
       "    </tr>\n",
       "    <tr>\n",
       "      <th>1691</th>\n",
       "      <td>Kuwait</td>\n",
       "      <td>2011</td>\n",
       "      <td>60887.459367</td>\n",
       "      <td>3168.060</td>\n",
       "      <td>1.026958e+11</td>\n",
       "      <td>2.514199e+10</td>\n",
       "      <td>0.000000e+00</td>\n",
       "      <td>0.0</td>\n",
       "      <td>7.755377e+10</td>\n",
       "      <td>3.241598e+07</td>\n",
       "      <td>7.936084e+06</td>\n",
       "      <td>0.000000e+00</td>\n",
       "      <td>0.0</td>\n",
       "      <td>2.447989e+07</td>\n",
       "    </tr>\n",
       "    <tr>\n",
       "      <th>2531</th>\n",
       "      <td>Qatar</td>\n",
       "      <td>2008</td>\n",
       "      <td>92555.622454</td>\n",
       "      <td>1436.665</td>\n",
       "      <td>6.730714e+10</td>\n",
       "      <td>2.790004e+10</td>\n",
       "      <td>8.654572e+08</td>\n",
       "      <td>0.0</td>\n",
       "      <td>4.027256e+10</td>\n",
       "      <td>4.684957e+07</td>\n",
       "      <td>1.942000e+07</td>\n",
       "      <td>6.024071e+05</td>\n",
       "      <td>0.0</td>\n",
       "      <td>2.803198e+07</td>\n",
       "    </tr>\n",
       "    <tr>\n",
       "      <th>2533</th>\n",
       "      <td>Qatar</td>\n",
       "      <td>2010</td>\n",
       "      <td>95908.416157</td>\n",
       "      <td>1856.327</td>\n",
       "      <td>7.496442e+10</td>\n",
       "      <td>2.323955e+10</td>\n",
       "      <td>2.010391e+09</td>\n",
       "      <td>0.0</td>\n",
       "      <td>5.373526e+10</td>\n",
       "      <td>4.038320e+07</td>\n",
       "      <td>1.251910e+07</td>\n",
       "      <td>1.082994e+06</td>\n",
       "      <td>0.0</td>\n",
       "      <td>2.894709e+07</td>\n",
       "    </tr>\n",
       "    <tr>\n",
       "      <th>2532</th>\n",
       "      <td>Qatar</td>\n",
       "      <td>2009</td>\n",
       "      <td>89954.519993</td>\n",
       "      <td>1654.950</td>\n",
       "      <td>4.800711e+10</td>\n",
       "      <td>0.000000e+00</td>\n",
       "      <td>1.167151e+09</td>\n",
       "      <td>0.0</td>\n",
       "      <td>4.917426e+10</td>\n",
       "      <td>2.900819e+07</td>\n",
       "      <td>0.000000e+00</td>\n",
       "      <td>7.052484e+05</td>\n",
       "      <td>0.0</td>\n",
       "      <td>2.971344e+07</td>\n",
       "    </tr>\n",
       "    <tr>\n",
       "      <th>3150</th>\n",
       "      <td>United Arab Emirates</td>\n",
       "      <td>2018</td>\n",
       "      <td>66968.269855</td>\n",
       "      <td>9630.959</td>\n",
       "      <td>3.879100e+11</td>\n",
       "      <td>2.446459e+11</td>\n",
       "      <td>2.145678e+11</td>\n",
       "      <td>0.0</td>\n",
       "      <td>3.578319e+11</td>\n",
       "      <td>4.027741e+07</td>\n",
       "      <td>2.540203e+07</td>\n",
       "      <td>2.227896e+07</td>\n",
       "      <td>0.0</td>\n",
       "      <td>3.715434e+07</td>\n",
       "    </tr>\n",
       "    <tr>\n",
       "      <th>2537</th>\n",
       "      <td>Qatar</td>\n",
       "      <td>2014</td>\n",
       "      <td>95578.416973</td>\n",
       "      <td>2459.198</td>\n",
       "      <td>1.315916e+11</td>\n",
       "      <td>3.044766e+10</td>\n",
       "      <td>1.893152e+09</td>\n",
       "      <td>0.0</td>\n",
       "      <td>1.030370e+11</td>\n",
       "      <td>5.350995e+07</td>\n",
       "      <td>1.238113e+07</td>\n",
       "      <td>7.698248e+05</td>\n",
       "      <td>0.0</td>\n",
       "      <td>4.189864e+07</td>\n",
       "    </tr>\n",
       "    <tr>\n",
       "      <th>2536</th>\n",
       "      <td>Qatar</td>\n",
       "      <td>2013</td>\n",
       "      <td>95500.111972</td>\n",
       "      <td>2336.574</td>\n",
       "      <td>1.368551e+11</td>\n",
       "      <td>2.703410e+10</td>\n",
       "      <td>1.585849e+09</td>\n",
       "      <td>0.0</td>\n",
       "      <td>1.114069e+11</td>\n",
       "      <td>5.857085e+07</td>\n",
       "      <td>1.156998e+07</td>\n",
       "      <td>6.787068e+05</td>\n",
       "      <td>0.0</td>\n",
       "      <td>4.767958e+07</td>\n",
       "    </tr>\n",
       "    <tr>\n",
       "      <th>2535</th>\n",
       "      <td>Qatar</td>\n",
       "      <td>2012</td>\n",
       "      <td>96261.662668</td>\n",
       "      <td>2196.073</td>\n",
       "      <td>1.329848e+11</td>\n",
       "      <td>2.520495e+10</td>\n",
       "      <td>1.370611e+09</td>\n",
       "      <td>0.0</td>\n",
       "      <td>1.091505e+11</td>\n",
       "      <td>6.055572e+07</td>\n",
       "      <td>1.147728e+07</td>\n",
       "      <td>6.241191e+05</td>\n",
       "      <td>0.0</td>\n",
       "      <td>4.970256e+07</td>\n",
       "    </tr>\n",
       "    <tr>\n",
       "      <th>2534</th>\n",
       "      <td>Qatar</td>\n",
       "      <td>2011</td>\n",
       "      <td>99146.849879</td>\n",
       "      <td>2035.871</td>\n",
       "      <td>1.144481e+11</td>\n",
       "      <td>0.000000e+00</td>\n",
       "      <td>1.535927e+09</td>\n",
       "      <td>0.0</td>\n",
       "      <td>1.159841e+11</td>\n",
       "      <td>5.621581e+07</td>\n",
       "      <td>0.000000e+00</td>\n",
       "      <td>7.544326e+05</td>\n",
       "      <td>0.0</td>\n",
       "      <td>5.697024e+07</td>\n",
       "    </tr>\n",
       "  </tbody>\n",
       "</table>\n",
       "</div>"
      ],
      "text/plain": [
       "                   Country  Year  GDP_Per_Capita  Population        Export  \\\n",
       "1688                Kuwait  2008    73022.863351    2656.009  8.745702e+10   \n",
       "1691                Kuwait  2011    60887.459367    3168.060  1.026958e+11   \n",
       "2531                 Qatar  2008    92555.622454    1436.665  6.730714e+10   \n",
       "2533                 Qatar  2010    95908.416157    1856.327  7.496442e+10   \n",
       "2532                 Qatar  2009    89954.519993    1654.950  4.800711e+10   \n",
       "3150  United Arab Emirates  2018    66968.269855    9630.959  3.879100e+11   \n",
       "2537                 Qatar  2014    95578.416973    2459.198  1.315916e+11   \n",
       "2536                 Qatar  2013    95500.111972    2336.574  1.368551e+11   \n",
       "2535                 Qatar  2012    96261.662668    2196.073  1.329848e+11   \n",
       "2534                 Qatar  2011    99146.849879    2035.871  1.144481e+11   \n",
       "\n",
       "            Import     Re-Export  Re-Import  Surplus_Deficit  \\\n",
       "1688  2.483959e+10  1.716346e+09        0.0     6.433378e+10   \n",
       "1691  2.514199e+10  0.000000e+00        0.0     7.755377e+10   \n",
       "2531  2.790004e+10  8.654572e+08        0.0     4.027256e+10   \n",
       "2533  2.323955e+10  2.010391e+09        0.0     5.373526e+10   \n",
       "2532  0.000000e+00  1.167151e+09        0.0     4.917426e+10   \n",
       "3150  2.446459e+11  2.145678e+11        0.0     3.578319e+11   \n",
       "2537  3.044766e+10  1.893152e+09        0.0     1.030370e+11   \n",
       "2536  2.703410e+10  1.585849e+09        0.0     1.114069e+11   \n",
       "2535  2.520495e+10  1.370611e+09        0.0     1.091505e+11   \n",
       "2534  0.000000e+00  1.535927e+09        0.0     1.159841e+11   \n",
       "\n",
       "      Export_Per_Capita  Import_Per_Capita  Re-Export_Per_Capita  \\\n",
       "1688       3.292798e+07       9.352224e+06          6.462123e+05   \n",
       "1691       3.241598e+07       7.936084e+06          0.000000e+00   \n",
       "2531       4.684957e+07       1.942000e+07          6.024071e+05   \n",
       "2533       4.038320e+07       1.251910e+07          1.082994e+06   \n",
       "2532       2.900819e+07       0.000000e+00          7.052484e+05   \n",
       "3150       4.027741e+07       2.540203e+07          2.227896e+07   \n",
       "2537       5.350995e+07       1.238113e+07          7.698248e+05   \n",
       "2536       5.857085e+07       1.156998e+07          6.787068e+05   \n",
       "2535       6.055572e+07       1.147728e+07          6.241191e+05   \n",
       "2534       5.621581e+07       0.000000e+00          7.544326e+05   \n",
       "\n",
       "      Re-Import_Per_Capita  Surplus_Deficit_Per_Capita  \n",
       "1688                   0.0                2.422197e+07  \n",
       "1691                   0.0                2.447989e+07  \n",
       "2531                   0.0                2.803198e+07  \n",
       "2533                   0.0                2.894709e+07  \n",
       "2532                   0.0                2.971344e+07  \n",
       "3150                   0.0                3.715434e+07  \n",
       "2537                   0.0                4.189864e+07  \n",
       "2536                   0.0                4.767958e+07  \n",
       "2535                   0.0                4.970256e+07  \n",
       "2534                   0.0                5.697024e+07  "
      ]
     },
     "execution_count": 29,
     "metadata": {},
     "output_type": "execute_result"
    }
   ],
   "source": [
    "gdp_trade_pop.sort_values(by='Surplus_Deficit_Per_Capita').tail(10)"
   ]
  },
  {
   "cell_type": "markdown",
   "metadata": {},
   "source": [
    "Just checking now the same, but only for the year 2019"
   ]
  },
  {
   "cell_type": "code",
   "execution_count": 30,
   "metadata": {},
   "outputs": [
    {
     "data": {
      "text/html": [
       "<div>\n",
       "<style scoped>\n",
       "    .dataframe tbody tr th:only-of-type {\n",
       "        vertical-align: middle;\n",
       "    }\n",
       "\n",
       "    .dataframe tbody tr th {\n",
       "        vertical-align: top;\n",
       "    }\n",
       "\n",
       "    .dataframe thead th {\n",
       "        text-align: right;\n",
       "    }\n",
       "</style>\n",
       "<table border=\"1\" class=\"dataframe\">\n",
       "  <thead>\n",
       "    <tr style=\"text-align: right;\">\n",
       "      <th></th>\n",
       "      <th>Country</th>\n",
       "      <th>Year</th>\n",
       "      <th>GDP_Per_Capita</th>\n",
       "      <th>Population</th>\n",
       "      <th>Export</th>\n",
       "      <th>Import</th>\n",
       "      <th>Re-Export</th>\n",
       "      <th>Re-Import</th>\n",
       "      <th>Surplus_Deficit</th>\n",
       "      <th>Export_Per_Capita</th>\n",
       "      <th>Import_Per_Capita</th>\n",
       "      <th>Re-Export_Per_Capita</th>\n",
       "      <th>Re-Import_Per_Capita</th>\n",
       "      <th>Surplus_Deficit_Per_Capita</th>\n",
       "    </tr>\n",
       "  </thead>\n",
       "  <tbody>\n",
       "    <tr>\n",
       "      <th>1230</th>\n",
       "      <td>Greece</td>\n",
       "      <td>2019</td>\n",
       "      <td>30463.041048</td>\n",
       "      <td>10473.455</td>\n",
       "      <td>3.780546e+10</td>\n",
       "      <td>6.210039e+10</td>\n",
       "      <td>0.000000e+00</td>\n",
       "      <td>0.000000e+00</td>\n",
       "      <td>-2.429493e+10</td>\n",
       "      <td>3.609646e+06</td>\n",
       "      <td>5.929313e+06</td>\n",
       "      <td>0.000000</td>\n",
       "      <td>0.000000</td>\n",
       "      <td>-2.319667e+06</td>\n",
       "    </tr>\n",
       "    <tr>\n",
       "      <th>1152</th>\n",
       "      <td>Georgia</td>\n",
       "      <td>2019</td>\n",
       "      <td>14993.120442</td>\n",
       "      <td>3996.765</td>\n",
       "      <td>3.771399e+09</td>\n",
       "      <td>9.063244e+09</td>\n",
       "      <td>1.419164e+09</td>\n",
       "      <td>8.127176e+06</td>\n",
       "      <td>-3.880808e+09</td>\n",
       "      <td>9.436129e+05</td>\n",
       "      <td>2.267645e+06</td>\n",
       "      <td>355078.292199</td>\n",
       "      <td>2033.438511</td>\n",
       "      <td>-9.709872e+05</td>\n",
       "    </tr>\n",
       "    <tr>\n",
       "      <th>994</th>\n",
       "      <td>El Salvador</td>\n",
       "      <td>2019</td>\n",
       "      <td>8775.986520</td>\n",
       "      <td>6453.553</td>\n",
       "      <td>5.943316e+09</td>\n",
       "      <td>1.201756e+10</td>\n",
       "      <td>0.000000e+00</td>\n",
       "      <td>1.241036e+07</td>\n",
       "      <td>-6.086653e+09</td>\n",
       "      <td>9.209371e+05</td>\n",
       "      <td>1.862162e+06</td>\n",
       "      <td>0.000000</td>\n",
       "      <td>1923.028113</td>\n",
       "      <td>-9.431476e+05</td>\n",
       "    </tr>\n",
       "    <tr>\n",
       "      <th>132</th>\n",
       "      <td>Armenia</td>\n",
       "      <td>2019</td>\n",
       "      <td>13653.749532</td>\n",
       "      <td>2957.731</td>\n",
       "      <td>2.611701e+09</td>\n",
       "      <td>5.053062e+09</td>\n",
       "      <td>2.140861e+08</td>\n",
       "      <td>5.859051e+05</td>\n",
       "      <td>-2.227861e+09</td>\n",
       "      <td>8.830082e+05</td>\n",
       "      <td>1.708425e+06</td>\n",
       "      <td>72381.860818</td>\n",
       "      <td>198.092774</td>\n",
       "      <td>-7.532333e+05</td>\n",
       "    </tr>\n",
       "    <tr>\n",
       "      <th>2659</th>\n",
       "      <td>Senegal</td>\n",
       "      <td>2019</td>\n",
       "      <td>3394.868808</td>\n",
       "      <td>16296.364</td>\n",
       "      <td>4.174502e+09</td>\n",
       "      <td>8.143113e+09</td>\n",
       "      <td>0.000000e+00</td>\n",
       "      <td>0.000000e+00</td>\n",
       "      <td>-3.968611e+09</td>\n",
       "      <td>2.561616e+05</td>\n",
       "      <td>4.996890e+05</td>\n",
       "      <td>0.000000</td>\n",
       "      <td>0.000000</td>\n",
       "      <td>-2.435274e+05</td>\n",
       "    </tr>\n",
       "    <tr>\n",
       "      <th>1596</th>\n",
       "      <td>Japan</td>\n",
       "      <td>2019</td>\n",
       "      <td>41667.179096</td>\n",
       "      <td>126860.301</td>\n",
       "      <td>7.056400e+11</td>\n",
       "      <td>7.208948e+11</td>\n",
       "      <td>0.000000e+00</td>\n",
       "      <td>0.000000e+00</td>\n",
       "      <td>-1.525482e+10</td>\n",
       "      <td>5.562339e+06</td>\n",
       "      <td>5.682588e+06</td>\n",
       "      <td>0.000000</td>\n",
       "      <td>0.000000</td>\n",
       "      <td>-1.202490e+05</td>\n",
       "    </tr>\n",
       "    <tr>\n",
       "      <th>703</th>\n",
       "      <td>Chile</td>\n",
       "      <td>2019</td>\n",
       "      <td>25131.464758</td>\n",
       "      <td>18952.038</td>\n",
       "      <td>6.968140e+10</td>\n",
       "      <td>6.959130e+10</td>\n",
       "      <td>0.000000e+00</td>\n",
       "      <td>1.643104e+07</td>\n",
       "      <td>7.366793e+07</td>\n",
       "      <td>3.676723e+06</td>\n",
       "      <td>3.671969e+06</td>\n",
       "      <td>0.000000</td>\n",
       "      <td>866.980235</td>\n",
       "      <td>3.887072e+03</td>\n",
       "    </tr>\n",
       "    <tr>\n",
       "      <th>2493</th>\n",
       "      <td>Poland</td>\n",
       "      <td>2019</td>\n",
       "      <td>33226.265918</td>\n",
       "      <td>37887.768</td>\n",
       "      <td>2.518648e+11</td>\n",
       "      <td>2.466539e+11</td>\n",
       "      <td>0.000000e+00</td>\n",
       "      <td>0.000000e+00</td>\n",
       "      <td>5.210893e+09</td>\n",
       "      <td>6.647654e+06</td>\n",
       "      <td>6.510119e+06</td>\n",
       "      <td>0.000000</td>\n",
       "      <td>0.000000</td>\n",
       "      <td>1.375350e+05</td>\n",
       "    </tr>\n",
       "    <tr>\n",
       "      <th>228</th>\n",
       "      <td>Azerbaijan</td>\n",
       "      <td>2019</td>\n",
       "      <td>14402.463864</td>\n",
       "      <td>10047.718</td>\n",
       "      <td>1.963558e+10</td>\n",
       "      <td>1.364927e+10</td>\n",
       "      <td>0.000000e+00</td>\n",
       "      <td>0.000000e+00</td>\n",
       "      <td>5.986312e+09</td>\n",
       "      <td>1.954233e+06</td>\n",
       "      <td>1.358445e+06</td>\n",
       "      <td>0.000000</td>\n",
       "      <td>0.000000</td>\n",
       "      <td>5.957882e+05</td>\n",
       "    </tr>\n",
       "    <tr>\n",
       "      <th>672</th>\n",
       "      <td>Canada</td>\n",
       "      <td>2019</td>\n",
       "      <td>48881.396751</td>\n",
       "      <td>37411.047</td>\n",
       "      <td>4.457275e+11</td>\n",
       "      <td>4.530126e+11</td>\n",
       "      <td>3.627237e+10</td>\n",
       "      <td>3.356662e+09</td>\n",
       "      <td>2.563056e+10</td>\n",
       "      <td>1.191433e+07</td>\n",
       "      <td>1.210906e+07</td>\n",
       "      <td>969563.180169</td>\n",
       "      <td>89723.810554</td>\n",
       "      <td>6.851066e+05</td>\n",
       "    </tr>\n",
       "  </tbody>\n",
       "</table>\n",
       "</div>"
      ],
      "text/plain": [
       "          Country  Year  GDP_Per_Capita  Population        Export  \\\n",
       "1230       Greece  2019    30463.041048   10473.455  3.780546e+10   \n",
       "1152      Georgia  2019    14993.120442    3996.765  3.771399e+09   \n",
       "994   El Salvador  2019     8775.986520    6453.553  5.943316e+09   \n",
       "132       Armenia  2019    13653.749532    2957.731  2.611701e+09   \n",
       "2659      Senegal  2019     3394.868808   16296.364  4.174502e+09   \n",
       "1596        Japan  2019    41667.179096  126860.301  7.056400e+11   \n",
       "703         Chile  2019    25131.464758   18952.038  6.968140e+10   \n",
       "2493       Poland  2019    33226.265918   37887.768  2.518648e+11   \n",
       "228    Azerbaijan  2019    14402.463864   10047.718  1.963558e+10   \n",
       "672        Canada  2019    48881.396751   37411.047  4.457275e+11   \n",
       "\n",
       "            Import     Re-Export     Re-Import  Surplus_Deficit  \\\n",
       "1230  6.210039e+10  0.000000e+00  0.000000e+00    -2.429493e+10   \n",
       "1152  9.063244e+09  1.419164e+09  8.127176e+06    -3.880808e+09   \n",
       "994   1.201756e+10  0.000000e+00  1.241036e+07    -6.086653e+09   \n",
       "132   5.053062e+09  2.140861e+08  5.859051e+05    -2.227861e+09   \n",
       "2659  8.143113e+09  0.000000e+00  0.000000e+00    -3.968611e+09   \n",
       "1596  7.208948e+11  0.000000e+00  0.000000e+00    -1.525482e+10   \n",
       "703   6.959130e+10  0.000000e+00  1.643104e+07     7.366793e+07   \n",
       "2493  2.466539e+11  0.000000e+00  0.000000e+00     5.210893e+09   \n",
       "228   1.364927e+10  0.000000e+00  0.000000e+00     5.986312e+09   \n",
       "672   4.530126e+11  3.627237e+10  3.356662e+09     2.563056e+10   \n",
       "\n",
       "      Export_Per_Capita  Import_Per_Capita  Re-Export_Per_Capita  \\\n",
       "1230       3.609646e+06       5.929313e+06              0.000000   \n",
       "1152       9.436129e+05       2.267645e+06         355078.292199   \n",
       "994        9.209371e+05       1.862162e+06              0.000000   \n",
       "132        8.830082e+05       1.708425e+06          72381.860818   \n",
       "2659       2.561616e+05       4.996890e+05              0.000000   \n",
       "1596       5.562339e+06       5.682588e+06              0.000000   \n",
       "703        3.676723e+06       3.671969e+06              0.000000   \n",
       "2493       6.647654e+06       6.510119e+06              0.000000   \n",
       "228        1.954233e+06       1.358445e+06              0.000000   \n",
       "672        1.191433e+07       1.210906e+07         969563.180169   \n",
       "\n",
       "      Re-Import_Per_Capita  Surplus_Deficit_Per_Capita  \n",
       "1230              0.000000               -2.319667e+06  \n",
       "1152           2033.438511               -9.709872e+05  \n",
       "994            1923.028113               -9.431476e+05  \n",
       "132             198.092774               -7.532333e+05  \n",
       "2659              0.000000               -2.435274e+05  \n",
       "1596              0.000000               -1.202490e+05  \n",
       "703             866.980235                3.887072e+03  \n",
       "2493              0.000000                1.375350e+05  \n",
       "228               0.000000                5.957882e+05  \n",
       "672           89723.810554                6.851066e+05  "
      ]
     },
     "execution_count": 30,
     "metadata": {},
     "output_type": "execute_result"
    }
   ],
   "source": [
    "gdp_trade_pop.loc[gdp_trade_pop['Year'] == gdp_trade_pop['Year'].max()].sort_values(by='Surplus_Deficit_Per_Capita').head(10)\n"
   ]
  },
  {
   "cell_type": "code",
   "execution_count": 31,
   "metadata": {},
   "outputs": [
    {
     "data": {
      "text/html": [
       "<div>\n",
       "<style scoped>\n",
       "    .dataframe tbody tr th:only-of-type {\n",
       "        vertical-align: middle;\n",
       "    }\n",
       "\n",
       "    .dataframe tbody tr th {\n",
       "        vertical-align: top;\n",
       "    }\n",
       "\n",
       "    .dataframe thead th {\n",
       "        text-align: right;\n",
       "    }\n",
       "</style>\n",
       "<table border=\"1\" class=\"dataframe\">\n",
       "  <thead>\n",
       "    <tr style=\"text-align: right;\">\n",
       "      <th></th>\n",
       "      <th>Country</th>\n",
       "      <th>Year</th>\n",
       "      <th>GDP_Per_Capita</th>\n",
       "      <th>Population</th>\n",
       "      <th>Export</th>\n",
       "      <th>Import</th>\n",
       "      <th>Re-Export</th>\n",
       "      <th>Re-Import</th>\n",
       "      <th>Surplus_Deficit</th>\n",
       "      <th>Export_Per_Capita</th>\n",
       "      <th>Import_Per_Capita</th>\n",
       "      <th>Re-Export_Per_Capita</th>\n",
       "      <th>Re-Import_Per_Capita</th>\n",
       "      <th>Surplus_Deficit_Per_Capita</th>\n",
       "    </tr>\n",
       "  </thead>\n",
       "  <tbody>\n",
       "    <tr>\n",
       "      <th>994</th>\n",
       "      <td>El Salvador</td>\n",
       "      <td>2019</td>\n",
       "      <td>8775.986520</td>\n",
       "      <td>6453.553</td>\n",
       "      <td>5.943316e+09</td>\n",
       "      <td>1.201756e+10</td>\n",
       "      <td>0.000000e+00</td>\n",
       "      <td>1.241036e+07</td>\n",
       "      <td>-6.086653e+09</td>\n",
       "      <td>9.209371e+05</td>\n",
       "      <td>1.862162e+06</td>\n",
       "      <td>0.000000</td>\n",
       "      <td>1923.028113</td>\n",
       "      <td>-9.431476e+05</td>\n",
       "    </tr>\n",
       "    <tr>\n",
       "      <th>132</th>\n",
       "      <td>Armenia</td>\n",
       "      <td>2019</td>\n",
       "      <td>13653.749532</td>\n",
       "      <td>2957.731</td>\n",
       "      <td>2.611701e+09</td>\n",
       "      <td>5.053062e+09</td>\n",
       "      <td>2.140861e+08</td>\n",
       "      <td>5.859051e+05</td>\n",
       "      <td>-2.227861e+09</td>\n",
       "      <td>8.830082e+05</td>\n",
       "      <td>1.708425e+06</td>\n",
       "      <td>72381.860818</td>\n",
       "      <td>198.092774</td>\n",
       "      <td>-7.532333e+05</td>\n",
       "    </tr>\n",
       "    <tr>\n",
       "      <th>2659</th>\n",
       "      <td>Senegal</td>\n",
       "      <td>2019</td>\n",
       "      <td>3394.868808</td>\n",
       "      <td>16296.364</td>\n",
       "      <td>4.174502e+09</td>\n",
       "      <td>8.143113e+09</td>\n",
       "      <td>0.000000e+00</td>\n",
       "      <td>0.000000e+00</td>\n",
       "      <td>-3.968611e+09</td>\n",
       "      <td>2.561616e+05</td>\n",
       "      <td>4.996890e+05</td>\n",
       "      <td>0.000000</td>\n",
       "      <td>0.000000</td>\n",
       "      <td>-2.435274e+05</td>\n",
       "    </tr>\n",
       "    <tr>\n",
       "      <th>1596</th>\n",
       "      <td>Japan</td>\n",
       "      <td>2019</td>\n",
       "      <td>41667.179096</td>\n",
       "      <td>126860.301</td>\n",
       "      <td>7.056400e+11</td>\n",
       "      <td>7.208948e+11</td>\n",
       "      <td>0.000000e+00</td>\n",
       "      <td>0.000000e+00</td>\n",
       "      <td>-1.525482e+10</td>\n",
       "      <td>5.562339e+06</td>\n",
       "      <td>5.682588e+06</td>\n",
       "      <td>0.000000</td>\n",
       "      <td>0.000000</td>\n",
       "      <td>-1.202490e+05</td>\n",
       "    </tr>\n",
       "    <tr>\n",
       "      <th>703</th>\n",
       "      <td>Chile</td>\n",
       "      <td>2019</td>\n",
       "      <td>25131.464758</td>\n",
       "      <td>18952.038</td>\n",
       "      <td>6.968140e+10</td>\n",
       "      <td>6.959130e+10</td>\n",
       "      <td>0.000000e+00</td>\n",
       "      <td>1.643104e+07</td>\n",
       "      <td>7.366793e+07</td>\n",
       "      <td>3.676723e+06</td>\n",
       "      <td>3.671969e+06</td>\n",
       "      <td>0.000000</td>\n",
       "      <td>866.980235</td>\n",
       "      <td>3.887072e+03</td>\n",
       "    </tr>\n",
       "    <tr>\n",
       "      <th>2493</th>\n",
       "      <td>Poland</td>\n",
       "      <td>2019</td>\n",
       "      <td>33226.265918</td>\n",
       "      <td>37887.768</td>\n",
       "      <td>2.518648e+11</td>\n",
       "      <td>2.466539e+11</td>\n",
       "      <td>0.000000e+00</td>\n",
       "      <td>0.000000e+00</td>\n",
       "      <td>5.210893e+09</td>\n",
       "      <td>6.647654e+06</td>\n",
       "      <td>6.510119e+06</td>\n",
       "      <td>0.000000</td>\n",
       "      <td>0.000000</td>\n",
       "      <td>1.375350e+05</td>\n",
       "    </tr>\n",
       "    <tr>\n",
       "      <th>228</th>\n",
       "      <td>Azerbaijan</td>\n",
       "      <td>2019</td>\n",
       "      <td>14402.463864</td>\n",
       "      <td>10047.718</td>\n",
       "      <td>1.963558e+10</td>\n",
       "      <td>1.364927e+10</td>\n",
       "      <td>0.000000e+00</td>\n",
       "      <td>0.000000e+00</td>\n",
       "      <td>5.986312e+09</td>\n",
       "      <td>1.954233e+06</td>\n",
       "      <td>1.358445e+06</td>\n",
       "      <td>0.000000</td>\n",
       "      <td>0.000000</td>\n",
       "      <td>5.957882e+05</td>\n",
       "    </tr>\n",
       "    <tr>\n",
       "      <th>672</th>\n",
       "      <td>Canada</td>\n",
       "      <td>2019</td>\n",
       "      <td>48881.396751</td>\n",
       "      <td>37411.047</td>\n",
       "      <td>4.457275e+11</td>\n",
       "      <td>4.530126e+11</td>\n",
       "      <td>3.627237e+10</td>\n",
       "      <td>3.356662e+09</td>\n",
       "      <td>2.563056e+10</td>\n",
       "      <td>1.191433e+07</td>\n",
       "      <td>1.210906e+07</td>\n",
       "      <td>969563.180169</td>\n",
       "      <td>89723.810554</td>\n",
       "      <td>6.851066e+05</td>\n",
       "    </tr>\n",
       "    <tr>\n",
       "      <th>897</th>\n",
       "      <td>Denmark</td>\n",
       "      <td>2019</td>\n",
       "      <td>57862.278278</td>\n",
       "      <td>5771.876</td>\n",
       "      <td>1.098668e+11</td>\n",
       "      <td>9.700914e+10</td>\n",
       "      <td>0.000000e+00</td>\n",
       "      <td>0.000000e+00</td>\n",
       "      <td>1.285767e+10</td>\n",
       "      <td>1.903485e+07</td>\n",
       "      <td>1.680721e+07</td>\n",
       "      <td>0.000000</td>\n",
       "      <td>0.000000</td>\n",
       "      <td>2.227641e+06</td>\n",
       "    </tr>\n",
       "    <tr>\n",
       "      <th>2912</th>\n",
       "      <td>Switzerland</td>\n",
       "      <td>2019</td>\n",
       "      <td>68390.712985</td>\n",
       "      <td>8591.365</td>\n",
       "      <td>3.136296e+11</td>\n",
       "      <td>2.762918e+11</td>\n",
       "      <td>0.000000e+00</td>\n",
       "      <td>0.000000e+00</td>\n",
       "      <td>3.733774e+10</td>\n",
       "      <td>3.650521e+07</td>\n",
       "      <td>3.215924e+07</td>\n",
       "      <td>0.000000</td>\n",
       "      <td>0.000000</td>\n",
       "      <td>4.345961e+06</td>\n",
       "    </tr>\n",
       "  </tbody>\n",
       "</table>\n",
       "</div>"
      ],
      "text/plain": [
       "          Country  Year  GDP_Per_Capita  Population        Export  \\\n",
       "994   El Salvador  2019     8775.986520    6453.553  5.943316e+09   \n",
       "132       Armenia  2019    13653.749532    2957.731  2.611701e+09   \n",
       "2659      Senegal  2019     3394.868808   16296.364  4.174502e+09   \n",
       "1596        Japan  2019    41667.179096  126860.301  7.056400e+11   \n",
       "703         Chile  2019    25131.464758   18952.038  6.968140e+10   \n",
       "2493       Poland  2019    33226.265918   37887.768  2.518648e+11   \n",
       "228    Azerbaijan  2019    14402.463864   10047.718  1.963558e+10   \n",
       "672        Canada  2019    48881.396751   37411.047  4.457275e+11   \n",
       "897       Denmark  2019    57862.278278    5771.876  1.098668e+11   \n",
       "2912  Switzerland  2019    68390.712985    8591.365  3.136296e+11   \n",
       "\n",
       "            Import     Re-Export     Re-Import  Surplus_Deficit  \\\n",
       "994   1.201756e+10  0.000000e+00  1.241036e+07    -6.086653e+09   \n",
       "132   5.053062e+09  2.140861e+08  5.859051e+05    -2.227861e+09   \n",
       "2659  8.143113e+09  0.000000e+00  0.000000e+00    -3.968611e+09   \n",
       "1596  7.208948e+11  0.000000e+00  0.000000e+00    -1.525482e+10   \n",
       "703   6.959130e+10  0.000000e+00  1.643104e+07     7.366793e+07   \n",
       "2493  2.466539e+11  0.000000e+00  0.000000e+00     5.210893e+09   \n",
       "228   1.364927e+10  0.000000e+00  0.000000e+00     5.986312e+09   \n",
       "672   4.530126e+11  3.627237e+10  3.356662e+09     2.563056e+10   \n",
       "897   9.700914e+10  0.000000e+00  0.000000e+00     1.285767e+10   \n",
       "2912  2.762918e+11  0.000000e+00  0.000000e+00     3.733774e+10   \n",
       "\n",
       "      Export_Per_Capita  Import_Per_Capita  Re-Export_Per_Capita  \\\n",
       "994        9.209371e+05       1.862162e+06              0.000000   \n",
       "132        8.830082e+05       1.708425e+06          72381.860818   \n",
       "2659       2.561616e+05       4.996890e+05              0.000000   \n",
       "1596       5.562339e+06       5.682588e+06              0.000000   \n",
       "703        3.676723e+06       3.671969e+06              0.000000   \n",
       "2493       6.647654e+06       6.510119e+06              0.000000   \n",
       "228        1.954233e+06       1.358445e+06              0.000000   \n",
       "672        1.191433e+07       1.210906e+07         969563.180169   \n",
       "897        1.903485e+07       1.680721e+07              0.000000   \n",
       "2912       3.650521e+07       3.215924e+07              0.000000   \n",
       "\n",
       "      Re-Import_Per_Capita  Surplus_Deficit_Per_Capita  \n",
       "994            1923.028113               -9.431476e+05  \n",
       "132             198.092774               -7.532333e+05  \n",
       "2659              0.000000               -2.435274e+05  \n",
       "1596              0.000000               -1.202490e+05  \n",
       "703             866.980235                3.887072e+03  \n",
       "2493              0.000000                1.375350e+05  \n",
       "228               0.000000                5.957882e+05  \n",
       "672           89723.810554                6.851066e+05  \n",
       "897               0.000000                2.227641e+06  \n",
       "2912              0.000000                4.345961e+06  "
      ]
     },
     "execution_count": 31,
     "metadata": {},
     "output_type": "execute_result"
    }
   ],
   "source": [
    "gdp_trade_pop.loc[gdp_trade_pop['Year'] == gdp_trade_pop['Year'].max()].sort_values(by='Surplus_Deficit_Per_Capita').tail(10)\n"
   ]
  },
  {
   "cell_type": "code",
   "execution_count": null,
   "metadata": {},
   "outputs": [],
   "source": []
  },
  {
   "cell_type": "markdown",
   "metadata": {},
   "source": [
    "Luxemburg disappeared from bottom 10 in 2019, yay! With that said, of the top 10 GDP earners, only Switzerland appears to have the highest surplus! Also, alright Poland, those Witcher sales looking good for your economy, lol!"
   ]
  },
  {
   "cell_type": "code",
   "execution_count": 32,
   "metadata": {},
   "outputs": [
    {
     "data": {
      "text/plain": [
       "<seaborn.axisgrid.FacetGrid at 0x7fb6c0fb56a0>"
      ]
     },
     "execution_count": 32,
     "metadata": {},
     "output_type": "execute_result"
    },
    {
     "data": {
      "image/png": "[encoded data removed]",
      "text/plain": [
       "<Figure size 1141.5x432 with 10 Axes>"
      ]
     },
     "metadata": {
      "needs_background": "light"
     },
     "output_type": "display_data"
    }
   ],
   "source": [
    "g6 = sns.FacetGrid(\n",
    "    gdp_trade_pop.loc[gdp_trade_pop['Country'].isin(top10_gdp)],\n",
    "    col='Country',\n",
    "    col_wrap=5,\n",
    "    hue='Year'\n",
    ")\n",
    "g6.map(sns.scatterplot, 'Surplus_Deficit_Per_Capita', 'GDP_Per_Capita')\n",
    "g6.add_legend()"
   ]
  },
  {
   "cell_type": "markdown",
   "metadata": {},
   "source": [
    "A more clear look at what above - a higher surplus does not necessarily mean higher GDP."
   ]
  },
  {
   "cell_type": "code",
   "execution_count": 33,
   "metadata": {},
   "outputs": [
    {
     "data": {
      "text/plain": [
       "<AxesSubplot:xlabel='Surplus_Deficit_Per_Capita', ylabel='GDP_Per_Capita'>"
      ]
     },
     "execution_count": 33,
     "metadata": {},
     "output_type": "execute_result"
    },
    {
     "data": {
      "image/png": "[encoded data removed]",
      "text/plain": [
       "<Figure size 432x288 with 1 Axes>"
      ]
     },
     "metadata": {
      "needs_background": "light"
     },
     "output_type": "display_data"
    }
   ],
   "source": [
    "sns.scatterplot(\n",
    "    data=gdp_trade_pop.loc[gdp_trade_pop['Country']=='Slovenia'],\n",
    "    x='Surplus_Deficit_Per_Capita',\n",
    "    y='GDP_Per_Capita',\n",
    "    hue='Year'\n",
    ")"
   ]
  },
  {
   "cell_type": "code",
   "execution_count": 34,
   "metadata": {},
   "outputs": [
    {
     "data": {
      "text/plain": [
       "<AxesSubplot:xlabel='Year', ylabel='GDP_Per_Capita'>"
      ]
     },
     "execution_count": 34,
     "metadata": {},
     "output_type": "execute_result"
    },
    {
     "data": {
      "image/png": "[encoded data removed]",
      "text/plain": [
       "<Figure size 432x288 with 1 Axes>"
      ]
     },
     "metadata": {
      "needs_background": "light"
     },
     "output_type": "display_data"
    }
   ],
   "source": [
    "sns.lineplot(\n",
    "    data=gdp_trade_pop.loc[gdp_trade_pop['Country']=='Slovenia'],\n",
    "    x='Year',\n",
    "    y='GDP_Per_Capita'\n",
    ")\n"
   ]
  },
  {
   "cell_type": "code",
   "execution_count": 35,
   "metadata": {},
   "outputs": [
    {
     "data": {
      "text/plain": [
       "<AxesSubplot:xlabel='Year', ylabel='Surplus_Deficit_Per_Capita'>"
      ]
     },
     "execution_count": 35,
     "metadata": {},
     "output_type": "execute_result"
    },
    {
     "data": {
      "image/png": "[encoded data removed]",
      "text/plain": [
       "<Figure size 432x288 with 1 Axes>"
      ]
     },
     "metadata": {
      "needs_background": "light"
     },
     "output_type": "display_data"
    }
   ],
   "source": [
    "sns.lineplot(\n",
    "    data=gdp_trade_pop.loc[gdp_trade_pop['Country']=='Slovenia'],\n",
    "    x='Year',\n",
    "    y='Surplus_Deficit_Per_Capita'\n",
    ")"
   ]
  },
  {
   "cell_type": "markdown",
   "metadata": {},
   "source": [
    "After all this: idea to compare the highest GDP and lowest GDP per different continents."
   ]
  },
  {
   "cell_type": "code",
   "execution_count": 36,
   "metadata": {},
   "outputs": [],
   "source": [
    "continents = pd.read_csv('../data/continents.csv')"
   ]
  },
  {
   "cell_type": "code",
   "execution_count": 37,
   "metadata": {},
   "outputs": [],
   "source": [
    "gdp_trade_pop_continent = pd.merge(gdp_trade_pop, continents, how='inner', on='Country')"
   ]
  },
  {
   "cell_type": "code",
   "execution_count": 38,
   "metadata": {},
   "outputs": [
    {
     "data": {
      "text/plain": [
       "Continent\n",
       "Europe           925\n",
       "Africa           780\n",
       "Asia             692\n",
       "North America    424\n",
       "South America    295\n",
       "Oceania          166\n",
       "dtype: int64"
      ]
     },
     "execution_count": 38,
     "metadata": {},
     "output_type": "execute_result"
    }
   ],
   "source": [
    "gdp_trade_pop_continent.value_counts('Continent')"
   ]
  },
  {
   "cell_type": "markdown",
   "metadata": {},
   "source": [
    "First of all, create a list of top GDP countries per each continent and bottom GDP countries per each continent (6 in each list)."
   ]
  },
  {
   "cell_type": "code",
   "execution_count": 39,
   "metadata": {},
   "outputs": [
    {
     "data": {
      "text/html": [
       "<div>\n",
       "<style scoped>\n",
       "    .dataframe tbody tr th:only-of-type {\n",
       "        vertical-align: middle;\n",
       "    }\n",
       "\n",
       "    .dataframe tbody tr th {\n",
       "        vertical-align: top;\n",
       "    }\n",
       "\n",
       "    .dataframe thead th {\n",
       "        text-align: right;\n",
       "    }\n",
       "</style>\n",
       "<table border=\"1\" class=\"dataframe\">\n",
       "  <thead>\n",
       "    <tr style=\"text-align: right;\">\n",
       "      <th></th>\n",
       "      <th>count</th>\n",
       "      <th>mean</th>\n",
       "      <th>std</th>\n",
       "      <th>min</th>\n",
       "      <th>25%</th>\n",
       "      <th>50%</th>\n",
       "      <th>75%</th>\n",
       "      <th>max</th>\n",
       "    </tr>\n",
       "    <tr>\n",
       "      <th>Continent</th>\n",
       "      <th></th>\n",
       "      <th></th>\n",
       "      <th></th>\n",
       "      <th></th>\n",
       "      <th></th>\n",
       "      <th></th>\n",
       "      <th></th>\n",
       "      <th></th>\n",
       "    </tr>\n",
       "  </thead>\n",
       "  <tbody>\n",
       "    <tr>\n",
       "      <th>Africa</th>\n",
       "      <td>780.0</td>\n",
       "      <td>5214.083354</td>\n",
       "      <td>5306.622205</td>\n",
       "      <td>469.189231</td>\n",
       "      <td>1570.981226</td>\n",
       "      <td>2905.320056</td>\n",
       "      <td>7362.106934</td>\n",
       "      <td>27996.770572</td>\n",
       "    </tr>\n",
       "    <tr>\n",
       "      <th>Asia</th>\n",
       "      <td>692.0</td>\n",
       "      <td>24671.956771</td>\n",
       "      <td>25300.683707</td>\n",
       "      <td>658.107935</td>\n",
       "      <td>5456.149131</td>\n",
       "      <td>14261.901478</td>\n",
       "      <td>37587.436352</td>\n",
       "      <td>106103.881293</td>\n",
       "    </tr>\n",
       "    <tr>\n",
       "      <th>Europe</th>\n",
       "      <td>925.0</td>\n",
       "      <td>33560.639472</td>\n",
       "      <td>19114.712673</td>\n",
       "      <td>3033.830388</td>\n",
       "      <td>18083.251996</td>\n",
       "      <td>32169.252380</td>\n",
       "      <td>45061.605638</td>\n",
       "      <td>115256.016699</td>\n",
       "    </tr>\n",
       "    <tr>\n",
       "      <th>North America</th>\n",
       "      <td>424.0</td>\n",
       "      <td>20283.317545</td>\n",
       "      <td>19064.490718</td>\n",
       "      <td>2401.826183</td>\n",
       "      <td>7262.422414</td>\n",
       "      <td>14005.467168</td>\n",
       "      <td>26703.580122</td>\n",
       "      <td>98257.992698</td>\n",
       "    </tr>\n",
       "    <tr>\n",
       "      <th>Oceania</th>\n",
       "      <td>166.0</td>\n",
       "      <td>17545.434791</td>\n",
       "      <td>15806.533386</td>\n",
       "      <td>1921.723959</td>\n",
       "      <td>3496.426975</td>\n",
       "      <td>10557.384701</td>\n",
       "      <td>33010.469874</td>\n",
       "      <td>49304.251113</td>\n",
       "    </tr>\n",
       "    <tr>\n",
       "      <th>South America</th>\n",
       "      <td>295.0</td>\n",
       "      <td>12417.838918</td>\n",
       "      <td>4997.879655</td>\n",
       "      <td>4705.585170</td>\n",
       "      <td>8627.528218</td>\n",
       "      <td>11520.331639</td>\n",
       "      <td>15194.097391</td>\n",
       "      <td>25165.178178</td>\n",
       "    </tr>\n",
       "  </tbody>\n",
       "</table>\n",
       "</div>"
      ],
      "text/plain": [
       "               count          mean           std          min           25%  \\\n",
       "Continent                                                                     \n",
       "Africa         780.0   5214.083354   5306.622205   469.189231   1570.981226   \n",
       "Asia           692.0  24671.956771  25300.683707   658.107935   5456.149131   \n",
       "Europe         925.0  33560.639472  19114.712673  3033.830388  18083.251996   \n",
       "North America  424.0  20283.317545  19064.490718  2401.826183   7262.422414   \n",
       "Oceania        166.0  17545.434791  15806.533386  1921.723959   3496.426975   \n",
       "South America  295.0  12417.838918   4997.879655  4705.585170   8627.528218   \n",
       "\n",
       "                        50%           75%            max  \n",
       "Continent                                                 \n",
       "Africa          2905.320056   7362.106934   27996.770572  \n",
       "Asia           14261.901478  37587.436352  106103.881293  \n",
       "Europe         32169.252380  45061.605638  115256.016699  \n",
       "North America  14005.467168  26703.580122   98257.992698  \n",
       "Oceania        10557.384701  33010.469874   49304.251113  \n",
       "South America  11520.331639  15194.097391   25165.178178  "
      ]
     },
     "execution_count": 39,
     "metadata": {},
     "output_type": "execute_result"
    }
   ],
   "source": [
    "gdp_trade_pop_continent.groupby('Continent')['GDP_Per_Capita'].describe()"
   ]
  },
  {
   "cell_type": "markdown",
   "metadata": {},
   "source": [
    "Comment: I knew that they were going to be skewed (with some countries having much higher gdp than others), but damn!"
   ]
  },
  {
   "cell_type": "code",
   "execution_count": 40,
   "metadata": {},
   "outputs": [
    {
     "data": {
      "text/html": [
       "<div>\n",
       "<style scoped>\n",
       "    .dataframe tbody tr th:only-of-type {\n",
       "        vertical-align: middle;\n",
       "    }\n",
       "\n",
       "    .dataframe tbody tr th {\n",
       "        vertical-align: top;\n",
       "    }\n",
       "\n",
       "    .dataframe thead th {\n",
       "        text-align: right;\n",
       "    }\n",
       "</style>\n",
       "<table border=\"1\" class=\"dataframe\">\n",
       "  <thead>\n",
       "    <tr style=\"text-align: right;\">\n",
       "      <th></th>\n",
       "      <th>count</th>\n",
       "      <th>mean</th>\n",
       "      <th>std</th>\n",
       "      <th>min</th>\n",
       "      <th>25%</th>\n",
       "      <th>50%</th>\n",
       "      <th>75%</th>\n",
       "      <th>max</th>\n",
       "    </tr>\n",
       "    <tr>\n",
       "      <th>Continent</th>\n",
       "      <th></th>\n",
       "      <th></th>\n",
       "      <th></th>\n",
       "      <th></th>\n",
       "      <th></th>\n",
       "      <th></th>\n",
       "      <th></th>\n",
       "      <th></th>\n",
       "    </tr>\n",
       "  </thead>\n",
       "  <tbody>\n",
       "    <tr>\n",
       "      <th>Africa</th>\n",
       "      <td>1.0</td>\n",
       "      <td>3394.868808</td>\n",
       "      <td>NaN</td>\n",
       "      <td>3394.868808</td>\n",
       "      <td>3394.868808</td>\n",
       "      <td>3394.868808</td>\n",
       "      <td>3394.868808</td>\n",
       "      <td>3394.868808</td>\n",
       "    </tr>\n",
       "    <tr>\n",
       "      <th>Asia</th>\n",
       "      <td>1.0</td>\n",
       "      <td>41667.179096</td>\n",
       "      <td>NaN</td>\n",
       "      <td>41667.179096</td>\n",
       "      <td>41667.179096</td>\n",
       "      <td>41667.179096</td>\n",
       "      <td>41667.179096</td>\n",
       "      <td>41667.179096</td>\n",
       "    </tr>\n",
       "    <tr>\n",
       "      <th>Europe</th>\n",
       "      <td>7.0</td>\n",
       "      <td>33284.518867</td>\n",
       "      <td>22064.109680</td>\n",
       "      <td>13653.749532</td>\n",
       "      <td>14697.792153</td>\n",
       "      <td>30463.041048</td>\n",
       "      <td>45544.272098</td>\n",
       "      <td>68390.712985</td>\n",
       "    </tr>\n",
       "    <tr>\n",
       "      <th>North America</th>\n",
       "      <td>2.0</td>\n",
       "      <td>28828.691635</td>\n",
       "      <td>28358.807537</td>\n",
       "      <td>8775.986520</td>\n",
       "      <td>18802.339078</td>\n",
       "      <td>28828.691635</td>\n",
       "      <td>38855.044193</td>\n",
       "      <td>48881.396751</td>\n",
       "    </tr>\n",
       "    <tr>\n",
       "      <th>South America</th>\n",
       "      <td>1.0</td>\n",
       "      <td>25131.464758</td>\n",
       "      <td>NaN</td>\n",
       "      <td>25131.464758</td>\n",
       "      <td>25131.464758</td>\n",
       "      <td>25131.464758</td>\n",
       "      <td>25131.464758</td>\n",
       "      <td>25131.464758</td>\n",
       "    </tr>\n",
       "  </tbody>\n",
       "</table>\n",
       "</div>"
      ],
      "text/plain": [
       "               count          mean           std           min           25%  \\\n",
       "Continent                                                                      \n",
       "Africa           1.0   3394.868808           NaN   3394.868808   3394.868808   \n",
       "Asia             1.0  41667.179096           NaN  41667.179096  41667.179096   \n",
       "Europe           7.0  33284.518867  22064.109680  13653.749532  14697.792153   \n",
       "North America    2.0  28828.691635  28358.807537   8775.986520  18802.339078   \n",
       "South America    1.0  25131.464758           NaN  25131.464758  25131.464758   \n",
       "\n",
       "                        50%           75%           max  \n",
       "Continent                                                \n",
       "Africa          3394.868808   3394.868808   3394.868808  \n",
       "Asia           41667.179096  41667.179096  41667.179096  \n",
       "Europe         30463.041048  45544.272098  68390.712985  \n",
       "North America  28828.691635  38855.044193  48881.396751  \n",
       "South America  25131.464758  25131.464758  25131.464758  "
      ]
     },
     "execution_count": 40,
     "metadata": {},
     "output_type": "execute_result"
    }
   ],
   "source": [
    "gdp_trade_pop_continent.loc[gdp_trade_pop_continent['Year'] == gdp_trade_pop_continent['Year'].max()].groupby('Continent')['GDP_Per_Capita'].describe()"
   ]
  },
  {
   "cell_type": "code",
   "execution_count": 41,
   "metadata": {},
   "outputs": [
    {
     "data": {
      "text/html": [
       "<div>\n",
       "<style scoped>\n",
       "    .dataframe tbody tr th:only-of-type {\n",
       "        vertical-align: middle;\n",
       "    }\n",
       "\n",
       "    .dataframe tbody tr th {\n",
       "        vertical-align: top;\n",
       "    }\n",
       "\n",
       "    .dataframe thead th {\n",
       "        text-align: right;\n",
       "    }\n",
       "</style>\n",
       "<table border=\"1\" class=\"dataframe\">\n",
       "  <thead>\n",
       "    <tr style=\"text-align: right;\">\n",
       "      <th></th>\n",
       "      <th>Country</th>\n",
       "      <th>Year</th>\n",
       "      <th>GDP_Per_Capita</th>\n",
       "      <th>Population</th>\n",
       "      <th>Export</th>\n",
       "      <th>Import</th>\n",
       "      <th>Re-Export</th>\n",
       "      <th>Re-Import</th>\n",
       "      <th>Surplus_Deficit</th>\n",
       "      <th>Export_Per_Capita</th>\n",
       "      <th>Import_Per_Capita</th>\n",
       "      <th>Re-Export_Per_Capita</th>\n",
       "      <th>Re-Import_Per_Capita</th>\n",
       "      <th>Surplus_Deficit_Per_Capita</th>\n",
       "      <th>Continent</th>\n",
       "    </tr>\n",
       "  </thead>\n",
       "  <tbody>\n",
       "    <tr>\n",
       "      <th>132</th>\n",
       "      <td>Armenia</td>\n",
       "      <td>2019</td>\n",
       "      <td>13653.749532</td>\n",
       "      <td>2957.731</td>\n",
       "      <td>2.611701e+09</td>\n",
       "      <td>5.053062e+09</td>\n",
       "      <td>2.140861e+08</td>\n",
       "      <td>5.859051e+05</td>\n",
       "      <td>-2.227861e+09</td>\n",
       "      <td>8.830082e+05</td>\n",
       "      <td>1.708425e+06</td>\n",
       "      <td>72381.860818</td>\n",
       "      <td>198.092774</td>\n",
       "      <td>-7.532333e+05</td>\n",
       "      <td>Europe</td>\n",
       "    </tr>\n",
       "    <tr>\n",
       "      <th>228</th>\n",
       "      <td>Azerbaijan</td>\n",
       "      <td>2019</td>\n",
       "      <td>14402.463864</td>\n",
       "      <td>10047.718</td>\n",
       "      <td>1.963558e+10</td>\n",
       "      <td>1.364927e+10</td>\n",
       "      <td>0.000000e+00</td>\n",
       "      <td>0.000000e+00</td>\n",
       "      <td>5.986312e+09</td>\n",
       "      <td>1.954233e+06</td>\n",
       "      <td>1.358445e+06</td>\n",
       "      <td>0.000000</td>\n",
       "      <td>0.000000</td>\n",
       "      <td>5.957882e+05</td>\n",
       "      <td>Europe</td>\n",
       "    </tr>\n",
       "    <tr>\n",
       "      <th>672</th>\n",
       "      <td>Canada</td>\n",
       "      <td>2019</td>\n",
       "      <td>48881.396751</td>\n",
       "      <td>37411.047</td>\n",
       "      <td>4.457275e+11</td>\n",
       "      <td>4.530126e+11</td>\n",
       "      <td>3.627237e+10</td>\n",
       "      <td>3.356662e+09</td>\n",
       "      <td>2.563056e+10</td>\n",
       "      <td>1.191433e+07</td>\n",
       "      <td>1.210906e+07</td>\n",
       "      <td>969563.180169</td>\n",
       "      <td>89723.810554</td>\n",
       "      <td>6.851066e+05</td>\n",
       "      <td>North America</td>\n",
       "    </tr>\n",
       "    <tr>\n",
       "      <th>703</th>\n",
       "      <td>Chile</td>\n",
       "      <td>2019</td>\n",
       "      <td>25131.464758</td>\n",
       "      <td>18952.038</td>\n",
       "      <td>6.968140e+10</td>\n",
       "      <td>6.959130e+10</td>\n",
       "      <td>0.000000e+00</td>\n",
       "      <td>1.643104e+07</td>\n",
       "      <td>7.366793e+07</td>\n",
       "      <td>3.676723e+06</td>\n",
       "      <td>3.671969e+06</td>\n",
       "      <td>0.000000</td>\n",
       "      <td>866.980235</td>\n",
       "      <td>3.887072e+03</td>\n",
       "      <td>South America</td>\n",
       "    </tr>\n",
       "    <tr>\n",
       "      <th>897</th>\n",
       "      <td>Denmark</td>\n",
       "      <td>2019</td>\n",
       "      <td>57862.278278</td>\n",
       "      <td>5771.876</td>\n",
       "      <td>1.098668e+11</td>\n",
       "      <td>9.700914e+10</td>\n",
       "      <td>0.000000e+00</td>\n",
       "      <td>0.000000e+00</td>\n",
       "      <td>1.285767e+10</td>\n",
       "      <td>1.903485e+07</td>\n",
       "      <td>1.680721e+07</td>\n",
       "      <td>0.000000</td>\n",
       "      <td>0.000000</td>\n",
       "      <td>2.227641e+06</td>\n",
       "      <td>Europe</td>\n",
       "    </tr>\n",
       "    <tr>\n",
       "      <th>994</th>\n",
       "      <td>El Salvador</td>\n",
       "      <td>2019</td>\n",
       "      <td>8775.986520</td>\n",
       "      <td>6453.553</td>\n",
       "      <td>5.943316e+09</td>\n",
       "      <td>1.201756e+10</td>\n",
       "      <td>0.000000e+00</td>\n",
       "      <td>1.241036e+07</td>\n",
       "      <td>-6.086653e+09</td>\n",
       "      <td>9.209371e+05</td>\n",
       "      <td>1.862162e+06</td>\n",
       "      <td>0.000000</td>\n",
       "      <td>1923.028113</td>\n",
       "      <td>-9.431476e+05</td>\n",
       "      <td>North America</td>\n",
       "    </tr>\n",
       "    <tr>\n",
       "      <th>1152</th>\n",
       "      <td>Georgia</td>\n",
       "      <td>2019</td>\n",
       "      <td>14993.120442</td>\n",
       "      <td>3996.765</td>\n",
       "      <td>3.771399e+09</td>\n",
       "      <td>9.063244e+09</td>\n",
       "      <td>1.419164e+09</td>\n",
       "      <td>8.127176e+06</td>\n",
       "      <td>-3.880808e+09</td>\n",
       "      <td>9.436129e+05</td>\n",
       "      <td>2.267645e+06</td>\n",
       "      <td>355078.292199</td>\n",
       "      <td>2033.438511</td>\n",
       "      <td>-9.709872e+05</td>\n",
       "      <td>Europe</td>\n",
       "    </tr>\n",
       "    <tr>\n",
       "      <th>1230</th>\n",
       "      <td>Greece</td>\n",
       "      <td>2019</td>\n",
       "      <td>30463.041048</td>\n",
       "      <td>10473.455</td>\n",
       "      <td>3.780546e+10</td>\n",
       "      <td>6.210039e+10</td>\n",
       "      <td>0.000000e+00</td>\n",
       "      <td>0.000000e+00</td>\n",
       "      <td>-2.429493e+10</td>\n",
       "      <td>3.609646e+06</td>\n",
       "      <td>5.929313e+06</td>\n",
       "      <td>0.000000</td>\n",
       "      <td>0.000000</td>\n",
       "      <td>-2.319667e+06</td>\n",
       "      <td>Europe</td>\n",
       "    </tr>\n",
       "    <tr>\n",
       "      <th>1596</th>\n",
       "      <td>Japan</td>\n",
       "      <td>2019</td>\n",
       "      <td>41667.179096</td>\n",
       "      <td>126860.301</td>\n",
       "      <td>7.056400e+11</td>\n",
       "      <td>7.208948e+11</td>\n",
       "      <td>0.000000e+00</td>\n",
       "      <td>0.000000e+00</td>\n",
       "      <td>-1.525482e+10</td>\n",
       "      <td>5.562339e+06</td>\n",
       "      <td>5.682588e+06</td>\n",
       "      <td>0.000000</td>\n",
       "      <td>0.000000</td>\n",
       "      <td>-1.202490e+05</td>\n",
       "      <td>Asia</td>\n",
       "    </tr>\n",
       "    <tr>\n",
       "      <th>2493</th>\n",
       "      <td>Poland</td>\n",
       "      <td>2019</td>\n",
       "      <td>33226.265918</td>\n",
       "      <td>37887.768</td>\n",
       "      <td>2.518648e+11</td>\n",
       "      <td>2.466539e+11</td>\n",
       "      <td>0.000000e+00</td>\n",
       "      <td>0.000000e+00</td>\n",
       "      <td>5.210893e+09</td>\n",
       "      <td>6.647654e+06</td>\n",
       "      <td>6.510119e+06</td>\n",
       "      <td>0.000000</td>\n",
       "      <td>0.000000</td>\n",
       "      <td>1.375350e+05</td>\n",
       "      <td>Europe</td>\n",
       "    </tr>\n",
       "    <tr>\n",
       "      <th>2659</th>\n",
       "      <td>Senegal</td>\n",
       "      <td>2019</td>\n",
       "      <td>3394.868808</td>\n",
       "      <td>16296.364</td>\n",
       "      <td>4.174502e+09</td>\n",
       "      <td>8.143113e+09</td>\n",
       "      <td>0.000000e+00</td>\n",
       "      <td>0.000000e+00</td>\n",
       "      <td>-3.968611e+09</td>\n",
       "      <td>2.561616e+05</td>\n",
       "      <td>4.996890e+05</td>\n",
       "      <td>0.000000</td>\n",
       "      <td>0.000000</td>\n",
       "      <td>-2.435274e+05</td>\n",
       "      <td>Africa</td>\n",
       "    </tr>\n",
       "    <tr>\n",
       "      <th>2912</th>\n",
       "      <td>Switzerland</td>\n",
       "      <td>2019</td>\n",
       "      <td>68390.712985</td>\n",
       "      <td>8591.365</td>\n",
       "      <td>3.136296e+11</td>\n",
       "      <td>2.762918e+11</td>\n",
       "      <td>0.000000e+00</td>\n",
       "      <td>0.000000e+00</td>\n",
       "      <td>3.733774e+10</td>\n",
       "      <td>3.650521e+07</td>\n",
       "      <td>3.215924e+07</td>\n",
       "      <td>0.000000</td>\n",
       "      <td>0.000000</td>\n",
       "      <td>4.345961e+06</td>\n",
       "      <td>Europe</td>\n",
       "    </tr>\n",
       "  </tbody>\n",
       "</table>\n",
       "</div>"
      ],
      "text/plain": [
       "          Country  Year  GDP_Per_Capita  Population        Export  \\\n",
       "132       Armenia  2019    13653.749532    2957.731  2.611701e+09   \n",
       "228    Azerbaijan  2019    14402.463864   10047.718  1.963558e+10   \n",
       "672        Canada  2019    48881.396751   37411.047  4.457275e+11   \n",
       "703         Chile  2019    25131.464758   18952.038  6.968140e+10   \n",
       "897       Denmark  2019    57862.278278    5771.876  1.098668e+11   \n",
       "994   El Salvador  2019     8775.986520    6453.553  5.943316e+09   \n",
       "1152      Georgia  2019    14993.120442    3996.765  3.771399e+09   \n",
       "1230       Greece  2019    30463.041048   10473.455  3.780546e+10   \n",
       "1596        Japan  2019    41667.179096  126860.301  7.056400e+11   \n",
       "2493       Poland  2019    33226.265918   37887.768  2.518648e+11   \n",
       "2659      Senegal  2019     3394.868808   16296.364  4.174502e+09   \n",
       "2912  Switzerland  2019    68390.712985    8591.365  3.136296e+11   \n",
       "\n",
       "            Import     Re-Export     Re-Import  Surplus_Deficit  \\\n",
       "132   5.053062e+09  2.140861e+08  5.859051e+05    -2.227861e+09   \n",
       "228   1.364927e+10  0.000000e+00  0.000000e+00     5.986312e+09   \n",
       "672   4.530126e+11  3.627237e+10  3.356662e+09     2.563056e+10   \n",
       "703   6.959130e+10  0.000000e+00  1.643104e+07     7.366793e+07   \n",
       "897   9.700914e+10  0.000000e+00  0.000000e+00     1.285767e+10   \n",
       "994   1.201756e+10  0.000000e+00  1.241036e+07    -6.086653e+09   \n",
       "1152  9.063244e+09  1.419164e+09  8.127176e+06    -3.880808e+09   \n",
       "1230  6.210039e+10  0.000000e+00  0.000000e+00    -2.429493e+10   \n",
       "1596  7.208948e+11  0.000000e+00  0.000000e+00    -1.525482e+10   \n",
       "2493  2.466539e+11  0.000000e+00  0.000000e+00     5.210893e+09   \n",
       "2659  8.143113e+09  0.000000e+00  0.000000e+00    -3.968611e+09   \n",
       "2912  2.762918e+11  0.000000e+00  0.000000e+00     3.733774e+10   \n",
       "\n",
       "      Export_Per_Capita  Import_Per_Capita  Re-Export_Per_Capita  \\\n",
       "132        8.830082e+05       1.708425e+06          72381.860818   \n",
       "228        1.954233e+06       1.358445e+06              0.000000   \n",
       "672        1.191433e+07       1.210906e+07         969563.180169   \n",
       "703        3.676723e+06       3.671969e+06              0.000000   \n",
       "897        1.903485e+07       1.680721e+07              0.000000   \n",
       "994        9.209371e+05       1.862162e+06              0.000000   \n",
       "1152       9.436129e+05       2.267645e+06         355078.292199   \n",
       "1230       3.609646e+06       5.929313e+06              0.000000   \n",
       "1596       5.562339e+06       5.682588e+06              0.000000   \n",
       "2493       6.647654e+06       6.510119e+06              0.000000   \n",
       "2659       2.561616e+05       4.996890e+05              0.000000   \n",
       "2912       3.650521e+07       3.215924e+07              0.000000   \n",
       "\n",
       "      Re-Import_Per_Capita  Surplus_Deficit_Per_Capita      Continent  \n",
       "132             198.092774               -7.532333e+05         Europe  \n",
       "228               0.000000                5.957882e+05         Europe  \n",
       "672           89723.810554                6.851066e+05  North America  \n",
       "703             866.980235                3.887072e+03  South America  \n",
       "897               0.000000                2.227641e+06         Europe  \n",
       "994            1923.028113               -9.431476e+05  North America  \n",
       "1152           2033.438511               -9.709872e+05         Europe  \n",
       "1230              0.000000               -2.319667e+06         Europe  \n",
       "1596              0.000000               -1.202490e+05           Asia  \n",
       "2493              0.000000                1.375350e+05         Europe  \n",
       "2659              0.000000               -2.435274e+05         Africa  \n",
       "2912              0.000000                4.345961e+06         Europe  "
      ]
     },
     "execution_count": 41,
     "metadata": {},
     "output_type": "execute_result"
    }
   ],
   "source": [
    "gdp_trade_pop_continent.loc[gdp_trade_pop_continent['Year']==2019]"
   ]
  },
  {
   "cell_type": "markdown",
   "metadata": {},
   "source": [
    "## After all this, just realized that trade might not have all the values I need for year 2019! Ok, back to the original gdp_df file, to merge it with continents and see what's up."
   ]
  },
  {
   "cell_type": "code",
   "execution_count": 42,
   "metadata": {},
   "outputs": [],
   "source": [
    "gdp_continent = pd.merge(gdp_df, continents, how='inner', on='Country')"
   ]
  },
  {
   "cell_type": "code",
   "execution_count": 43,
   "metadata": {},
   "outputs": [
    {
     "data": {
      "text/html": [
       "<div>\n",
       "<style scoped>\n",
       "    .dataframe tbody tr th:only-of-type {\n",
       "        vertical-align: middle;\n",
       "    }\n",
       "\n",
       "    .dataframe tbody tr th {\n",
       "        vertical-align: top;\n",
       "    }\n",
       "\n",
       "    .dataframe thead th {\n",
       "        text-align: right;\n",
       "    }\n",
       "</style>\n",
       "<table border=\"1\" class=\"dataframe\">\n",
       "  <thead>\n",
       "    <tr style=\"text-align: right;\">\n",
       "      <th></th>\n",
       "      <th>count</th>\n",
       "      <th>mean</th>\n",
       "      <th>std</th>\n",
       "      <th>min</th>\n",
       "      <th>25%</th>\n",
       "      <th>50%</th>\n",
       "      <th>75%</th>\n",
       "      <th>max</th>\n",
       "    </tr>\n",
       "    <tr>\n",
       "      <th>Continent</th>\n",
       "      <th></th>\n",
       "      <th></th>\n",
       "      <th></th>\n",
       "      <th></th>\n",
       "      <th></th>\n",
       "      <th></th>\n",
       "      <th></th>\n",
       "      <th></th>\n",
       "    </tr>\n",
       "  </thead>\n",
       "  <tbody>\n",
       "    <tr>\n",
       "      <th>Africa</th>\n",
       "      <td>49.0</td>\n",
       "      <td>6024.606829</td>\n",
       "      <td>6249.898985</td>\n",
       "      <td>751.663957</td>\n",
       "      <td>2178.323415</td>\n",
       "      <td>3394.868808</td>\n",
       "      <td>7514.720881</td>\n",
       "      <td>29223.465013</td>\n",
       "    </tr>\n",
       "    <tr>\n",
       "      <th>Asia</th>\n",
       "      <td>42.0</td>\n",
       "      <td>26420.193529</td>\n",
       "      <td>28453.195727</td>\n",
       "      <td>2065.036398</td>\n",
       "      <td>6774.738563</td>\n",
       "      <td>12733.659850</td>\n",
       "      <td>41300.456177</td>\n",
       "      <td>123965.286432</td>\n",
       "    </tr>\n",
       "    <tr>\n",
       "      <th>Europe</th>\n",
       "      <td>44.0</td>\n",
       "      <td>37939.067887</td>\n",
       "      <td>21101.689840</td>\n",
       "      <td>11401.870686</td>\n",
       "      <td>21014.343131</td>\n",
       "      <td>35926.195949</td>\n",
       "      <td>49559.852689</td>\n",
       "      <td>114304.044210</td>\n",
       "    </tr>\n",
       "    <tr>\n",
       "      <th>North America</th>\n",
       "      <td>24.0</td>\n",
       "      <td>22912.340791</td>\n",
       "      <td>19076.001620</td>\n",
       "      <td>2905.439081</td>\n",
       "      <td>9515.120522</td>\n",
       "      <td>17725.896368</td>\n",
       "      <td>27693.307188</td>\n",
       "      <td>81658.613276</td>\n",
       "    </tr>\n",
       "    <tr>\n",
       "      <th>Oceania</th>\n",
       "      <td>12.0</td>\n",
       "      <td>13769.398493</td>\n",
       "      <td>16013.952915</td>\n",
       "      <td>2271.913438</td>\n",
       "      <td>3999.300135</td>\n",
       "      <td>6452.366127</td>\n",
       "      <td>14658.158622</td>\n",
       "      <td>49609.044033</td>\n",
       "    </tr>\n",
       "    <tr>\n",
       "      <th>South America</th>\n",
       "      <td>11.0</td>\n",
       "      <td>15752.085027</td>\n",
       "      <td>5080.806136</td>\n",
       "      <td>8724.475702</td>\n",
       "      <td>12766.499304</td>\n",
       "      <td>14624.971297</td>\n",
       "      <td>19042.910078</td>\n",
       "      <td>25131.464758</td>\n",
       "    </tr>\n",
       "  </tbody>\n",
       "</table>\n",
       "</div>"
      ],
      "text/plain": [
       "               count          mean           std           min           25%  \\\n",
       "Continent                                                                      \n",
       "Africa          49.0   6024.606829   6249.898985    751.663957   2178.323415   \n",
       "Asia            42.0  26420.193529  28453.195727   2065.036398   6774.738563   \n",
       "Europe          44.0  37939.067887  21101.689840  11401.870686  21014.343131   \n",
       "North America   24.0  22912.340791  19076.001620   2905.439081   9515.120522   \n",
       "Oceania         12.0  13769.398493  16013.952915   2271.913438   3999.300135   \n",
       "South America   11.0  15752.085027   5080.806136   8724.475702  12766.499304   \n",
       "\n",
       "                        50%           75%            max  \n",
       "Continent                                                 \n",
       "Africa          3394.868808   7514.720881   29223.465013  \n",
       "Asia           12733.659850  41300.456177  123965.286432  \n",
       "Europe         35926.195949  49559.852689  114304.044210  \n",
       "North America  17725.896368  27693.307188   81658.613276  \n",
       "Oceania         6452.366127  14658.158622   49609.044033  \n",
       "South America  14624.971297  19042.910078   25131.464758  "
      ]
     },
     "execution_count": 43,
     "metadata": {},
     "output_type": "execute_result"
    }
   ],
   "source": [
    "gdp_continent.loc[gdp_continent['Year'] == 2019].groupby('Continent')['GDP_Per_Capita'].describe()"
   ]
  },
  {
   "cell_type": "code",
   "execution_count": 44,
   "metadata": {},
   "outputs": [],
   "source": [
    "max_gdp2019 = gdp_continent.loc[(gdp_continent['Year'] == 2019) & (gdp_continent['Country'] != 'Macao SAR, China')].groupby('Continent')['GDP_Per_Capita'].max()\n",
    "max_gdp2019_countries = gdp_continent.loc[gdp_continent['GDP_Per_Capita'].isin(max_gdp2019)]"
   ]
  },
  {
   "cell_type": "code",
   "execution_count": 45,
   "metadata": {},
   "outputs": [
    {
     "data": {
      "text/html": [
       "<div>\n",
       "<style scoped>\n",
       "    .dataframe tbody tr th:only-of-type {\n",
       "        vertical-align: middle;\n",
       "    }\n",
       "\n",
       "    .dataframe tbody tr th {\n",
       "        vertical-align: top;\n",
       "    }\n",
       "\n",
       "    .dataframe thead th {\n",
       "        text-align: right;\n",
       "    }\n",
       "</style>\n",
       "<table border=\"1\" class=\"dataframe\">\n",
       "  <thead>\n",
       "    <tr style=\"text-align: right;\">\n",
       "      <th></th>\n",
       "      <th>Country</th>\n",
       "      <th>Year</th>\n",
       "      <th>GDP_Per_Capita</th>\n",
       "      <th>Continent</th>\n",
       "    </tr>\n",
       "  </thead>\n",
       "  <tbody>\n",
       "    <tr>\n",
       "      <th>226</th>\n",
       "      <td>Australia</td>\n",
       "      <td>2019</td>\n",
       "      <td>49609.044033</td>\n",
       "      <td>Oceania</td>\n",
       "    </tr>\n",
       "    <tr>\n",
       "      <th>526</th>\n",
       "      <td>Bermuda</td>\n",
       "      <td>2019</td>\n",
       "      <td>81658.613276</td>\n",
       "      <td>North America</td>\n",
       "    </tr>\n",
       "    <tr>\n",
       "      <th>1012</th>\n",
       "      <td>Chile</td>\n",
       "      <td>2019</td>\n",
       "      <td>25131.464758</td>\n",
       "      <td>South America</td>\n",
       "    </tr>\n",
       "    <tr>\n",
       "      <th>2826</th>\n",
       "      <td>Luxembourg</td>\n",
       "      <td>2019</td>\n",
       "      <td>114304.044210</td>\n",
       "      <td>Europe</td>\n",
       "    </tr>\n",
       "    <tr>\n",
       "      <th>4230</th>\n",
       "      <td>Seychelles</td>\n",
       "      <td>2019</td>\n",
       "      <td>29223.465013</td>\n",
       "      <td>Africa</td>\n",
       "    </tr>\n",
       "    <tr>\n",
       "      <th>4290</th>\n",
       "      <td>Singapore</td>\n",
       "      <td>2019</td>\n",
       "      <td>97341.468645</td>\n",
       "      <td>Asia</td>\n",
       "    </tr>\n",
       "  </tbody>\n",
       "</table>\n",
       "</div>"
      ],
      "text/plain": [
       "         Country  Year  GDP_Per_Capita      Continent\n",
       "226    Australia  2019    49609.044033        Oceania\n",
       "526      Bermuda  2019    81658.613276  North America\n",
       "1012       Chile  2019    25131.464758  South America\n",
       "2826  Luxembourg  2019   114304.044210         Europe\n",
       "4230  Seychelles  2019    29223.465013         Africa\n",
       "4290   Singapore  2019    97341.468645           Asia"
      ]
     },
     "execution_count": 45,
     "metadata": {},
     "output_type": "execute_result"
    }
   ],
   "source": [
    "max_gdp2019_countries"
   ]
  },
  {
   "cell_type": "markdown",
   "metadata": {},
   "source": [
    "After checking for countries in the Trade dataset, I realized that most of these don't have a value for 2019 (last one is 2018). And Macao SAR, China is weird, stops at 2016, so excluding that one anyways!\n",
    "\n",
    "After I ridid the same exact as above, except 2018, the same top 6 countries appeared!\n",
    "\n",
    "can check the years with something like this trade.loc[trade['Country'] == 'Ukraine'].sort_values('Year', ascending=False)"
   ]
  },
  {
   "cell_type": "markdown",
   "metadata": {},
   "source": [
    "Haiti only has values until 1997..., Honduraas 2017. For year 2019 Nicaragua has lower gdp than Honduras, and it does go until 2018, so I went with that. Also had to remove Kosovo as it's not in the Trade dataset!"
   ]
  },
  {
   "cell_type": "code",
   "execution_count": 46,
   "metadata": {},
   "outputs": [],
   "source": [
    "min_gdp2019 = gdp_continent.loc[(gdp_continent['Year'] == 2019) & (gdp_continent['Country'] != 'Haiti') & (gdp_continent['Country'] != 'Kosovo')].groupby('Continent')['GDP_Per_Capita'].min()\n",
    "min_gdp2019_countries = gdp_continent.loc[gdp_continent['GDP_Per_Capita'].isin(min_gdp2019)]"
   ]
  },
  {
   "cell_type": "code",
   "execution_count": 47,
   "metadata": {},
   "outputs": [
    {
     "data": {
      "text/html": [
       "<div>\n",
       "<style scoped>\n",
       "    .dataframe tbody tr th:only-of-type {\n",
       "        vertical-align: middle;\n",
       "    }\n",
       "\n",
       "    .dataframe tbody tr th {\n",
       "        vertical-align: top;\n",
       "    }\n",
       "\n",
       "    .dataframe thead th {\n",
       "        text-align: right;\n",
       "    }\n",
       "</style>\n",
       "<table border=\"1\" class=\"dataframe\">\n",
       "  <thead>\n",
       "    <tr style=\"text-align: right;\">\n",
       "      <th></th>\n",
       "      <th>Country</th>\n",
       "      <th>Year</th>\n",
       "      <th>GDP_Per_Capita</th>\n",
       "      <th>Continent</th>\n",
       "    </tr>\n",
       "  </thead>\n",
       "  <tbody>\n",
       "    <tr>\n",
       "      <th>0</th>\n",
       "      <td>Afghanistan</td>\n",
       "      <td>2019</td>\n",
       "      <td>2065.036398</td>\n",
       "      <td>Asia</td>\n",
       "    </tr>\n",
       "    <tr>\n",
       "      <th>586</th>\n",
       "      <td>Bolivia</td>\n",
       "      <td>2019</td>\n",
       "      <td>8724.475702</td>\n",
       "      <td>South America</td>\n",
       "    </tr>\n",
       "    <tr>\n",
       "      <th>792</th>\n",
       "      <td>Burundi</td>\n",
       "      <td>2019</td>\n",
       "      <td>751.663957</td>\n",
       "      <td>Africa</td>\n",
       "    </tr>\n",
       "    <tr>\n",
       "      <th>2510</th>\n",
       "      <td>Kiribati</td>\n",
       "      <td>2019</td>\n",
       "      <td>2271.913438</td>\n",
       "      <td>Oceania</td>\n",
       "    </tr>\n",
       "    <tr>\n",
       "      <th>3513</th>\n",
       "      <td>Nicaragua</td>\n",
       "      <td>2019</td>\n",
       "      <td>5407.120700</td>\n",
       "      <td>North America</td>\n",
       "    </tr>\n",
       "    <tr>\n",
       "      <th>5117</th>\n",
       "      <td>Ukraine</td>\n",
       "      <td>2019</td>\n",
       "      <td>12810.289455</td>\n",
       "      <td>Europe</td>\n",
       "    </tr>\n",
       "  </tbody>\n",
       "</table>\n",
       "</div>"
      ],
      "text/plain": [
       "          Country  Year  GDP_Per_Capita      Continent\n",
       "0     Afghanistan  2019     2065.036398           Asia\n",
       "586       Bolivia  2019     8724.475702  South America\n",
       "792       Burundi  2019      751.663957         Africa\n",
       "2510     Kiribati  2019     2271.913438        Oceania\n",
       "3513    Nicaragua  2019     5407.120700  North America\n",
       "5117      Ukraine  2019    12810.289455         Europe"
      ]
     },
     "execution_count": 47,
     "metadata": {},
     "output_type": "execute_result"
    }
   ],
   "source": [
    "min_gdp2019_countries"
   ]
  },
  {
   "cell_type": "code",
   "execution_count": 48,
   "metadata": {},
   "outputs": [],
   "source": [
    "minmax_gdp2019_countries = pd.concat([min_gdp2019_countries, max_gdp2019_countries])"
   ]
  },
  {
   "cell_type": "code",
   "execution_count": 49,
   "metadata": {},
   "outputs": [
    {
     "data": {
      "text/html": [
       "<div>\n",
       "<style scoped>\n",
       "    .dataframe tbody tr th:only-of-type {\n",
       "        vertical-align: middle;\n",
       "    }\n",
       "\n",
       "    .dataframe tbody tr th {\n",
       "        vertical-align: top;\n",
       "    }\n",
       "\n",
       "    .dataframe thead th {\n",
       "        text-align: right;\n",
       "    }\n",
       "</style>\n",
       "<table border=\"1\" class=\"dataframe\">\n",
       "  <thead>\n",
       "    <tr style=\"text-align: right;\">\n",
       "      <th></th>\n",
       "      <th>Country</th>\n",
       "      <th>Year</th>\n",
       "      <th>GDP_Per_Capita</th>\n",
       "      <th>Continent</th>\n",
       "    </tr>\n",
       "  </thead>\n",
       "  <tbody>\n",
       "    <tr>\n",
       "      <th>0</th>\n",
       "      <td>Afghanistan</td>\n",
       "      <td>2019</td>\n",
       "      <td>2065.036398</td>\n",
       "      <td>Asia</td>\n",
       "    </tr>\n",
       "    <tr>\n",
       "      <th>586</th>\n",
       "      <td>Bolivia</td>\n",
       "      <td>2019</td>\n",
       "      <td>8724.475702</td>\n",
       "      <td>South America</td>\n",
       "    </tr>\n",
       "    <tr>\n",
       "      <th>792</th>\n",
       "      <td>Burundi</td>\n",
       "      <td>2019</td>\n",
       "      <td>751.663957</td>\n",
       "      <td>Africa</td>\n",
       "    </tr>\n",
       "    <tr>\n",
       "      <th>2510</th>\n",
       "      <td>Kiribati</td>\n",
       "      <td>2019</td>\n",
       "      <td>2271.913438</td>\n",
       "      <td>Oceania</td>\n",
       "    </tr>\n",
       "    <tr>\n",
       "      <th>3513</th>\n",
       "      <td>Nicaragua</td>\n",
       "      <td>2019</td>\n",
       "      <td>5407.120700</td>\n",
       "      <td>North America</td>\n",
       "    </tr>\n",
       "    <tr>\n",
       "      <th>5117</th>\n",
       "      <td>Ukraine</td>\n",
       "      <td>2019</td>\n",
       "      <td>12810.289455</td>\n",
       "      <td>Europe</td>\n",
       "    </tr>\n",
       "    <tr>\n",
       "      <th>226</th>\n",
       "      <td>Australia</td>\n",
       "      <td>2019</td>\n",
       "      <td>49609.044033</td>\n",
       "      <td>Oceania</td>\n",
       "    </tr>\n",
       "    <tr>\n",
       "      <th>526</th>\n",
       "      <td>Bermuda</td>\n",
       "      <td>2019</td>\n",
       "      <td>81658.613276</td>\n",
       "      <td>North America</td>\n",
       "    </tr>\n",
       "    <tr>\n",
       "      <th>1012</th>\n",
       "      <td>Chile</td>\n",
       "      <td>2019</td>\n",
       "      <td>25131.464758</td>\n",
       "      <td>South America</td>\n",
       "    </tr>\n",
       "    <tr>\n",
       "      <th>2826</th>\n",
       "      <td>Luxembourg</td>\n",
       "      <td>2019</td>\n",
       "      <td>114304.044210</td>\n",
       "      <td>Europe</td>\n",
       "    </tr>\n",
       "    <tr>\n",
       "      <th>4230</th>\n",
       "      <td>Seychelles</td>\n",
       "      <td>2019</td>\n",
       "      <td>29223.465013</td>\n",
       "      <td>Africa</td>\n",
       "    </tr>\n",
       "    <tr>\n",
       "      <th>4290</th>\n",
       "      <td>Singapore</td>\n",
       "      <td>2019</td>\n",
       "      <td>97341.468645</td>\n",
       "      <td>Asia</td>\n",
       "    </tr>\n",
       "  </tbody>\n",
       "</table>\n",
       "</div>"
      ],
      "text/plain": [
       "          Country  Year  GDP_Per_Capita      Continent\n",
       "0     Afghanistan  2019     2065.036398           Asia\n",
       "586       Bolivia  2019     8724.475702  South America\n",
       "792       Burundi  2019      751.663957         Africa\n",
       "2510     Kiribati  2019     2271.913438        Oceania\n",
       "3513    Nicaragua  2019     5407.120700  North America\n",
       "5117      Ukraine  2019    12810.289455         Europe\n",
       "226     Australia  2019    49609.044033        Oceania\n",
       "526       Bermuda  2019    81658.613276  North America\n",
       "1012        Chile  2019    25131.464758  South America\n",
       "2826   Luxembourg  2019   114304.044210         Europe\n",
       "4230   Seychelles  2019    29223.465013         Africa\n",
       "4290    Singapore  2019    97341.468645           Asia"
      ]
     },
     "execution_count": 49,
     "metadata": {},
     "output_type": "execute_result"
    }
   ],
   "source": [
    "minmax_gdp2019_countries"
   ]
  },
  {
   "cell_type": "code",
   "execution_count": 50,
   "metadata": {},
   "outputs": [
    {
     "data": {
      "text/plain": [
       "Country\n",
       "Afghanistan    30\n",
       "Australia      30\n",
       "Bermuda        30\n",
       "Bolivia        30\n",
       "Burundi        30\n",
       "Chile          30\n",
       "Kiribati       30\n",
       "Luxembourg     30\n",
       "Nicaragua      30\n",
       "Seychelles     30\n",
       "Singapore      30\n",
       "Ukraine        30\n",
       "dtype: int64"
      ]
     },
     "execution_count": 50,
     "metadata": {},
     "output_type": "execute_result"
    }
   ],
   "source": [
    "# by using code below, I found out which country was missing and it was Bolivia!\n",
    "population.loc[population['Country'].isin(minmax_gdp2019_countries['Country'])].value_counts('Country')"
   ]
  },
  {
   "cell_type": "code",
   "execution_count": 51,
   "metadata": {},
   "outputs": [],
   "source": [
    "filtered_gdp_cont = gdp_continent.loc[gdp_continent['Country'].isin(minmax_gdp2019_countries['Country'])]"
   ]
  },
  {
   "cell_type": "code",
   "execution_count": 52,
   "metadata": {},
   "outputs": [],
   "source": [
    "filtered_gdp_cont_pop = pd.merge(filtered_gdp_cont, population, \"inner\", on=['Country', 'Year'])"
   ]
  },
  {
   "cell_type": "code",
   "execution_count": 53,
   "metadata": {},
   "outputs": [
    {
     "name": "stdout",
     "output_type": "stream",
     "text": [
      "<class 'pandas.core.frame.DataFrame'>\n",
      "Int64Index: 348 entries, 0 to 347\n",
      "Data columns (total 5 columns):\n",
      " #   Column          Non-Null Count  Dtype  \n",
      "---  ------          --------------  -----  \n",
      " 0   Country         348 non-null    object \n",
      " 1   Year            348 non-null    int64  \n",
      " 2   GDP_Per_Capita  348 non-null    float64\n",
      " 3   Continent       348 non-null    object \n",
      " 4   Population      348 non-null    float64\n",
      "dtypes: float64(2), int64(1), object(2)\n",
      "memory usage: 16.3+ KB\n"
     ]
    }
   ],
   "source": [
    "filtered_gdp_cont_pop.info()"
   ]
  },
  {
   "cell_type": "markdown",
   "metadata": {},
   "source": [
    "I want to keep all the years from GDP, so I'll have to left join because trade is missing years"
   ]
  },
  {
   "cell_type": "code",
   "execution_count": 54,
   "metadata": {},
   "outputs": [],
   "source": [
    "filtered_gdp_cont_pop_trade = pd.merge(filtered_gdp_cont_pop, trade, 'left', on=['Country', 'Year'])"
   ]
  },
  {
   "cell_type": "code",
   "execution_count": 56,
   "metadata": {},
   "outputs": [],
   "source": [
    "filtered_gdp_cont_pop_trade = (\n",
    "    filtered_gdp_cont_pop_trade\n",
    "    .pivot(index=['Country', 'Year', 'GDP_Per_Capita', 'Population'],\n",
    "        columns='Flow',\n",
    "        values='Trade (USD)')\n",
    "    .reset_index()\n",
    "    .rename_axis(None, axis=1)\n",
    "    .fillna(0)\n",
    ")\n",
    "# uh so this is weird, by doing a left join instead of inner, this leaves me with a NaN column that\n",
    "# doesn't want to be dropped using .drop(columns='NaN')"
   ]
  },
  {
   "cell_type": "code",
   "execution_count": 57,
   "metadata": {},
   "outputs": [],
   "source": [
    "filtered_gdp_cont_pop_trade['Surplus_Deficit'] = filtered_gdp_cont_pop_trade['Export'] + filtered_gdp_cont_pop_trade['Re-Export'] - filtered_gdp_cont_pop_trade['Import'] - filtered_gdp_cont_pop_trade['Re-Import']\n",
    "filtered_gdp_cont_pop_trade['Export_Per_Capita'] = filtered_gdp_cont_pop_trade['Export'] / filtered_gdp_cont_pop_trade['Population'] \n",
    "filtered_gdp_cont_pop_trade['Import_Per_Capita'] = filtered_gdp_cont_pop_trade['Import'] / filtered_gdp_cont_pop_trade['Population'] \n",
    "filtered_gdp_cont_pop_trade['Re-Export_Per_Capita'] = filtered_gdp_cont_pop_trade['Re-Export'] / filtered_gdp_cont_pop_trade['Population'] \n",
    "filtered_gdp_cont_pop_trade['Re-Import_Per_Capita'] = filtered_gdp_cont_pop_trade['Re-Import'] / filtered_gdp_cont_pop_trade['Population']\n",
    "filtered_gdp_cont_pop_trade['Surplus_Deficit_Per_Capita'] = filtered_gdp_cont_pop_trade['Surplus_Deficit'] / filtered_gdp_cont_pop_trade['Population']"
   ]
  },
  {
   "cell_type": "code",
   "execution_count": 58,
   "metadata": {},
   "outputs": [
    {
     "data": {
      "text/html": [
       "<div>\n",
       "<style scoped>\n",
       "    .dataframe tbody tr th:only-of-type {\n",
       "        vertical-align: middle;\n",
       "    }\n",
       "\n",
       "    .dataframe tbody tr th {\n",
       "        vertical-align: top;\n",
       "    }\n",
       "\n",
       "    .dataframe thead th {\n",
       "        text-align: right;\n",
       "    }\n",
       "</style>\n",
       "<table border=\"1\" class=\"dataframe\">\n",
       "  <thead>\n",
       "    <tr style=\"text-align: right;\">\n",
       "      <th></th>\n",
       "      <th>Country</th>\n",
       "      <th>Year</th>\n",
       "      <th>GDP_Per_Capita</th>\n",
       "      <th>Population</th>\n",
       "      <th>NaN</th>\n",
       "      <th>Export</th>\n",
       "      <th>Import</th>\n",
       "      <th>Re-Export</th>\n",
       "      <th>Re-Import</th>\n",
       "      <th>Surplus_Deficit</th>\n",
       "      <th>Export_Per_Capita</th>\n",
       "      <th>Import_Per_Capita</th>\n",
       "      <th>Re-Export_Per_Capita</th>\n",
       "      <th>Re-Import_Per_Capita</th>\n",
       "      <th>Surplus_Deficit_Per_Capita</th>\n",
       "    </tr>\n",
       "  </thead>\n",
       "  <tbody>\n",
       "    <tr>\n",
       "      <th>0</th>\n",
       "      <td>Afghanistan</td>\n",
       "      <td>2002</td>\n",
       "      <td>1189.784878</td>\n",
       "      <td>22600.770</td>\n",
       "      <td>0.0</td>\n",
       "      <td>0.0</td>\n",
       "      <td>0.0</td>\n",
       "      <td>0.0</td>\n",
       "      <td>0.0</td>\n",
       "      <td>0.0</td>\n",
       "      <td>0.0</td>\n",
       "      <td>0.0</td>\n",
       "      <td>0.0</td>\n",
       "      <td>0.0</td>\n",
       "      <td>0.0</td>\n",
       "    </tr>\n",
       "    <tr>\n",
       "      <th>1</th>\n",
       "      <td>Afghanistan</td>\n",
       "      <td>2003</td>\n",
       "      <td>1235.810063</td>\n",
       "      <td>23680.871</td>\n",
       "      <td>0.0</td>\n",
       "      <td>0.0</td>\n",
       "      <td>0.0</td>\n",
       "      <td>0.0</td>\n",
       "      <td>0.0</td>\n",
       "      <td>0.0</td>\n",
       "      <td>0.0</td>\n",
       "      <td>0.0</td>\n",
       "      <td>0.0</td>\n",
       "      <td>0.0</td>\n",
       "      <td>0.0</td>\n",
       "    </tr>\n",
       "    <tr>\n",
       "      <th>2</th>\n",
       "      <td>Afghanistan</td>\n",
       "      <td>2004</td>\n",
       "      <td>1200.278256</td>\n",
       "      <td>24726.684</td>\n",
       "      <td>0.0</td>\n",
       "      <td>0.0</td>\n",
       "      <td>0.0</td>\n",
       "      <td>0.0</td>\n",
       "      <td>0.0</td>\n",
       "      <td>0.0</td>\n",
       "      <td>0.0</td>\n",
       "      <td>0.0</td>\n",
       "      <td>0.0</td>\n",
       "      <td>0.0</td>\n",
       "      <td>0.0</td>\n",
       "    </tr>\n",
       "    <tr>\n",
       "      <th>3</th>\n",
       "      <td>Afghanistan</td>\n",
       "      <td>2005</td>\n",
       "      <td>1286.793508</td>\n",
       "      <td>25654.277</td>\n",
       "      <td>0.0</td>\n",
       "      <td>0.0</td>\n",
       "      <td>0.0</td>\n",
       "      <td>0.0</td>\n",
       "      <td>0.0</td>\n",
       "      <td>0.0</td>\n",
       "      <td>0.0</td>\n",
       "      <td>0.0</td>\n",
       "      <td>0.0</td>\n",
       "      <td>0.0</td>\n",
       "      <td>0.0</td>\n",
       "    </tr>\n",
       "    <tr>\n",
       "      <th>4</th>\n",
       "      <td>Afghanistan</td>\n",
       "      <td>2006</td>\n",
       "      <td>1315.789565</td>\n",
       "      <td>26433.049</td>\n",
       "      <td>0.0</td>\n",
       "      <td>0.0</td>\n",
       "      <td>0.0</td>\n",
       "      <td>0.0</td>\n",
       "      <td>0.0</td>\n",
       "      <td>0.0</td>\n",
       "      <td>0.0</td>\n",
       "      <td>0.0</td>\n",
       "      <td>0.0</td>\n",
       "      <td>0.0</td>\n",
       "      <td>0.0</td>\n",
       "    </tr>\n",
       "  </tbody>\n",
       "</table>\n",
       "</div>"
      ],
      "text/plain": [
       "       Country  Year  GDP_Per_Capita  Population  NaN  Export  Import  \\\n",
       "0  Afghanistan  2002     1189.784878   22600.770  0.0     0.0     0.0   \n",
       "1  Afghanistan  2003     1235.810063   23680.871  0.0     0.0     0.0   \n",
       "2  Afghanistan  2004     1200.278256   24726.684  0.0     0.0     0.0   \n",
       "3  Afghanistan  2005     1286.793508   25654.277  0.0     0.0     0.0   \n",
       "4  Afghanistan  2006     1315.789565   26433.049  0.0     0.0     0.0   \n",
       "\n",
       "   Re-Export  Re-Import  Surplus_Deficit  Export_Per_Capita  \\\n",
       "0        0.0        0.0              0.0                0.0   \n",
       "1        0.0        0.0              0.0                0.0   \n",
       "2        0.0        0.0              0.0                0.0   \n",
       "3        0.0        0.0              0.0                0.0   \n",
       "4        0.0        0.0              0.0                0.0   \n",
       "\n",
       "   Import_Per_Capita  Re-Export_Per_Capita  Re-Import_Per_Capita  \\\n",
       "0                0.0                   0.0                   0.0   \n",
       "1                0.0                   0.0                   0.0   \n",
       "2                0.0                   0.0                   0.0   \n",
       "3                0.0                   0.0                   0.0   \n",
       "4                0.0                   0.0                   0.0   \n",
       "\n",
       "   Surplus_Deficit_Per_Capita  \n",
       "0                         0.0  \n",
       "1                         0.0  \n",
       "2                         0.0  \n",
       "3                         0.0  \n",
       "4                         0.0  "
      ]
     },
     "execution_count": 58,
     "metadata": {},
     "output_type": "execute_result"
    }
   ],
   "source": [
    "filtered_gdp_cont_pop_trade.head(5)"
   ]
  },
  {
   "cell_type": "markdown",
   "metadata": {},
   "source": [
    "All is ready for the seaborn plots!!"
   ]
  },
  {
   "cell_type": "code",
   "execution_count": 59,
   "metadata": {},
   "outputs": [
    {
     "data": {
      "text/plain": [
       "<seaborn.axisgrid.FacetGrid at 0x7fb6c1a2e6d0>"
      ]
     },
     "execution_count": 59,
     "metadata": {},
     "output_type": "execute_result"
    },
    {
     "data": {
      "image/png": "[encoded data removed]",
      "text/plain": [
       "<Figure size 709.5x864 with 12 Axes>"
      ]
     },
     "metadata": {
      "needs_background": "light"
     },
     "output_type": "display_data"
    }
   ],
   "source": [
    "g7 = sns.FacetGrid(\n",
    "    filtered_gdp_cont_pop_trade,\n",
    "    col='Country',\n",
    "    col_wrap=3,\n",
    "    hue='Year'\n",
    ")\n",
    "g7.map(sns.scatterplot, 'Surplus_Deficit_Per_Capita', 'GDP_Per_Capita')\n",
    "g7.add_legend()"
   ]
  },
  {
   "cell_type": "code",
   "execution_count": 60,
   "metadata": {},
   "outputs": [
    {
     "data": {
      "text/plain": [
       "<seaborn.axisgrid.FacetGrid at 0x7fb6e4c6ca60>"
      ]
     },
     "execution_count": 60,
     "metadata": {},
     "output_type": "execute_result"
    },
    {
     "data": {
      "image/png": "[encoded data removed]",
      "text/plain": [
       "<Figure size 656x864 with 12 Axes>"
      ]
     },
     "metadata": {
      "needs_background": "light"
     },
     "output_type": "display_data"
    }
   ],
   "source": [
    "g8 = sns.FacetGrid(\n",
    "    filtered_gdp_cont_pop_trade,\n",
    "    col='Country',\n",
    "    col_wrap=3\n",
    ")\n",
    "g8.map(sns.scatterplot, 'Year', 'GDP_Per_Capita')\n",
    "g8.add_legend()"
   ]
  },
  {
   "cell_type": "code",
   "execution_count": 61,
   "metadata": {},
   "outputs": [
    {
     "data": {
      "text/plain": [
       "<seaborn.axisgrid.FacetGrid at 0x7fb6d5c11b20>"
      ]
     },
     "execution_count": 61,
     "metadata": {},
     "output_type": "execute_result"
    },
    {
     "data": {
      "image/png": "[encoded data removed]",
      "text/plain": [
       "<Figure size 656x864 with 12 Axes>"
      ]
     },
     "metadata": {
      "needs_background": "light"
     },
     "output_type": "display_data"
    }
   ],
   "source": [
    "g9 = sns.FacetGrid(\n",
    "    filtered_gdp_cont_pop_trade,\n",
    "    col='Country',\n",
    "    col_wrap=3\n",
    ")\n",
    "g9.map(sns.scatterplot, 'Year', 'Surplus_Deficit_Per_Capita')\n",
    "g9.add_legend()"
   ]
  },
  {
   "cell_type": "code",
   "execution_count": 68,
   "metadata": {},
   "outputs": [
    {
     "data": {
      "application/vnd.plotly.v1+json": {
       "config": {
        "plotlyServerURL": "https://plot.ly"
       },
       "data": [
        {
         "hovertemplate": "Country=Australia<br>Year=%{x}<br>GDP_Per_Capita=%{y}<extra></extra>",
         "legendgroup": "Australia",
         "line": {
          "color": "#636efa",
          "dash": "solid"
         },
         "marker": {
          "symbol": "circle"
         },
         "mode": "lines+markers",
         "name": "Australia",
         "orientation": "v",
         "showlegend": true,
         "type": "scatter",
         "x": [
          1990,
          1991,
          1992,
          1993,
          1994,
          1995,
          1996,
          1997,
          1998,
          1999,
          2000,
          2001,
          2002,
          2003,
          2004,
          2005,
          2006,
          2007,
          2008,
          2009,
          2010,
          2011,
          2012,
          2013,
          2014,
          2015,
          2016,
          2017,
          2018,
          2019
         ],
         "xaxis": "x",
         "y": [
          31154.6617041205,
          30637.7221788398,
          30392.974155728,
          31309.9624339464,
          32214.5123749017,
          33049.16487768,
          33882.9075979721,
          34834.989874642,
          36051.5717033416,
          37450.3580687633,
          38462.0153634672,
          38679.5906526604,
          39739.3016267857,
          40423.970155755,
          41578.4985196528,
          42348.1745283311,
          42894.1331487911,
          44265.6986689819,
          44974.5263202105,
          44910.4508577523,
          45131.434148345,
          45604.7971589746,
          46571.4745579661,
          46960.050240419,
          47436.7483895296,
          47784.178476068,
          48347.0316629051,
          48633.1332207217,
          49304.2511133834,
          49609.0440332997
         ],
         "yaxis": "y"
        },
        {
         "hovertemplate": "Country=Bermuda<br>Year=%{x}<br>GDP_Per_Capita=%{y}<extra></extra>",
         "legendgroup": "Bermuda",
         "line": {
          "color": "#EF553B",
          "dash": "solid"
         },
         "marker": {
          "symbol": "diamond"
         },
         "mode": "lines+markers",
         "name": "Bermuda",
         "orientation": "v",
         "showlegend": true,
         "type": "scatter",
         "x": [
          1990,
          1991,
          1992,
          1993,
          1994,
          1995,
          1996,
          1997,
          1998,
          1999,
          2000,
          2001,
          2002,
          2003,
          2004,
          2005,
          2006,
          2007,
          2008,
          2009,
          2010,
          2011,
          2012,
          2013,
          2014,
          2015,
          2016,
          2017,
          2018,
          2019
         ],
         "xaxis": "x",
         "y": [
          65961.4062778196,
          63958.896272099,
          64385.4067227265,
          65967.8493641591,
          65904.7203525295,
          68313.3813372028,
          69643.4073411271,
          72403.8797731506,
          74677.0925871842,
          76772.3237713819,
          83181.526285174,
          88231.7841881066,
          86364.1542550403,
          88727.3113937391,
          90195.8110329173,
          91114.0773806848,
          95615.3606970562,
          98257.9926982026,
          95855.800692618,
          89961.9827443671,
          88399.9159492493,
          85829.3782604391,
          80982.367755316,
          80503.6502910788,
          77361.1048812589,
          77842.7539032209,
          78149.352535184,
          81834.9558735543,
          81420.8607872247,
          81658.6132761089
         ],
         "yaxis": "y"
        },
        {
         "hovertemplate": "Country=Chile<br>Year=%{x}<br>GDP_Per_Capita=%{y}<extra></extra>",
         "legendgroup": "Chile",
         "line": {
          "color": "#00cc96",
          "dash": "solid"
         },
         "marker": {
          "symbol": "square"
         },
         "mode": "lines+markers",
         "name": "Chile",
         "orientation": "v",
         "showlegend": true,
         "type": "scatter",
         "x": [
          1990,
          1991,
          1992,
          1993,
          1994,
          1995,
          1996,
          1997,
          1998,
          1999,
          2000,
          2001,
          2002,
          2003,
          2004,
          2005,
          2006,
          2007,
          2008,
          2009,
          2010,
          2011,
          2012,
          2013,
          2014,
          2015,
          2016,
          2017,
          2018,
          2019
         ],
         "xaxis": "x",
         "y": [
          9880.44086086164,
          10477.4062267089,
          11456.7473611028,
          12014.4714203443,
          12421.6059620772,
          13329.4126671005,
          14034.6687598756,
          14874.3859872494,
          15319.2240971538,
          15069.8884756609,
          15686.8930137129,
          16023.563454772,
          16344.1336974033,
          16835.4106296265,
          17862.8486970728,
          18692.8818428512,
          19664.9960674424,
          20410.3661592134,
          20905.5618857055,
          20361.7147945387,
          21328.9418196388,
          22407.714462506,
          23373.3116162778,
          24081.879609375,
          24248.6602046307,
          24516.8368909887,
          24608.0650271681,
          24548.1876999972,
          25165.1781779214,
          25131.4647575157
         ],
         "yaxis": "y"
        },
        {
         "hovertemplate": "Country=Luxembourg<br>Year=%{x}<br>GDP_Per_Capita=%{y}<extra></extra>",
         "legendgroup": "Luxembourg",
         "line": {
          "color": "#ab63fa",
          "dash": "solid"
         },
         "marker": {
          "symbol": "x"
         },
         "mode": "lines+markers",
         "name": "Luxembourg",
         "orientation": "v",
         "showlegend": true,
         "type": "scatter",
         "x": [
          1990,
          1991,
          1992,
          1993,
          1994,
          1995,
          1996,
          1997,
          1998,
          1999,
          2000,
          2001,
          2002,
          2003,
          2004,
          2005,
          2006,
          2007,
          2008,
          2009,
          2010,
          2011,
          2012,
          2013,
          2014,
          2015,
          2016,
          2017,
          2018,
          2019
         ],
         "xaxis": "x",
         "y": [
          67857.5404954768,
          72742.2020090841,
          73088.5136628003,
          75143.1912547892,
          76959.1222967327,
          76972.4366192327,
          76986.0903099016,
          80368.021374555,
          84172.4537787859,
          90086.1430493081,
          96207.2286509716,
          97475.8296869607,
          100144.202417864,
          100546.540938853,
          102708.212547114,
          104357.564987409,
          108024.838026429,
          115256.016699066,
          111765.450698127,
          104932.811953115,
          108047.346867064,
          108355.582583156,
          105411.464570926,
          106767.27500452,
          108760.916030081,
          110798.736179667,
          113396.753759561,
          112666.769445095,
          113952.357894692,
          114304.044209514
         ],
         "yaxis": "y"
        },
        {
         "hovertemplate": "Country=Seychelles<br>Year=%{x}<br>GDP_Per_Capita=%{y}<extra></extra>",
         "legendgroup": "Seychelles",
         "line": {
          "color": "#FFA15A",
          "dash": "solid"
         },
         "marker": {
          "symbol": "cross"
         },
         "mode": "lines+markers",
         "name": "Seychelles",
         "orientation": "v",
         "showlegend": true,
         "type": "scatter",
         "x": [
          1990,
          1991,
          1992,
          1993,
          1994,
          1995,
          1996,
          1997,
          1998,
          1999,
          2000,
          2001,
          2002,
          2003,
          2004,
          2005,
          2006,
          2007,
          2008,
          2009,
          2010,
          2011,
          2012,
          2013,
          2014,
          2015,
          2016,
          2017,
          2018,
          2019
         ],
         "xaxis": "x",
         "y": [
          14647.0482044502,
          14852.2198671468,
          15842.9832928751,
          16477.7584745474,
          15916.1573519541,
          15554.3814054733,
          16081.5847618181,
          17795.1447545479,
          18916.9443301244,
          18896.2423362254,
          19011.9241673076,
          18563.886650611,
          18223.2748728796,
          17345.6096343105,
          16913.7025782378,
          18351.6881343461,
          19664.4476063007,
          21603.1959013548,
          20671.9084427035,
          20363.3435335565,
          20981.8345862825,
          23239.662183595,
          23302.9522770458,
          24253.2524114611,
          24954.6317820245,
          25609.2894769732,
          26421.9414318302,
          27242.6560347508,
          27996.7705722463,
          29223.4650133741
         ],
         "yaxis": "y"
        },
        {
         "hovertemplate": "Country=Singapore<br>Year=%{x}<br>GDP_Per_Capita=%{y}<extra></extra>",
         "legendgroup": "Singapore",
         "line": {
          "color": "#19d3f3",
          "dash": "solid"
         },
         "marker": {
          "symbol": "circle"
         },
         "mode": "lines+markers",
         "name": "Singapore",
         "orientation": "v",
         "showlegend": true,
         "type": "scatter",
         "x": [
          1990,
          1991,
          1992,
          1993,
          1994,
          1995,
          1996,
          1997,
          1998,
          1999,
          2000,
          2001,
          2002,
          2003,
          2004,
          2005,
          2006,
          2007,
          2008,
          2009,
          2010,
          2011,
          2012,
          2013,
          2014,
          2015,
          2016,
          2017,
          2018,
          2019
         ],
         "xaxis": "x",
         "y": [
          37348.2067863733,
          38728.4039086039,
          40077.5487937849,
          43555.6190364545,
          46895.0530101182,
          48767.7182901903,
          50323.8836565231,
          52711.0029933381,
          49831.8206008198,
          52264.8510904414,
          56010.5707212541,
          53937.1331944717,
          55539.3670740227,
          58920.9450034965,
          63901.716367617,
          67010.5181761266,
          70794.4486354387,
          74032.2856547611,
          71507.0611186188,
          69466.5817461326,
          78159.8433287318,
          81398.6166283515,
          82969.5617208165,
          85585.8665384853,
          87808.6631574958,
          89366.3078891257,
          91075.5353114299,
          94940.970785297,
          97744.9546061693,
          97341.4686453731
         ],
         "yaxis": "y"
        }
       ],
       "layout": {
        "legend": {
         "title": {
          "text": "Country"
         },
         "tracegroupgap": 0
        },
        "margin": {
         "t": 60
        },
        "template": {
         "data": {
          "bar": [
           {
            "error_x": {
             "color": "#2a3f5f"
            },
            "error_y": {
             "color": "#2a3f5f"
            },
            "marker": {
             "line": {
              "color": "#E5ECF6",
              "width": 0.5
             },
             "pattern": {
              "fillmode": "overlay",
              "size": 10,
              "solidity": 0.2
             }
            },
            "type": "bar"
           }
          ],
          "barpolar": [
           {
            "marker": {
             "line": {
              "color": "#E5ECF6",
              "width": 0.5
             },
             "pattern": {
              "fillmode": "overlay",
              "size": 10,
              "solidity": 0.2
             }
            },
            "type": "barpolar"
           }
          ],
          "carpet": [
           {
            "aaxis": {
             "endlinecolor": "#2a3f5f",
             "gridcolor": "white",
             "linecolor": "white",
             "minorgridcolor": "white",
             "startlinecolor": "#2a3f5f"
            },
            "baxis": {
             "endlinecolor": "#2a3f5f",
             "gridcolor": "white",
             "linecolor": "white",
             "minorgridcolor": "white",
             "startlinecolor": "#2a3f5f"
            },
            "type": "carpet"
           }
          ],
          "choropleth": [
           {
            "colorbar": {
             "outlinewidth": 0,
             "ticks": ""
            },
            "type": "choropleth"
           }
          ],
          "contour": [
           {
            "colorbar": {
             "outlinewidth": 0,
             "ticks": ""
            },
            "colorscale": [
             [
              0,
              "#0d0887"
             ],
             [
              0.1111111111111111,
              "#46039f"
             ],
             [
              0.2222222222222222,
              "#7201a8"
             ],
             [
              0.3333333333333333,
              "#9c179e"
             ],
             [
              0.4444444444444444,
              "#bd3786"
             ],
             [
              0.5555555555555556,
              "#d8576b"
             ],
             [
              0.6666666666666666,
              "#ed7953"
             ],
             [
              0.7777777777777778,
              "#fb9f3a"
             ],
             [
              0.8888888888888888,
              "#fdca26"
             ],
             [
              1,
              "#f0f921"
             ]
            ],
            "type": "contour"
           }
          ],
          "contourcarpet": [
           {
            "colorbar": {
             "outlinewidth": 0,
             "ticks": ""
            },
            "type": "contourcarpet"
           }
          ],
          "heatmap": [
           {
            "colorbar": {
             "outlinewidth": 0,
             "ticks": ""
            },
            "colorscale": [
             [
              0,
              "#0d0887"
             ],
             [
              0.1111111111111111,
              "#46039f"
             ],
             [
              0.2222222222222222,
              "#7201a8"
             ],
             [
              0.3333333333333333,
              "#9c179e"
             ],
             [
              0.4444444444444444,
              "#bd3786"
             ],
             [
              0.5555555555555556,
              "#d8576b"
             ],
             [
              0.6666666666666666,
              "#ed7953"
             ],
             [
              0.7777777777777778,
              "#fb9f3a"
             ],
             [
              0.8888888888888888,
              "#fdca26"
             ],
             [
              1,
              "#f0f921"
             ]
            ],
            "type": "heatmap"
           }
          ],
          "heatmapgl": [
           {
            "colorbar": {
             "outlinewidth": 0,
             "ticks": ""
            },
            "colorscale": [
             [
              0,
              "#0d0887"
             ],
             [
              0.1111111111111111,
              "#46039f"
             ],
             [
              0.2222222222222222,
              "#7201a8"
             ],
             [
              0.3333333333333333,
              "#9c179e"
             ],
             [
              0.4444444444444444,
              "#bd3786"
             ],
             [
              0.5555555555555556,
              "#d8576b"
             ],
             [
              0.6666666666666666,
              "#ed7953"
             ],
             [
              0.7777777777777778,
              "#fb9f3a"
             ],
             [
              0.8888888888888888,
              "#fdca26"
             ],
             [
              1,
              "#f0f921"
             ]
            ],
            "type": "heatmapgl"
           }
          ],
          "histogram": [
           {
            "marker": {
             "pattern": {
              "fillmode": "overlay",
              "size": 10,
              "solidity": 0.2
             }
            },
            "type": "histogram"
           }
          ],
          "histogram2d": [
           {
            "colorbar": {
             "outlinewidth": 0,
             "ticks": ""
            },
            "colorscale": [
             [
              0,
              "#0d0887"
             ],
             [
              0.1111111111111111,
              "#46039f"
             ],
             [
              0.2222222222222222,
              "#7201a8"
             ],
             [
              0.3333333333333333,
              "#9c179e"
             ],
             [
              0.4444444444444444,
              "#bd3786"
             ],
             [
              0.5555555555555556,
              "#d8576b"
             ],
             [
              0.6666666666666666,
              "#ed7953"
             ],
             [
              0.7777777777777778,
              "#fb9f3a"
             ],
             [
              0.8888888888888888,
              "#fdca26"
             ],
             [
              1,
              "#f0f921"
             ]
            ],
            "type": "histogram2d"
           }
          ],
          "histogram2dcontour": [
           {
            "colorbar": {
             "outlinewidth": 0,
             "ticks": ""
            },
            "colorscale": [
             [
              0,
              "#0d0887"
             ],
             [
              0.1111111111111111,
              "#46039f"
             ],
             [
              0.2222222222222222,
              "#7201a8"
             ],
             [
              0.3333333333333333,
              "#9c179e"
             ],
             [
              0.4444444444444444,
              "#bd3786"
             ],
             [
              0.5555555555555556,
              "#d8576b"
             ],
             [
              0.6666666666666666,
              "#ed7953"
             ],
             [
              0.7777777777777778,
              "#fb9f3a"
             ],
             [
              0.8888888888888888,
              "#fdca26"
             ],
             [
              1,
              "#f0f921"
             ]
            ],
            "type": "histogram2dcontour"
           }
          ],
          "mesh3d": [
           {
            "colorbar": {
             "outlinewidth": 0,
             "ticks": ""
            },
            "type": "mesh3d"
           }
          ],
          "parcoords": [
           {
            "line": {
             "colorbar": {
              "outlinewidth": 0,
              "ticks": ""
             }
            },
            "type": "parcoords"
           }
          ],
          "pie": [
           {
            "automargin": true,
            "type": "pie"
           }
          ],
          "scatter": [
           {
            "marker": {
             "colorbar": {
              "outlinewidth": 0,
              "ticks": ""
             }
            },
            "type": "scatter"
           }
          ],
          "scatter3d": [
           {
            "line": {
             "colorbar": {
              "outlinewidth": 0,
              "ticks": ""
             }
            },
            "marker": {
             "colorbar": {
              "outlinewidth": 0,
              "ticks": ""
             }
            },
            "type": "scatter3d"
           }
          ],
          "scattercarpet": [
           {
            "marker": {
             "colorbar": {
              "outlinewidth": 0,
              "ticks": ""
             }
            },
            "type": "scattercarpet"
           }
          ],
          "scattergeo": [
           {
            "marker": {
             "colorbar": {
              "outlinewidth": 0,
              "ticks": ""
             }
            },
            "type": "scattergeo"
           }
          ],
          "scattergl": [
           {
            "marker": {
             "colorbar": {
              "outlinewidth": 0,
              "ticks": ""
             }
            },
            "type": "scattergl"
           }
          ],
          "scattermapbox": [
           {
            "marker": {
             "colorbar": {
              "outlinewidth": 0,
              "ticks": ""
             }
            },
            "type": "scattermapbox"
           }
          ],
          "scatterpolar": [
           {
            "marker": {
             "colorbar": {
              "outlinewidth": 0,
              "ticks": ""
             }
            },
            "type": "scatterpolar"
           }
          ],
          "scatterpolargl": [
           {
            "marker": {
             "colorbar": {
              "outlinewidth": 0,
              "ticks": ""
             }
            },
            "type": "scatterpolargl"
           }
          ],
          "scatterternary": [
           {
            "marker": {
             "colorbar": {
              "outlinewidth": 0,
              "ticks": ""
             }
            },
            "type": "scatterternary"
           }
          ],
          "surface": [
           {
            "colorbar": {
             "outlinewidth": 0,
             "ticks": ""
            },
            "colorscale": [
             [
              0,
              "#0d0887"
             ],
             [
              0.1111111111111111,
              "#46039f"
             ],
             [
              0.2222222222222222,
              "#7201a8"
             ],
             [
              0.3333333333333333,
              "#9c179e"
             ],
             [
              0.4444444444444444,
              "#bd3786"
             ],
             [
              0.5555555555555556,
              "#d8576b"
             ],
             [
              0.6666666666666666,
              "#ed7953"
             ],
             [
              0.7777777777777778,
              "#fb9f3a"
             ],
             [
              0.8888888888888888,
              "#fdca26"
             ],
             [
              1,
              "#f0f921"
             ]
            ],
            "type": "surface"
           }
          ],
          "table": [
           {
            "cells": {
             "fill": {
              "color": "#EBF0F8"
             },
             "line": {
              "color": "white"
             }
            },
            "header": {
             "fill": {
              "color": "#C8D4E3"
             },
             "line": {
              "color": "white"
             }
            },
            "type": "table"
           }
          ]
         },
         "layout": {
          "annotationdefaults": {
           "arrowcolor": "#2a3f5f",
           "arrowhead": 0,
           "arrowwidth": 1
          },
          "autotypenumbers": "strict",
          "coloraxis": {
           "colorbar": {
            "outlinewidth": 0,
            "ticks": ""
           }
          },
          "colorscale": {
           "diverging": [
            [
             0,
             "#8e0152"
            ],
            [
             0.1,
             "#c51b7d"
            ],
            [
             0.2,
             "#de77ae"
            ],
            [
             0.3,
             "#f1b6da"
            ],
            [
             0.4,
             "#fde0ef"
            ],
            [
             0.5,
             "#f7f7f7"
            ],
            [
             0.6,
             "#e6f5d0"
            ],
            [
             0.7,
             "#b8e186"
            ],
            [
             0.8,
             "#7fbc41"
            ],
            [
             0.9,
             "#4d9221"
            ],
            [
             1,
             "#276419"
            ]
           ],
           "sequential": [
            [
             0,
             "#0d0887"
            ],
            [
             0.1111111111111111,
             "#46039f"
            ],
            [
             0.2222222222222222,
             "#7201a8"
            ],
            [
             0.3333333333333333,
             "#9c179e"
            ],
            [
             0.4444444444444444,
             "#bd3786"
            ],
            [
             0.5555555555555556,
             "#d8576b"
            ],
            [
             0.6666666666666666,
             "#ed7953"
            ],
            [
             0.7777777777777778,
             "#fb9f3a"
            ],
            [
             0.8888888888888888,
             "#fdca26"
            ],
            [
             1,
             "#f0f921"
            ]
           ],
           "sequentialminus": [
            [
             0,
             "#0d0887"
            ],
            [
             0.1111111111111111,
             "#46039f"
            ],
            [
             0.2222222222222222,
             "#7201a8"
            ],
            [
             0.3333333333333333,
             "#9c179e"
            ],
            [
             0.4444444444444444,
             "#bd3786"
            ],
            [
             0.5555555555555556,
             "#d8576b"
            ],
            [
             0.6666666666666666,
             "#ed7953"
            ],
            [
             0.7777777777777778,
             "#fb9f3a"
            ],
            [
             0.8888888888888888,
             "#fdca26"
            ],
            [
             1,
             "#f0f921"
            ]
           ]
          },
          "colorway": [
           "#636efa",
           "#EF553B",
           "#00cc96",
           "#ab63fa",
           "#FFA15A",
           "#19d3f3",
           "#FF6692",
           "#B6E880",
           "#FF97FF",
           "#FECB52"
          ],
          "font": {
           "color": "#2a3f5f"
          },
          "geo": {
           "bgcolor": "white",
           "lakecolor": "white",
           "landcolor": "#E5ECF6",
           "showlakes": true,
           "showland": true,
           "subunitcolor": "white"
          },
          "hoverlabel": {
           "align": "left"
          },
          "hovermode": "closest",
          "mapbox": {
           "style": "light"
          },
          "paper_bgcolor": "white",
          "plot_bgcolor": "#E5ECF6",
          "polar": {
           "angularaxis": {
            "gridcolor": "white",
            "linecolor": "white",
            "ticks": ""
           },
           "bgcolor": "#E5ECF6",
           "radialaxis": {
            "gridcolor": "white",
            "linecolor": "white",
            "ticks": ""
           }
          },
          "scene": {
           "xaxis": {
            "backgroundcolor": "#E5ECF6",
            "gridcolor": "white",
            "gridwidth": 2,
            "linecolor": "white",
            "showbackground": true,
            "ticks": "",
            "zerolinecolor": "white"
           },
           "yaxis": {
            "backgroundcolor": "#E5ECF6",
            "gridcolor": "white",
            "gridwidth": 2,
            "linecolor": "white",
            "showbackground": true,
            "ticks": "",
            "zerolinecolor": "white"
           },
           "zaxis": {
            "backgroundcolor": "#E5ECF6",
            "gridcolor": "white",
            "gridwidth": 2,
            "linecolor": "white",
            "showbackground": true,
            "ticks": "",
            "zerolinecolor": "white"
           }
          },
          "shapedefaults": {
           "line": {
            "color": "#2a3f5f"
           }
          },
          "ternary": {
           "aaxis": {
            "gridcolor": "white",
            "linecolor": "white",
            "ticks": ""
           },
           "baxis": {
            "gridcolor": "white",
            "linecolor": "white",
            "ticks": ""
           },
           "bgcolor": "#E5ECF6",
           "caxis": {
            "gridcolor": "white",
            "linecolor": "white",
            "ticks": ""
           }
          },
          "title": {
           "x": 0.05
          },
          "xaxis": {
           "automargin": true,
           "gridcolor": "white",
           "linecolor": "white",
           "ticks": "",
           "title": {
            "standoff": 15
           },
           "zerolinecolor": "white",
           "zerolinewidth": 2
          },
          "yaxis": {
           "automargin": true,
           "gridcolor": "white",
           "linecolor": "white",
           "ticks": "",
           "title": {
            "standoff": 15
           },
           "zerolinecolor": "white",
           "zerolinewidth": 2
          }
         }
        },
        "xaxis": {
         "anchor": "y",
         "domain": [
          0,
          1
         ],
         "title": {
          "text": "Year"
         }
        },
        "yaxis": {
         "anchor": "x",
         "domain": [
          0,
          1
         ],
         "title": {
          "text": "GDP_Per_Capita"
         }
        }
       }
      }
     },
     "metadata": {},
     "output_type": "display_data"
    }
   ],
   "source": [
    "fig1 = px.line(filtered_gdp_cont_pop_trade.loc[filtered_gdp_cont_pop_trade['Country'].isin(max_gdp2019_countries['Country'])], x='Year', y='GDP_Per_Capita', color='Country', symbol=\"Country\")\n",
    "fig1.show()"
   ]
  },
  {
   "cell_type": "code",
   "execution_count": 69,
   "metadata": {},
   "outputs": [
    {
     "data": {
      "application/vnd.plotly.v1+json": {
       "config": {
        "plotlyServerURL": "https://plot.ly"
       },
       "data": [
        {
         "hovertemplate": "Country=Afghanistan<br>Year=%{x}<br>GDP_Per_Capita=%{y}<extra></extra>",
         "legendgroup": "Afghanistan",
         "line": {
          "color": "#636efa",
          "dash": "solid"
         },
         "marker": {
          "symbol": "circle"
         },
         "mode": "lines+markers",
         "name": "Afghanistan",
         "orientation": "v",
         "showlegend": true,
         "type": "scatter",
         "x": [
          2002,
          2003,
          2004,
          2005,
          2006,
          2007,
          2008,
          2009,
          2010,
          2011,
          2012,
          2013,
          2014,
          2015,
          2016,
          2017,
          2018,
          2019
         ],
         "xaxis": "x",
         "y": [
          1189.78487818374,
          1235.81006314475,
          1200.27825577545,
          1286.79350847638,
          1315.78956539008,
          1460.8260746532,
          1484.11472886613,
          1758.90404304289,
          1957.02933798253,
          1904.5597991972,
          2075.49174746801,
          2116.46545444196,
          2102.3852337563,
          2068.26590401052,
          2057.06216379869,
          2058.3838315796,
          2033.7790021718,
          2065.03639781163
         ],
         "yaxis": "y"
        },
        {
         "hovertemplate": "Country=Bolivia<br>Year=%{x}<br>GDP_Per_Capita=%{y}<extra></extra>",
         "legendgroup": "Bolivia",
         "line": {
          "color": "#EF553B",
          "dash": "solid"
         },
         "marker": {
          "symbol": "diamond"
         },
         "mode": "lines+markers",
         "name": "Bolivia",
         "orientation": "v",
         "showlegend": true,
         "type": "scatter",
         "x": [
          1990,
          1991,
          1992,
          1993,
          1994,
          1995,
          1996,
          1997,
          1998,
          1999,
          2000,
          2001,
          2002,
          2003,
          2004,
          2005,
          2006,
          2007,
          2008,
          2009,
          2010,
          2011,
          2012,
          2013,
          2014,
          2015,
          2016,
          2017,
          2018,
          2019
         ],
         "xaxis": "x",
         "y": [
          4587.42737263806,
          4728.04952703231,
          4705.58517025511,
          4804.54457268844,
          4925.10710038228,
          5050.31113988814,
          5164.2507332886,
          5312.07766466358,
          5469.46973718794,
          5386.17921449768,
          5415.52991539303,
          5402.76514668128,
          5434.08881516848,
          5479.26506092333,
          5605.204967729,
          5749.52853108943,
          5920.71166230972,
          6085.38581122278,
          6351.22816631302,
          6455.97424355548,
          6612.8079608313,
          6844.98176046089,
          7081.38681099674,
          7444.49009062415,
          7730.63840148344,
          7984.41345518557,
          8202.55092483578,
          8423.69680584065,
          8655.52996001591,
          8724.47570163818
         ],
         "yaxis": "y"
        },
        {
         "hovertemplate": "Country=Burundi<br>Year=%{x}<br>GDP_Per_Capita=%{y}<extra></extra>",
         "legendgroup": "Burundi",
         "line": {
          "color": "#00cc96",
          "dash": "solid"
         },
         "marker": {
          "symbol": "square"
         },
         "mode": "lines+markers",
         "name": "Burundi",
         "orientation": "v",
         "showlegend": true,
         "type": "scatter",
         "x": [
          1990,
          1991,
          1992,
          1993,
          1994,
          1995,
          1996,
          1997,
          1998,
          1999,
          2000,
          2001,
          2002,
          2003,
          2004,
          2005,
          2006,
          2007,
          2008,
          2009,
          2010,
          2011,
          2012,
          2013,
          2014,
          2015,
          2016,
          2017,
          2018,
          2019
         ],
         "xaxis": "x",
         "y": [
          1184.84244047638,
          1215.88653124915,
          1202.10713942057,
          1105.228876226,
          1044.71553683812,
          947.822367711361,
          861.482736903432,
          839.196845267928,
          870.044081803464,
          850.048016226981,
          828.000459963366,
          826.029067773258,
          839.778526667927,
          804.885029198471,
          817.460585353135,
          798.704284723934,
          815.053735830679,
          815.90943944186,
          827.792518241446,
          831.564131168609,
          846.169526927269,
          852.502621649322,
          862.71608619147,
          877.274160261081,
          886.23577677556,
          825.205985575849,
          794.604574423363,
          773.571858394255,
          761.524193384446,
          751.663957194118
         ],
         "yaxis": "y"
        },
        {
         "hovertemplate": "Country=Kiribati<br>Year=%{x}<br>GDP_Per_Capita=%{y}<extra></extra>",
         "legendgroup": "Kiribati",
         "line": {
          "color": "#ab63fa",
          "dash": "solid"
         },
         "marker": {
          "symbol": "x"
         },
         "mode": "lines+markers",
         "name": "Kiribati",
         "orientation": "v",
         "showlegend": true,
         "type": "scatter",
         "x": [
          1990,
          1991,
          1992,
          1993,
          1994,
          1995,
          1996,
          1997,
          1998,
          1999,
          2000,
          2001,
          2002,
          2003,
          2004,
          2005,
          2006,
          2007,
          2008,
          2009,
          2010,
          2011,
          2012,
          2013,
          2014,
          2015,
          2016,
          2017,
          2018,
          2019
         ],
         "xaxis": "x",
         "y": [
          2135.60691490212,
          2098.16453127767,
          2086.16534740145,
          2077.90342977335,
          2087.42834926992,
          2059.14763375738,
          2062.73179712217,
          2063.53052786781,
          2161.93418310557,
          2092.34571647727,
          2185.60702624265,
          2117.01819633273,
          2160.5564097176,
          2165.94647258616,
          2091.47916221261,
          2151.62806650097,
          2104.56670387802,
          2098.80704327752,
          2008.42917116932,
          1981.04396019904,
          1924.66009309094,
          1921.72395923602,
          1981.23769005208,
          2035.65341450763,
          1993.71091279984,
          2170.62655724475,
          2249.76867471027,
          2237.33640890115,
          2255.71557879801,
          2271.91343813957
         ],
         "yaxis": "y"
        },
        {
         "hovertemplate": "Country=Nicaragua<br>Year=%{x}<br>GDP_Per_Capita=%{y}<extra></extra>",
         "legendgroup": "Nicaragua",
         "line": {
          "color": "#FFA15A",
          "dash": "solid"
         },
         "marker": {
          "symbol": "cross"
         },
         "mode": "lines+markers",
         "name": "Nicaragua",
         "orientation": "v",
         "showlegend": true,
         "type": "scatter",
         "x": [
          1990,
          1991,
          1992,
          1993,
          1994,
          1995,
          1996,
          1997,
          1998,
          1999,
          2000,
          2001,
          2002,
          2003,
          2004,
          2005,
          2006,
          2007,
          2008,
          2009,
          2010,
          2011,
          2012,
          2013,
          2014,
          2015,
          2016,
          2017,
          2018,
          2019
         ],
         "xaxis": "x",
         "y": [
          3454.28703338539,
          3371.69827831334,
          3309.54363433257,
          3224.15569010981,
          3261.2393908183,
          3384.85958906998,
          3531.74080412879,
          3606.3594412422,
          3677.00936200101,
          3872.32814535559,
          3968.92051927789,
          4026.02424889927,
          3998.89593145562,
          4043.30846722307,
          4200.30177440683,
          4320.77512283701,
          4438.91507118784,
          4600.56983194604,
          4693.65662623798,
          4477.40706051656,
          4611.84028792174,
          4837.55980244939,
          5083.39372016495,
          5263.48609086696,
          5443.34174009736,
          5630.39746422373,
          5811.91059488114,
          6004.01729603435,
          5694.92447973634,
          5407.12069988083
         ],
         "yaxis": "y"
        },
        {
         "hovertemplate": "Country=Ukraine<br>Year=%{x}<br>GDP_Per_Capita=%{y}<extra></extra>",
         "legendgroup": "Ukraine",
         "line": {
          "color": "#19d3f3",
          "dash": "solid"
         },
         "marker": {
          "symbol": "circle"
         },
         "mode": "lines+markers",
         "name": "Ukraine",
         "orientation": "v",
         "showlegend": true,
         "type": "scatter",
         "x": [
          1990,
          1991,
          1992,
          1993,
          1994,
          1995,
          1996,
          1997,
          1998,
          1999,
          2000,
          2001,
          2002,
          2003,
          2004,
          2005,
          2006,
          2007,
          2008,
          2009,
          2010,
          2011,
          2012,
          2013,
          2014,
          2015,
          2016,
          2017,
          2018,
          2019
         ],
         "xaxis": "x",
         "y": [
          15751.7224397433,
          14396.6327018146,
          12962.9357045176,
          11112.6776523015,
          8606.61350228355,
          7616.54572607901,
          6915.97830518822,
          6769.91611558767,
          6700.9003020349,
          6750.84085464446,
          7221.46560776918,
          7969.42102827251,
          8467.79599207072,
          9349.13468844413,
          10561.0095264702,
          10957.5582756783,
          11852.6523644491,
          12829.03064807,
          13195.8768378635,
          11298.3909564957,
          11778.3136960259,
          12466.8077918775,
          12527.465501021,
          12552.6697613585,
          12408.95159807,
          11237.0744571217,
          11534.6380017777,
          11871.1236240918,
          12338.0028039485,
          12810.2894546923
         ],
         "yaxis": "y"
        }
       ],
       "layout": {
        "legend": {
         "title": {
          "text": "Country"
         },
         "tracegroupgap": 0
        },
        "margin": {
         "t": 60
        },
        "template": {
         "data": {
          "bar": [
           {
            "error_x": {
             "color": "#2a3f5f"
            },
            "error_y": {
             "color": "#2a3f5f"
            },
            "marker": {
             "line": {
              "color": "#E5ECF6",
              "width": 0.5
             },
             "pattern": {
              "fillmode": "overlay",
              "size": 10,
              "solidity": 0.2
             }
            },
            "type": "bar"
           }
          ],
          "barpolar": [
           {
            "marker": {
             "line": {
              "color": "#E5ECF6",
              "width": 0.5
             },
             "pattern": {
              "fillmode": "overlay",
              "size": 10,
              "solidity": 0.2
             }
            },
            "type": "barpolar"
           }
          ],
          "carpet": [
           {
            "aaxis": {
             "endlinecolor": "#2a3f5f",
             "gridcolor": "white",
             "linecolor": "white",
             "minorgridcolor": "white",
             "startlinecolor": "#2a3f5f"
            },
            "baxis": {
             "endlinecolor": "#2a3f5f",
             "gridcolor": "white",
             "linecolor": "white",
             "minorgridcolor": "white",
             "startlinecolor": "#2a3f5f"
            },
            "type": "carpet"
           }
          ],
          "choropleth": [
           {
            "colorbar": {
             "outlinewidth": 0,
             "ticks": ""
            },
            "type": "choropleth"
           }
          ],
          "contour": [
           {
            "colorbar": {
             "outlinewidth": 0,
             "ticks": ""
            },
            "colorscale": [
             [
              0,
              "#0d0887"
             ],
             [
              0.1111111111111111,
              "#46039f"
             ],
             [
              0.2222222222222222,
              "#7201a8"
             ],
             [
              0.3333333333333333,
              "#9c179e"
             ],
             [
              0.4444444444444444,
              "#bd3786"
             ],
             [
              0.5555555555555556,
              "#d8576b"
             ],
             [
              0.6666666666666666,
              "#ed7953"
             ],
             [
              0.7777777777777778,
              "#fb9f3a"
             ],
             [
              0.8888888888888888,
              "#fdca26"
             ],
             [
              1,
              "#f0f921"
             ]
            ],
            "type": "contour"
           }
          ],
          "contourcarpet": [
           {
            "colorbar": {
             "outlinewidth": 0,
             "ticks": ""
            },
            "type": "contourcarpet"
           }
          ],
          "heatmap": [
           {
            "colorbar": {
             "outlinewidth": 0,
             "ticks": ""
            },
            "colorscale": [
             [
              0,
              "#0d0887"
             ],
             [
              0.1111111111111111,
              "#46039f"
             ],
             [
              0.2222222222222222,
              "#7201a8"
             ],
             [
              0.3333333333333333,
              "#9c179e"
             ],
             [
              0.4444444444444444,
              "#bd3786"
             ],
             [
              0.5555555555555556,
              "#d8576b"
             ],
             [
              0.6666666666666666,
              "#ed7953"
             ],
             [
              0.7777777777777778,
              "#fb9f3a"
             ],
             [
              0.8888888888888888,
              "#fdca26"
             ],
             [
              1,
              "#f0f921"
             ]
            ],
            "type": "heatmap"
           }
          ],
          "heatmapgl": [
           {
            "colorbar": {
             "outlinewidth": 0,
             "ticks": ""
            },
            "colorscale": [
             [
              0,
              "#0d0887"
             ],
             [
              0.1111111111111111,
              "#46039f"
             ],
             [
              0.2222222222222222,
              "#7201a8"
             ],
             [
              0.3333333333333333,
              "#9c179e"
             ],
             [
              0.4444444444444444,
              "#bd3786"
             ],
             [
              0.5555555555555556,
              "#d8576b"
             ],
             [
              0.6666666666666666,
              "#ed7953"
             ],
             [
              0.7777777777777778,
              "#fb9f3a"
             ],
             [
              0.8888888888888888,
              "#fdca26"
             ],
             [
              1,
              "#f0f921"
             ]
            ],
            "type": "heatmapgl"
           }
          ],
          "histogram": [
           {
            "marker": {
             "pattern": {
              "fillmode": "overlay",
              "size": 10,
              "solidity": 0.2
             }
            },
            "type": "histogram"
           }
          ],
          "histogram2d": [
           {
            "colorbar": {
             "outlinewidth": 0,
             "ticks": ""
            },
            "colorscale": [
             [
              0,
              "#0d0887"
             ],
             [
              0.1111111111111111,
              "#46039f"
             ],
             [
              0.2222222222222222,
              "#7201a8"
             ],
             [
              0.3333333333333333,
              "#9c179e"
             ],
             [
              0.4444444444444444,
              "#bd3786"
             ],
             [
              0.5555555555555556,
              "#d8576b"
             ],
             [
              0.6666666666666666,
              "#ed7953"
             ],
             [
              0.7777777777777778,
              "#fb9f3a"
             ],
             [
              0.8888888888888888,
              "#fdca26"
             ],
             [
              1,
              "#f0f921"
             ]
            ],
            "type": "histogram2d"
           }
          ],
          "histogram2dcontour": [
           {
            "colorbar": {
             "outlinewidth": 0,
             "ticks": ""
            },
            "colorscale": [
             [
              0,
              "#0d0887"
             ],
             [
              0.1111111111111111,
              "#46039f"
             ],
             [
              0.2222222222222222,
              "#7201a8"
             ],
             [
              0.3333333333333333,
              "#9c179e"
             ],
             [
              0.4444444444444444,
              "#bd3786"
             ],
             [
              0.5555555555555556,
              "#d8576b"
             ],
             [
              0.6666666666666666,
              "#ed7953"
             ],
             [
              0.7777777777777778,
              "#fb9f3a"
             ],
             [
              0.8888888888888888,
              "#fdca26"
             ],
             [
              1,
              "#f0f921"
             ]
            ],
            "type": "histogram2dcontour"
           }
          ],
          "mesh3d": [
           {
            "colorbar": {
             "outlinewidth": 0,
             "ticks": ""
            },
            "type": "mesh3d"
           }
          ],
          "parcoords": [
           {
            "line": {
             "colorbar": {
              "outlinewidth": 0,
              "ticks": ""
             }
            },
            "type": "parcoords"
           }
          ],
          "pie": [
           {
            "automargin": true,
            "type": "pie"
           }
          ],
          "scatter": [
           {
            "marker": {
             "colorbar": {
              "outlinewidth": 0,
              "ticks": ""
             }
            },
            "type": "scatter"
           }
          ],
          "scatter3d": [
           {
            "line": {
             "colorbar": {
              "outlinewidth": 0,
              "ticks": ""
             }
            },
            "marker": {
             "colorbar": {
              "outlinewidth": 0,
              "ticks": ""
             }
            },
            "type": "scatter3d"
           }
          ],
          "scattercarpet": [
           {
            "marker": {
             "colorbar": {
              "outlinewidth": 0,
              "ticks": ""
             }
            },
            "type": "scattercarpet"
           }
          ],
          "scattergeo": [
           {
            "marker": {
             "colorbar": {
              "outlinewidth": 0,
              "ticks": ""
             }
            },
            "type": "scattergeo"
           }
          ],
          "scattergl": [
           {
            "marker": {
             "colorbar": {
              "outlinewidth": 0,
              "ticks": ""
             }
            },
            "type": "scattergl"
           }
          ],
          "scattermapbox": [
           {
            "marker": {
             "colorbar": {
              "outlinewidth": 0,
              "ticks": ""
             }
            },
            "type": "scattermapbox"
           }
          ],
          "scatterpolar": [
           {
            "marker": {
             "colorbar": {
              "outlinewidth": 0,
              "ticks": ""
             }
            },
            "type": "scatterpolar"
           }
          ],
          "scatterpolargl": [
           {
            "marker": {
             "colorbar": {
              "outlinewidth": 0,
              "ticks": ""
             }
            },
            "type": "scatterpolargl"
           }
          ],
          "scatterternary": [
           {
            "marker": {
             "colorbar": {
              "outlinewidth": 0,
              "ticks": ""
             }
            },
            "type": "scatterternary"
           }
          ],
          "surface": [
           {
            "colorbar": {
             "outlinewidth": 0,
             "ticks": ""
            },
            "colorscale": [
             [
              0,
              "#0d0887"
             ],
             [
              0.1111111111111111,
              "#46039f"
             ],
             [
              0.2222222222222222,
              "#7201a8"
             ],
             [
              0.3333333333333333,
              "#9c179e"
             ],
             [
              0.4444444444444444,
              "#bd3786"
             ],
             [
              0.5555555555555556,
              "#d8576b"
             ],
             [
              0.6666666666666666,
              "#ed7953"
             ],
             [
              0.7777777777777778,
              "#fb9f3a"
             ],
             [
              0.8888888888888888,
              "#fdca26"
             ],
             [
              1,
              "#f0f921"
             ]
            ],
            "type": "surface"
           }
          ],
          "table": [
           {
            "cells": {
             "fill": {
              "color": "#EBF0F8"
             },
             "line": {
              "color": "white"
             }
            },
            "header": {
             "fill": {
              "color": "#C8D4E3"
             },
             "line": {
              "color": "white"
             }
            },
            "type": "table"
           }
          ]
         },
         "layout": {
          "annotationdefaults": {
           "arrowcolor": "#2a3f5f",
           "arrowhead": 0,
           "arrowwidth": 1
          },
          "autotypenumbers": "strict",
          "coloraxis": {
           "colorbar": {
            "outlinewidth": 0,
            "ticks": ""
           }
          },
          "colorscale": {
           "diverging": [
            [
             0,
             "#8e0152"
            ],
            [
             0.1,
             "#c51b7d"
            ],
            [
             0.2,
             "#de77ae"
            ],
            [
             0.3,
             "#f1b6da"
            ],
            [
             0.4,
             "#fde0ef"
            ],
            [
             0.5,
             "#f7f7f7"
            ],
            [
             0.6,
             "#e6f5d0"
            ],
            [
             0.7,
             "#b8e186"
            ],
            [
             0.8,
             "#7fbc41"
            ],
            [
             0.9,
             "#4d9221"
            ],
            [
             1,
             "#276419"
            ]
           ],
           "sequential": [
            [
             0,
             "#0d0887"
            ],
            [
             0.1111111111111111,
             "#46039f"
            ],
            [
             0.2222222222222222,
             "#7201a8"
            ],
            [
             0.3333333333333333,
             "#9c179e"
            ],
            [
             0.4444444444444444,
             "#bd3786"
            ],
            [
             0.5555555555555556,
             "#d8576b"
            ],
            [
             0.6666666666666666,
             "#ed7953"
            ],
            [
             0.7777777777777778,
             "#fb9f3a"
            ],
            [
             0.8888888888888888,
             "#fdca26"
            ],
            [
             1,
             "#f0f921"
            ]
           ],
           "sequentialminus": [
            [
             0,
             "#0d0887"
            ],
            [
             0.1111111111111111,
             "#46039f"
            ],
            [
             0.2222222222222222,
             "#7201a8"
            ],
            [
             0.3333333333333333,
             "#9c179e"
            ],
            [
             0.4444444444444444,
             "#bd3786"
            ],
            [
             0.5555555555555556,
             "#d8576b"
            ],
            [
             0.6666666666666666,
             "#ed7953"
            ],
            [
             0.7777777777777778,
             "#fb9f3a"
            ],
            [
             0.8888888888888888,
             "#fdca26"
            ],
            [
             1,
             "#f0f921"
            ]
           ]
          },
          "colorway": [
           "#636efa",
           "#EF553B",
           "#00cc96",
           "#ab63fa",
           "#FFA15A",
           "#19d3f3",
           "#FF6692",
           "#B6E880",
           "#FF97FF",
           "#FECB52"
          ],
          "font": {
           "color": "#2a3f5f"
          },
          "geo": {
           "bgcolor": "white",
           "lakecolor": "white",
           "landcolor": "#E5ECF6",
           "showlakes": true,
           "showland": true,
           "subunitcolor": "white"
          },
          "hoverlabel": {
           "align": "left"
          },
          "hovermode": "closest",
          "mapbox": {
           "style": "light"
          },
          "paper_bgcolor": "white",
          "plot_bgcolor": "#E5ECF6",
          "polar": {
           "angularaxis": {
            "gridcolor": "white",
            "linecolor": "white",
            "ticks": ""
           },
           "bgcolor": "#E5ECF6",
           "radialaxis": {
            "gridcolor": "white",
            "linecolor": "white",
            "ticks": ""
           }
          },
          "scene": {
           "xaxis": {
            "backgroundcolor": "#E5ECF6",
            "gridcolor": "white",
            "gridwidth": 2,
            "linecolor": "white",
            "showbackground": true,
            "ticks": "",
            "zerolinecolor": "white"
           },
           "yaxis": {
            "backgroundcolor": "#E5ECF6",
            "gridcolor": "white",
            "gridwidth": 2,
            "linecolor": "white",
            "showbackground": true,
            "ticks": "",
            "zerolinecolor": "white"
           },
           "zaxis": {
            "backgroundcolor": "#E5ECF6",
            "gridcolor": "white",
            "gridwidth": 2,
            "linecolor": "white",
            "showbackground": true,
            "ticks": "",
            "zerolinecolor": "white"
           }
          },
          "shapedefaults": {
           "line": {
            "color": "#2a3f5f"
           }
          },
          "ternary": {
           "aaxis": {
            "gridcolor": "white",
            "linecolor": "white",
            "ticks": ""
           },
           "baxis": {
            "gridcolor": "white",
            "linecolor": "white",
            "ticks": ""
           },
           "bgcolor": "#E5ECF6",
           "caxis": {
            "gridcolor": "white",
            "linecolor": "white",
            "ticks": ""
           }
          },
          "title": {
           "x": 0.05
          },
          "xaxis": {
           "automargin": true,
           "gridcolor": "white",
           "linecolor": "white",
           "ticks": "",
           "title": {
            "standoff": 15
           },
           "zerolinecolor": "white",
           "zerolinewidth": 2
          },
          "yaxis": {
           "automargin": true,
           "gridcolor": "white",
           "linecolor": "white",
           "ticks": "",
           "title": {
            "standoff": 15
           },
           "zerolinecolor": "white",
           "zerolinewidth": 2
          }
         }
        },
        "xaxis": {
         "anchor": "y",
         "domain": [
          0,
          1
         ],
         "title": {
          "text": "Year"
         }
        },
        "yaxis": {
         "anchor": "x",
         "domain": [
          0,
          1
         ],
         "title": {
          "text": "GDP_Per_Capita"
         }
        }
       }
      }
     },
     "metadata": {},
     "output_type": "display_data"
    }
   ],
   "source": [
    "fig2 = px.line(filtered_gdp_cont_pop_trade.loc[filtered_gdp_cont_pop_trade['Country'].isin(min_gdp2019_countries['Country'])], x='Year', y='GDP_Per_Capita', color='Country', symbol=\"Country\")\n",
    "fig2.show()"
   ]
  },
  {
   "cell_type": "code",
   "execution_count": 71,
   "metadata": {},
   "outputs": [
    {
     "data": {
      "application/vnd.plotly.v1+json": {
       "config": {
        "plotlyServerURL": "https://plot.ly"
       },
       "data": [
        {
         "hovertemplate": "Country=Australia<br>Year=%{x}<br>Surplus_Deficit_Per_Capita=%{y}<extra></extra>",
         "legendgroup": "Australia",
         "line": {
          "color": "#636efa",
          "dash": "solid"
         },
         "marker": {
          "symbol": "circle"
         },
         "mode": "lines+markers",
         "name": "Australia",
         "orientation": "v",
         "showlegend": true,
         "type": "scatter",
         "x": [
          1990,
          1991,
          1992,
          1993,
          1994,
          1995,
          1996,
          1997,
          1998,
          1999,
          2000,
          2001,
          2002,
          2003,
          2004,
          2005,
          2006,
          2007,
          2008,
          2009,
          2010,
          2011,
          2012,
          2013,
          2014,
          2015,
          2016,
          2017,
          2018,
          2019
         ],
         "xaxis": "x",
         "y": [
          91505.09943724268,
          233942.66529526608,
          191503.05792270886,
          87423.6924469152,
          -28072.047246151637,
          -100393.45194712143,
          91757.6482011902,
          215290.27333885385,
          -105442.9807229464,
          -383743.33296466194,
          -425306.67752208875,
          -66091.30971344549,
          -429758.94746184914,
          -973258.5144255302,
          -1177123.7137536984,
          -973148.3809532304,
          -807959.5637850616,
          -1193120.5141778123,
          -679966.7111094819,
          -569114.9569734077,
          428239.70241229853,
          1531781.5588436613,
          209372.08209693804,
          800806.2772369864,
          501887.0720834649,
          -547570.912226394,
          -18323.467920651245,
          29410.74271679779,
          664613.5424801144,
          0
         ],
         "yaxis": "y"
        },
        {
         "hovertemplate": "Country=Bermuda<br>Year=%{x}<br>Surplus_Deficit_Per_Capita=%{y}<extra></extra>",
         "legendgroup": "Bermuda",
         "line": {
          "color": "#EF553B",
          "dash": "solid"
         },
         "marker": {
          "symbol": "diamond"
         },
         "mode": "lines+markers",
         "name": "Bermuda",
         "orientation": "v",
         "showlegend": true,
         "type": "scatter",
         "x": [
          1990,
          1991,
          1992,
          1993,
          1994,
          1995,
          1996,
          1997,
          1998,
          1999,
          2000,
          2001,
          2002,
          2003,
          2004,
          2005,
          2006,
          2007,
          2008,
          2009,
          2010,
          2011,
          2012,
          2013,
          2014,
          2015,
          2016,
          2017,
          2018,
          2019
         ],
         "xaxis": "x",
         "y": [
          0,
          0,
          0,
          0,
          1038573.9687168191,
          -8990547.208473882,
          0,
          -9162817.47815231,
          0,
          0,
          0,
          0,
          0,
          0,
          0,
          -14918271.110976953,
          -16240328.825021131,
          -17198946.64973007,
          -17572820.32731189,
          -15708123.168986203,
          -14835858.707121994,
          -13545414.963582162,
          -13242511.222330352,
          -15109917.932469793,
          -14822152.73374666,
          -14448886.940275073,
          -15200151.841797922,
          -16914964.85368523,
          -16685202.855185162,
          0
         ],
         "yaxis": "y"
        },
        {
         "hovertemplate": "Country=Chile<br>Year=%{x}<br>Surplus_Deficit_Per_Capita=%{y}<extra></extra>",
         "legendgroup": "Chile",
         "line": {
          "color": "#00cc96",
          "dash": "solid"
         },
         "marker": {
          "symbol": "square"
         },
         "mode": "lines+markers",
         "name": "Chile",
         "orientation": "v",
         "showlegend": true,
         "type": "scatter",
         "x": [
          1990,
          1991,
          1992,
          1993,
          1994,
          1995,
          1996,
          1997,
          1998,
          1999,
          2000,
          2001,
          2002,
          2003,
          2004,
          2005,
          2006,
          2007,
          2008,
          2009,
          2010,
          2011,
          2012,
          2013,
          2014,
          2015,
          2016,
          2017,
          2018,
          2019
         ],
         "xaxis": "x",
         "y": [
          112978.3708358422,
          111701.24024305427,
          33367.315997390346,
          -88462.61779454436,
          15502.392290457521,
          69403.8648298371,
          -96189.46801239702,
          -96888.5159290204,
          -149607.9183678865,
          113943.43511752447,
          103946.10083603213,
          168164.48513877156,
          130045.70526055525,
          151784.24731344258,
          518943.75119380484,
          559004.4831768404,
          108041.82682642041,
          1268190.7100914419,
          102585.6549497859,
          747050.3243894151,
          709082.6500820277,
          382368.8524656751,
          -116248.38016161401,
          -146692.96560619416,
          125794.72529637004,
          -19681.095061675176,
          74316.42051554762,
          194241.28607000626,
          68218.5635955965,
          3887.071706193003
         ],
         "yaxis": "y"
        },
        {
         "hovertemplate": "Country=Luxembourg<br>Year=%{x}<br>Surplus_Deficit_Per_Capita=%{y}<extra></extra>",
         "legendgroup": "Luxembourg",
         "line": {
          "color": "#ab63fa",
          "dash": "solid"
         },
         "marker": {
          "symbol": "x"
         },
         "mode": "lines+markers",
         "name": "Luxembourg",
         "orientation": "v",
         "showlegend": true,
         "type": "scatter",
         "x": [
          1990,
          1991,
          1992,
          1993,
          1994,
          1995,
          1996,
          1997,
          1998,
          1999,
          2000,
          2001,
          2002,
          2003,
          2004,
          2005,
          2006,
          2007,
          2008,
          2009,
          2010,
          2011,
          2012,
          2013,
          2014,
          2015,
          2016,
          2017,
          2018,
          2019
         ],
         "xaxis": "x",
         "y": [
          0,
          0,
          0,
          0,
          0,
          0,
          0,
          0,
          0,
          -6197197.290742055,
          -6228365.124752639,
          -6650830.010586145,
          -6616443.861752523,
          -8180507.012845333,
          -10189653.876884326,
          -10638125.143608494,
          -11720881.370675027,
          -12826324.525441395,
          -16710957.17184619,
          -12505047.94905413,
          -12743451.368310792,
          -18565168.19723208,
          -19887070.717726246,
          -18626344.172073137,
          -16348496.692611216,
          -11892876.730287733,
          -11062123.655190034,
          -12269657.566138787,
          -13523719.96740728,
          0
         ],
         "yaxis": "y"
        },
        {
         "hovertemplate": "Country=Seychelles<br>Year=%{x}<br>Surplus_Deficit_Per_Capita=%{y}<extra></extra>",
         "legendgroup": "Seychelles",
         "line": {
          "color": "#FFA15A",
          "dash": "solid"
         },
         "marker": {
          "symbol": "cross"
         },
         "mode": "lines+markers",
         "name": "Seychelles",
         "orientation": "v",
         "showlegend": true,
         "type": "scatter",
         "x": [
          1990,
          1991,
          1992,
          1993,
          1994,
          1995,
          1996,
          1997,
          1998,
          1999,
          2000,
          2001,
          2002,
          2003,
          2004,
          2005,
          2006,
          2007,
          2008,
          2009,
          2010,
          2011,
          2012,
          2013,
          2014,
          2015,
          2016,
          2017,
          2018,
          2019
         ],
         "xaxis": "x",
         "y": [
          0,
          0,
          0,
          0,
          -1679341.6224814423,
          -2247500.4240107504,
          -1406327.1902466686,
          -2330666.696445664,
          -2917440.6430233736,
          -3107942.6386472583,
          -1042605.2150723493,
          -2384645.4243211104,
          -1721088.7757650726,
          -882885.0833236219,
          -1127101.2209215842,
          -2559883.4266049997,
          -2558299.530071197,
          -3753478.110292159,
          -6261391.038043538,
          0,
          -6700381.640077139,
          -6094514.132102783,
          -4734550.554517672,
          -2287557.278226886,
          -3531156.5992676322,
          -3764002.1583945756,
          -10702673.200292552,
          -5862232.565703499,
          415595.75842465175,
          0
         ],
         "yaxis": "y"
        },
        {
         "hovertemplate": "Country=Singapore<br>Year=%{x}<br>Surplus_Deficit_Per_Capita=%{y}<extra></extra>",
         "legendgroup": "Singapore",
         "line": {
          "color": "#19d3f3",
          "dash": "solid"
         },
         "marker": {
          "symbol": "circle"
         },
         "mode": "lines+markers",
         "name": "Singapore",
         "orientation": "v",
         "showlegend": true,
         "type": "scatter",
         "x": [
          1990,
          1991,
          1992,
          1993,
          1994,
          1995,
          1996,
          1997,
          1998,
          1999,
          2000,
          2001,
          2002,
          2003,
          2004,
          2005,
          2006,
          2007,
          2008,
          2009,
          2010,
          2011,
          2012,
          2013,
          2014,
          2015,
          2016,
          2017,
          2018,
          2019
         ],
         "xaxis": "x",
         "y": [
          -2679856.933002231,
          -2302496.680099331,
          -2722346.162476927,
          -3395544.347265282,
          -1711137.6627300442,
          -1769824.4403169737,
          -1740488.2852365754,
          -1986494.2872600702,
          2117068.492512007,
          915574.5331618262,
          809141.3373622536,
          1410614.2567899842,
          2128476.032295923,
          5991902.88274434,
          5997162.2878699275,
          6943564.107961977,
          7601001.483532246,
          8043650.854950061,
          3781462.5989676295,
          4804827.031253084,
          7828482.712556709,
          8292548.950497146,
          5546615.350410916,
          5846441.797239037,
          6783051.129965548,
          8908837.563012412,
          8167065.938329038,
          7979066.944182084,
          7162792.945425958,
          0
         ],
         "yaxis": "y"
        }
       ],
       "layout": {
        "legend": {
         "title": {
          "text": "Country"
         },
         "tracegroupgap": 0
        },
        "margin": {
         "t": 60
        },
        "template": {
         "data": {
          "bar": [
           {
            "error_x": {
             "color": "#2a3f5f"
            },
            "error_y": {
             "color": "#2a3f5f"
            },
            "marker": {
             "line": {
              "color": "#E5ECF6",
              "width": 0.5
             },
             "pattern": {
              "fillmode": "overlay",
              "size": 10,
              "solidity": 0.2
             }
            },
            "type": "bar"
           }
          ],
          "barpolar": [
           {
            "marker": {
             "line": {
              "color": "#E5ECF6",
              "width": 0.5
             },
             "pattern": {
              "fillmode": "overlay",
              "size": 10,
              "solidity": 0.2
             }
            },
            "type": "barpolar"
           }
          ],
          "carpet": [
           {
            "aaxis": {
             "endlinecolor": "#2a3f5f",
             "gridcolor": "white",
             "linecolor": "white",
             "minorgridcolor": "white",
             "startlinecolor": "#2a3f5f"
            },
            "baxis": {
             "endlinecolor": "#2a3f5f",
             "gridcolor": "white",
             "linecolor": "white",
             "minorgridcolor": "white",
             "startlinecolor": "#2a3f5f"
            },
            "type": "carpet"
           }
          ],
          "choropleth": [
           {
            "colorbar": {
             "outlinewidth": 0,
             "ticks": ""
            },
            "type": "choropleth"
           }
          ],
          "contour": [
           {
            "colorbar": {
             "outlinewidth": 0,
             "ticks": ""
            },
            "colorscale": [
             [
              0,
              "#0d0887"
             ],
             [
              0.1111111111111111,
              "#46039f"
             ],
             [
              0.2222222222222222,
              "#7201a8"
             ],
             [
              0.3333333333333333,
              "#9c179e"
             ],
             [
              0.4444444444444444,
              "#bd3786"
             ],
             [
              0.5555555555555556,
              "#d8576b"
             ],
             [
              0.6666666666666666,
              "#ed7953"
             ],
             [
              0.7777777777777778,
              "#fb9f3a"
             ],
             [
              0.8888888888888888,
              "#fdca26"
             ],
             [
              1,
              "#f0f921"
             ]
            ],
            "type": "contour"
           }
          ],
          "contourcarpet": [
           {
            "colorbar": {
             "outlinewidth": 0,
             "ticks": ""
            },
            "type": "contourcarpet"
           }
          ],
          "heatmap": [
           {
            "colorbar": {
             "outlinewidth": 0,
             "ticks": ""
            },
            "colorscale": [
             [
              0,
              "#0d0887"
             ],
             [
              0.1111111111111111,
              "#46039f"
             ],
             [
              0.2222222222222222,
              "#7201a8"
             ],
             [
              0.3333333333333333,
              "#9c179e"
             ],
             [
              0.4444444444444444,
              "#bd3786"
             ],
             [
              0.5555555555555556,
              "#d8576b"
             ],
             [
              0.6666666666666666,
              "#ed7953"
             ],
             [
              0.7777777777777778,
              "#fb9f3a"
             ],
             [
              0.8888888888888888,
              "#fdca26"
             ],
             [
              1,
              "#f0f921"
             ]
            ],
            "type": "heatmap"
           }
          ],
          "heatmapgl": [
           {
            "colorbar": {
             "outlinewidth": 0,
             "ticks": ""
            },
            "colorscale": [
             [
              0,
              "#0d0887"
             ],
             [
              0.1111111111111111,
              "#46039f"
             ],
             [
              0.2222222222222222,
              "#7201a8"
             ],
             [
              0.3333333333333333,
              "#9c179e"
             ],
             [
              0.4444444444444444,
              "#bd3786"
             ],
             [
              0.5555555555555556,
              "#d8576b"
             ],
             [
              0.6666666666666666,
              "#ed7953"
             ],
             [
              0.7777777777777778,
              "#fb9f3a"
             ],
             [
              0.8888888888888888,
              "#fdca26"
             ],
             [
              1,
              "#f0f921"
             ]
            ],
            "type": "heatmapgl"
           }
          ],
          "histogram": [
           {
            "marker": {
             "pattern": {
              "fillmode": "overlay",
              "size": 10,
              "solidity": 0.2
             }
            },
            "type": "histogram"
           }
          ],
          "histogram2d": [
           {
            "colorbar": {
             "outlinewidth": 0,
             "ticks": ""
            },
            "colorscale": [
             [
              0,
              "#0d0887"
             ],
             [
              0.1111111111111111,
              "#46039f"
             ],
             [
              0.2222222222222222,
              "#7201a8"
             ],
             [
              0.3333333333333333,
              "#9c179e"
             ],
             [
              0.4444444444444444,
              "#bd3786"
             ],
             [
              0.5555555555555556,
              "#d8576b"
             ],
             [
              0.6666666666666666,
              "#ed7953"
             ],
             [
              0.7777777777777778,
              "#fb9f3a"
             ],
             [
              0.8888888888888888,
              "#fdca26"
             ],
             [
              1,
              "#f0f921"
             ]
            ],
            "type": "histogram2d"
           }
          ],
          "histogram2dcontour": [
           {
            "colorbar": {
             "outlinewidth": 0,
             "ticks": ""
            },
            "colorscale": [
             [
              0,
              "#0d0887"
             ],
             [
              0.1111111111111111,
              "#46039f"
             ],
             [
              0.2222222222222222,
              "#7201a8"
             ],
             [
              0.3333333333333333,
              "#9c179e"
             ],
             [
              0.4444444444444444,
              "#bd3786"
             ],
             [
              0.5555555555555556,
              "#d8576b"
             ],
             [
              0.6666666666666666,
              "#ed7953"
             ],
             [
              0.7777777777777778,
              "#fb9f3a"
             ],
             [
              0.8888888888888888,
              "#fdca26"
             ],
             [
              1,
              "#f0f921"
             ]
            ],
            "type": "histogram2dcontour"
           }
          ],
          "mesh3d": [
           {
            "colorbar": {
             "outlinewidth": 0,
             "ticks": ""
            },
            "type": "mesh3d"
           }
          ],
          "parcoords": [
           {
            "line": {
             "colorbar": {
              "outlinewidth": 0,
              "ticks": ""
             }
            },
            "type": "parcoords"
           }
          ],
          "pie": [
           {
            "automargin": true,
            "type": "pie"
           }
          ],
          "scatter": [
           {
            "marker": {
             "colorbar": {
              "outlinewidth": 0,
              "ticks": ""
             }
            },
            "type": "scatter"
           }
          ],
          "scatter3d": [
           {
            "line": {
             "colorbar": {
              "outlinewidth": 0,
              "ticks": ""
             }
            },
            "marker": {
             "colorbar": {
              "outlinewidth": 0,
              "ticks": ""
             }
            },
            "type": "scatter3d"
           }
          ],
          "scattercarpet": [
           {
            "marker": {
             "colorbar": {
              "outlinewidth": 0,
              "ticks": ""
             }
            },
            "type": "scattercarpet"
           }
          ],
          "scattergeo": [
           {
            "marker": {
             "colorbar": {
              "outlinewidth": 0,
              "ticks": ""
             }
            },
            "type": "scattergeo"
           }
          ],
          "scattergl": [
           {
            "marker": {
             "colorbar": {
              "outlinewidth": 0,
              "ticks": ""
             }
            },
            "type": "scattergl"
           }
          ],
          "scattermapbox": [
           {
            "marker": {
             "colorbar": {
              "outlinewidth": 0,
              "ticks": ""
             }
            },
            "type": "scattermapbox"
           }
          ],
          "scatterpolar": [
           {
            "marker": {
             "colorbar": {
              "outlinewidth": 0,
              "ticks": ""
             }
            },
            "type": "scatterpolar"
           }
          ],
          "scatterpolargl": [
           {
            "marker": {
             "colorbar": {
              "outlinewidth": 0,
              "ticks": ""
             }
            },
            "type": "scatterpolargl"
           }
          ],
          "scatterternary": [
           {
            "marker": {
             "colorbar": {
              "outlinewidth": 0,
              "ticks": ""
             }
            },
            "type": "scatterternary"
           }
          ],
          "surface": [
           {
            "colorbar": {
             "outlinewidth": 0,
             "ticks": ""
            },
            "colorscale": [
             [
              0,
              "#0d0887"
             ],
             [
              0.1111111111111111,
              "#46039f"
             ],
             [
              0.2222222222222222,
              "#7201a8"
             ],
             [
              0.3333333333333333,
              "#9c179e"
             ],
             [
              0.4444444444444444,
              "#bd3786"
             ],
             [
              0.5555555555555556,
              "#d8576b"
             ],
             [
              0.6666666666666666,
              "#ed7953"
             ],
             [
              0.7777777777777778,
              "#fb9f3a"
             ],
             [
              0.8888888888888888,
              "#fdca26"
             ],
             [
              1,
              "#f0f921"
             ]
            ],
            "type": "surface"
           }
          ],
          "table": [
           {
            "cells": {
             "fill": {
              "color": "#EBF0F8"
             },
             "line": {
              "color": "white"
             }
            },
            "header": {
             "fill": {
              "color": "#C8D4E3"
             },
             "line": {
              "color": "white"
             }
            },
            "type": "table"
           }
          ]
         },
         "layout": {
          "annotationdefaults": {
           "arrowcolor": "#2a3f5f",
           "arrowhead": 0,
           "arrowwidth": 1
          },
          "autotypenumbers": "strict",
          "coloraxis": {
           "colorbar": {
            "outlinewidth": 0,
            "ticks": ""
           }
          },
          "colorscale": {
           "diverging": [
            [
             0,
             "#8e0152"
            ],
            [
             0.1,
             "#c51b7d"
            ],
            [
             0.2,
             "#de77ae"
            ],
            [
             0.3,
             "#f1b6da"
            ],
            [
             0.4,
             "#fde0ef"
            ],
            [
             0.5,
             "#f7f7f7"
            ],
            [
             0.6,
             "#e6f5d0"
            ],
            [
             0.7,
             "#b8e186"
            ],
            [
             0.8,
             "#7fbc41"
            ],
            [
             0.9,
             "#4d9221"
            ],
            [
             1,
             "#276419"
            ]
           ],
           "sequential": [
            [
             0,
             "#0d0887"
            ],
            [
             0.1111111111111111,
             "#46039f"
            ],
            [
             0.2222222222222222,
             "#7201a8"
            ],
            [
             0.3333333333333333,
             "#9c179e"
            ],
            [
             0.4444444444444444,
             "#bd3786"
            ],
            [
             0.5555555555555556,
             "#d8576b"
            ],
            [
             0.6666666666666666,
             "#ed7953"
            ],
            [
             0.7777777777777778,
             "#fb9f3a"
            ],
            [
             0.8888888888888888,
             "#fdca26"
            ],
            [
             1,
             "#f0f921"
            ]
           ],
           "sequentialminus": [
            [
             0,
             "#0d0887"
            ],
            [
             0.1111111111111111,
             "#46039f"
            ],
            [
             0.2222222222222222,
             "#7201a8"
            ],
            [
             0.3333333333333333,
             "#9c179e"
            ],
            [
             0.4444444444444444,
             "#bd3786"
            ],
            [
             0.5555555555555556,
             "#d8576b"
            ],
            [
             0.6666666666666666,
             "#ed7953"
            ],
            [
             0.7777777777777778,
             "#fb9f3a"
            ],
            [
             0.8888888888888888,
             "#fdca26"
            ],
            [
             1,
             "#f0f921"
            ]
           ]
          },
          "colorway": [
           "#636efa",
           "#EF553B",
           "#00cc96",
           "#ab63fa",
           "#FFA15A",
           "#19d3f3",
           "#FF6692",
           "#B6E880",
           "#FF97FF",
           "#FECB52"
          ],
          "font": {
           "color": "#2a3f5f"
          },
          "geo": {
           "bgcolor": "white",
           "lakecolor": "white",
           "landcolor": "#E5ECF6",
           "showlakes": true,
           "showland": true,
           "subunitcolor": "white"
          },
          "hoverlabel": {
           "align": "left"
          },
          "hovermode": "closest",
          "mapbox": {
           "style": "light"
          },
          "paper_bgcolor": "white",
          "plot_bgcolor": "#E5ECF6",
          "polar": {
           "angularaxis": {
            "gridcolor": "white",
            "linecolor": "white",
            "ticks": ""
           },
           "bgcolor": "#E5ECF6",
           "radialaxis": {
            "gridcolor": "white",
            "linecolor": "white",
            "ticks": ""
           }
          },
          "scene": {
           "xaxis": {
            "backgroundcolor": "#E5ECF6",
            "gridcolor": "white",
            "gridwidth": 2,
            "linecolor": "white",
            "showbackground": true,
            "ticks": "",
            "zerolinecolor": "white"
           },
           "yaxis": {
            "backgroundcolor": "#E5ECF6",
            "gridcolor": "white",
            "gridwidth": 2,
            "linecolor": "white",
            "showbackground": true,
            "ticks": "",
            "zerolinecolor": "white"
           },
           "zaxis": {
            "backgroundcolor": "#E5ECF6",
            "gridcolor": "white",
            "gridwidth": 2,
            "linecolor": "white",
            "showbackground": true,
            "ticks": "",
            "zerolinecolor": "white"
           }
          },
          "shapedefaults": {
           "line": {
            "color": "#2a3f5f"
           }
          },
          "ternary": {
           "aaxis": {
            "gridcolor": "white",
            "linecolor": "white",
            "ticks": ""
           },
           "baxis": {
            "gridcolor": "white",
            "linecolor": "white",
            "ticks": ""
           },
           "bgcolor": "#E5ECF6",
           "caxis": {
            "gridcolor": "white",
            "linecolor": "white",
            "ticks": ""
           }
          },
          "title": {
           "x": 0.05
          },
          "xaxis": {
           "automargin": true,
           "gridcolor": "white",
           "linecolor": "white",
           "ticks": "",
           "title": {
            "standoff": 15
           },
           "zerolinecolor": "white",
           "zerolinewidth": 2
          },
          "yaxis": {
           "automargin": true,
           "gridcolor": "white",
           "linecolor": "white",
           "ticks": "",
           "title": {
            "standoff": 15
           },
           "zerolinecolor": "white",
           "zerolinewidth": 2
          }
         }
        },
        "xaxis": {
         "anchor": "y",
         "domain": [
          0,
          1
         ],
         "title": {
          "text": "Year"
         }
        },
        "yaxis": {
         "anchor": "x",
         "domain": [
          0,
          1
         ],
         "title": {
          "text": "Surplus_Deficit_Per_Capita"
         }
        }
       }
      }
     },
     "metadata": {},
     "output_type": "display_data"
    }
   ],
   "source": [
    "fig3 = px.line(filtered_gdp_cont_pop_trade.loc[filtered_gdp_cont_pop_trade['Country'].isin(max_gdp2019_countries['Country'])], x='Year', y='Surplus_Deficit_Per_Capita', color='Country', symbol=\"Country\")\n",
    "fig3.show()"
   ]
  },
  {
   "cell_type": "code",
   "execution_count": 72,
   "metadata": {},
   "outputs": [
    {
     "data": {
      "application/vnd.plotly.v1+json": {
       "config": {
        "plotlyServerURL": "https://plot.ly"
       },
       "data": [
        {
         "hovertemplate": "Country=Afghanistan<br>Year=%{x}<br>Surplus_Deficit_Per_Capita=%{y}<extra></extra>",
         "legendgroup": "Afghanistan",
         "line": {
          "color": "#636efa",
          "dash": "solid"
         },
         "marker": {
          "symbol": "circle"
         },
         "mode": "lines+markers",
         "name": "Afghanistan",
         "orientation": "v",
         "showlegend": true,
         "type": "scatter",
         "x": [
          2002,
          2003,
          2004,
          2005,
          2006,
          2007,
          2008,
          2009,
          2010,
          2011,
          2012,
          2013,
          2014,
          2015,
          2016,
          2017,
          2018,
          2019
         ],
         "xaxis": "x",
         "y": [
          0,
          0,
          0,
          0,
          0,
          0,
          -89451.33274771522,
          -103293.294271739,
          -163292.22007347687,
          -199700.41955462773,
          -185360.28033550252,
          -249133.6585042964,
          -213559.3226520172,
          -207809.10624208688,
          -167811.65265882245,
          0,
          -175208.12903750656,
          0
         ],
         "yaxis": "y"
        },
        {
         "hovertemplate": "Country=Bolivia<br>Year=%{x}<br>Surplus_Deficit_Per_Capita=%{y}<extra></extra>",
         "legendgroup": "Bolivia",
         "line": {
          "color": "#EF553B",
          "dash": "solid"
         },
         "marker": {
          "symbol": "diamond"
         },
         "mode": "lines+markers",
         "name": "Bolivia",
         "orientation": "v",
         "showlegend": true,
         "type": "scatter",
         "x": [
          1990,
          1991,
          1992,
          1993,
          1994,
          1995,
          1996,
          1997,
          1998,
          1999,
          2000,
          2001,
          2002,
          2003,
          2004,
          2005,
          2006,
          2007,
          2008,
          2009,
          2010,
          2011,
          2012,
          2013,
          2014,
          2015,
          2016,
          2017,
          2018,
          2019
         ],
         "xaxis": "x",
         "y": [
          0,
          0,
          -50731.39429011915,
          -50321.32752620387,
          -9656.476615864402,
          -28211.36297025926,
          -71484.45219838836,
          -80262.54450732212,
          -126826.14986412467,
          -52503.430153034984,
          -46572.243873558735,
          -41334.36566714082,
          -45489.46060158663,
          -3798.0607743944606,
          40495.658801334954,
          49188.602067565786,
          148844.29445925186,
          135037.0773930764,
          194720.94699002846,
          89811.22697609587,
          152385.68496376116,
          131760.02591121034,
          344507.0737976403,
          264753.1979913069,
          232947.6998215201,
          -67657.66441208735,
          -104761.7161692537,
          -73442.88469385156,
          -78025.7646667328,
          0
         ],
         "yaxis": "y"
        },
        {
         "hovertemplate": "Country=Burundi<br>Year=%{x}<br>Surplus_Deficit_Per_Capita=%{y}<extra></extra>",
         "legendgroup": "Burundi",
         "line": {
          "color": "#00cc96",
          "dash": "solid"
         },
         "marker": {
          "symbol": "square"
         },
         "mode": "lines+markers",
         "name": "Burundi",
         "orientation": "v",
         "showlegend": true,
         "type": "scatter",
         "x": [
          1990,
          1991,
          1992,
          1993,
          1994,
          1995,
          1996,
          1997,
          1998,
          1999,
          2000,
          2001,
          2002,
          2003,
          2004,
          2005,
          2006,
          2007,
          2008,
          2009,
          2010,
          2011,
          2012,
          2013,
          2014,
          2015,
          2016,
          2017,
          2018,
          2019
         ],
         "xaxis": "x",
         "y": [
          0,
          0,
          0,
          -10856.524422939909,
          -5381.980946833573,
          -15291.403118367449,
          -9575.146065806386,
          -8464.783335211765,
          -12244.50874471875,
          -11099.067451034956,
          -16831.286131981662,
          -14825.16479466466,
          -15256.10874995693,
          -11397.566040646943,
          -12620.320168016206,
          -19606.20456975297,
          -14531.754770632277,
          -33934.523278048655,
          -21335.15466579179,
          -27610.518062871743,
          -32953.39868734584,
          -102434.87379339582,
          -80996.9068746358,
          -54097.681716417246,
          -53366.83627752468,
          -43791.28998634846,
          -47318.99195222728,
          -58379.165188574974,
          -55096.77456159689,
          0
         ],
         "yaxis": "y"
        },
        {
         "hovertemplate": "Country=Kiribati<br>Year=%{x}<br>Surplus_Deficit_Per_Capita=%{y}<extra></extra>",
         "legendgroup": "Kiribati",
         "line": {
          "color": "#ab63fa",
          "dash": "solid"
         },
         "marker": {
          "symbol": "x"
         },
         "mode": "lines+markers",
         "name": "Kiribati",
         "orientation": "v",
         "showlegend": true,
         "type": "scatter",
         "x": [
          1990,
          1991,
          1992,
          1993,
          1994,
          1995,
          1996,
          1997,
          1998,
          1999,
          2000,
          2001,
          2002,
          2003,
          2004,
          2005,
          2006,
          2007,
          2008,
          2009,
          2010,
          2011,
          2012,
          2013,
          2014,
          2015,
          2016,
          2017,
          2018,
          2019
         ],
         "xaxis": "x",
         "y": [
          0,
          0,
          0,
          0,
          0,
          -333501.7047720752,
          -418259.44514150283,
          -410763.50281217654,
          -331473.6867918976,
          -376271.3324977101,
          0,
          0,
          0,
          0,
          -633242.8093128101,
          -763342.8215542919,
          -657934.8653318211,
          -621452.5262361827,
          -684914.5917923067,
          -601692.8861587238,
          -672316.0492387809,
          -793955.3510045069,
          -965901.6357995674,
          -838178.3112429326,
          -971895.626005855,
          -907962.9172583024,
          -957454.785645729,
          0,
          0,
          0
         ],
         "yaxis": "y"
        },
        {
         "hovertemplate": "Country=Nicaragua<br>Year=%{x}<br>Surplus_Deficit_Per_Capita=%{y}<extra></extra>",
         "legendgroup": "Nicaragua",
         "line": {
          "color": "#FFA15A",
          "dash": "solid"
         },
         "marker": {
          "symbol": "cross"
         },
         "mode": "lines+markers",
         "name": "Nicaragua",
         "orientation": "v",
         "showlegend": true,
         "type": "scatter",
         "x": [
          1990,
          1991,
          1992,
          1993,
          1994,
          1995,
          1996,
          1997,
          1998,
          1999,
          2000,
          2001,
          2002,
          2003,
          2004,
          2005,
          2006,
          2007,
          2008,
          2009,
          2010,
          2011,
          2012,
          2013,
          2014,
          2015,
          2016,
          2017,
          2018,
          2019
         ],
         "xaxis": "x",
         "y": [
          0,
          0,
          0,
          -109270.44298293085,
          -109969.27663617901,
          -107474.64599967541,
          -87726.64965123424,
          -166359.06787986978,
          -199420.7671616388,
          -243348.13405622877,
          -215265.29924632623,
          -241214.99150886448,
          -235545.54149499704,
          -245532.05994272992,
          -277699.47632170754,
          -306972.36283001973,
          -359467.57305310364,
          -419217.6429391124,
          -389387.99971486203,
          -362987.9878709103,
          -402318.16059745214,
          -468637.8934647052,
          -247222.12974920627,
          -149229.16286251598,
          -125826.17552355785,
          -192654.02844820384,
          -457464.45599712175,
          -435132.7158243128,
          -361471.23185813444,
          0
         ],
         "yaxis": "y"
        },
        {
         "hovertemplate": "Country=Ukraine<br>Year=%{x}<br>Surplus_Deficit_Per_Capita=%{y}<extra></extra>",
         "legendgroup": "Ukraine",
         "line": {
          "color": "#19d3f3",
          "dash": "solid"
         },
         "marker": {
          "symbol": "circle"
         },
         "mode": "lines+markers",
         "name": "Ukraine",
         "orientation": "v",
         "showlegend": true,
         "type": "scatter",
         "x": [
          1990,
          1991,
          1992,
          1993,
          1994,
          1995,
          1996,
          1997,
          1998,
          1999,
          2000,
          2001,
          2002,
          2003,
          2004,
          2005,
          2006,
          2007,
          2008,
          2009,
          2010,
          2011,
          2012,
          2013,
          2014,
          2015,
          2016,
          2017,
          2018,
          2019
         ],
         "xaxis": "x",
         "y": [
          0,
          0,
          0,
          0,
          0,
          0,
          -63317.64974528215,
          -57930.71598466512,
          -40979.02158910684,
          -5367.1942152135625,
          12623.820169779454,
          10116.217511235565,
          19832.166038881296,
          975.3152532400541,
          77711.61442222272,
          -40392.24361671845,
          -142767.28628579222,
          -243844.7388346459,
          -400706.0419213179,
          -124367.61520718056,
          -203241.41156256464,
          -311585.9636214451,
          -351173.48655027925,
          -301754.3409769646,
          -10376.651894686263,
          13598.932532270248,
          -64601.984433988415,
          -135110.6821430162,
          -222672.75773741797,
          0
         ],
         "yaxis": "y"
        }
       ],
       "layout": {
        "legend": {
         "title": {
          "text": "Country"
         },
         "tracegroupgap": 0
        },
        "margin": {
         "t": 60
        },
        "template": {
         "data": {
          "bar": [
           {
            "error_x": {
             "color": "#2a3f5f"
            },
            "error_y": {
             "color": "#2a3f5f"
            },
            "marker": {
             "line": {
              "color": "#E5ECF6",
              "width": 0.5
             },
             "pattern": {
              "fillmode": "overlay",
              "size": 10,
              "solidity": 0.2
             }
            },
            "type": "bar"
           }
          ],
          "barpolar": [
           {
            "marker": {
             "line": {
              "color": "#E5ECF6",
              "width": 0.5
             },
             "pattern": {
              "fillmode": "overlay",
              "size": 10,
              "solidity": 0.2
             }
            },
            "type": "barpolar"
           }
          ],
          "carpet": [
           {
            "aaxis": {
             "endlinecolor": "#2a3f5f",
             "gridcolor": "white",
             "linecolor": "white",
             "minorgridcolor": "white",
             "startlinecolor": "#2a3f5f"
            },
            "baxis": {
             "endlinecolor": "#2a3f5f",
             "gridcolor": "white",
             "linecolor": "white",
             "minorgridcolor": "white",
             "startlinecolor": "#2a3f5f"
            },
            "type": "carpet"
           }
          ],
          "choropleth": [
           {
            "colorbar": {
             "outlinewidth": 0,
             "ticks": ""
            },
            "type": "choropleth"
           }
          ],
          "contour": [
           {
            "colorbar": {
             "outlinewidth": 0,
             "ticks": ""
            },
            "colorscale": [
             [
              0,
              "#0d0887"
             ],
             [
              0.1111111111111111,
              "#46039f"
             ],
             [
              0.2222222222222222,
              "#7201a8"
             ],
             [
              0.3333333333333333,
              "#9c179e"
             ],
             [
              0.4444444444444444,
              "#bd3786"
             ],
             [
              0.5555555555555556,
              "#d8576b"
             ],
             [
              0.6666666666666666,
              "#ed7953"
             ],
             [
              0.7777777777777778,
              "#fb9f3a"
             ],
             [
              0.8888888888888888,
              "#fdca26"
             ],
             [
              1,
              "#f0f921"
             ]
            ],
            "type": "contour"
           }
          ],
          "contourcarpet": [
           {
            "colorbar": {
             "outlinewidth": 0,
             "ticks": ""
            },
            "type": "contourcarpet"
           }
          ],
          "heatmap": [
           {
            "colorbar": {
             "outlinewidth": 0,
             "ticks": ""
            },
            "colorscale": [
             [
              0,
              "#0d0887"
             ],
             [
              0.1111111111111111,
              "#46039f"
             ],
             [
              0.2222222222222222,
              "#7201a8"
             ],
             [
              0.3333333333333333,
              "#9c179e"
             ],
             [
              0.4444444444444444,
              "#bd3786"
             ],
             [
              0.5555555555555556,
              "#d8576b"
             ],
             [
              0.6666666666666666,
              "#ed7953"
             ],
             [
              0.7777777777777778,
              "#fb9f3a"
             ],
             [
              0.8888888888888888,
              "#fdca26"
             ],
             [
              1,
              "#f0f921"
             ]
            ],
            "type": "heatmap"
           }
          ],
          "heatmapgl": [
           {
            "colorbar": {
             "outlinewidth": 0,
             "ticks": ""
            },
            "colorscale": [
             [
              0,
              "#0d0887"
             ],
             [
              0.1111111111111111,
              "#46039f"
             ],
             [
              0.2222222222222222,
              "#7201a8"
             ],
             [
              0.3333333333333333,
              "#9c179e"
             ],
             [
              0.4444444444444444,
              "#bd3786"
             ],
             [
              0.5555555555555556,
              "#d8576b"
             ],
             [
              0.6666666666666666,
              "#ed7953"
             ],
             [
              0.7777777777777778,
              "#fb9f3a"
             ],
             [
              0.8888888888888888,
              "#fdca26"
             ],
             [
              1,
              "#f0f921"
             ]
            ],
            "type": "heatmapgl"
           }
          ],
          "histogram": [
           {
            "marker": {
             "pattern": {
              "fillmode": "overlay",
              "size": 10,
              "solidity": 0.2
             }
            },
            "type": "histogram"
           }
          ],
          "histogram2d": [
           {
            "colorbar": {
             "outlinewidth": 0,
             "ticks": ""
            },
            "colorscale": [
             [
              0,
              "#0d0887"
             ],
             [
              0.1111111111111111,
              "#46039f"
             ],
             [
              0.2222222222222222,
              "#7201a8"
             ],
             [
              0.3333333333333333,
              "#9c179e"
             ],
             [
              0.4444444444444444,
              "#bd3786"
             ],
             [
              0.5555555555555556,
              "#d8576b"
             ],
             [
              0.6666666666666666,
              "#ed7953"
             ],
             [
              0.7777777777777778,
              "#fb9f3a"
             ],
             [
              0.8888888888888888,
              "#fdca26"
             ],
             [
              1,
              "#f0f921"
             ]
            ],
            "type": "histogram2d"
           }
          ],
          "histogram2dcontour": [
           {
            "colorbar": {
             "outlinewidth": 0,
             "ticks": ""
            },
            "colorscale": [
             [
              0,
              "#0d0887"
             ],
             [
              0.1111111111111111,
              "#46039f"
             ],
             [
              0.2222222222222222,
              "#7201a8"
             ],
             [
              0.3333333333333333,
              "#9c179e"
             ],
             [
              0.4444444444444444,
              "#bd3786"
             ],
             [
              0.5555555555555556,
              "#d8576b"
             ],
             [
              0.6666666666666666,
              "#ed7953"
             ],
             [
              0.7777777777777778,
              "#fb9f3a"
             ],
             [
              0.8888888888888888,
              "#fdca26"
             ],
             [
              1,
              "#f0f921"
             ]
            ],
            "type": "histogram2dcontour"
           }
          ],
          "mesh3d": [
           {
            "colorbar": {
             "outlinewidth": 0,
             "ticks": ""
            },
            "type": "mesh3d"
           }
          ],
          "parcoords": [
           {
            "line": {
             "colorbar": {
              "outlinewidth": 0,
              "ticks": ""
             }
            },
            "type": "parcoords"
           }
          ],
          "pie": [
           {
            "automargin": true,
            "type": "pie"
           }
          ],
          "scatter": [
           {
            "marker": {
             "colorbar": {
              "outlinewidth": 0,
              "ticks": ""
             }
            },
            "type": "scatter"
           }
          ],
          "scatter3d": [
           {
            "line": {
             "colorbar": {
              "outlinewidth": 0,
              "ticks": ""
             }
            },
            "marker": {
             "colorbar": {
              "outlinewidth": 0,
              "ticks": ""
             }
            },
            "type": "scatter3d"
           }
          ],
          "scattercarpet": [
           {
            "marker": {
             "colorbar": {
              "outlinewidth": 0,
              "ticks": ""
             }
            },
            "type": "scattercarpet"
           }
          ],
          "scattergeo": [
           {
            "marker": {
             "colorbar": {
              "outlinewidth": 0,
              "ticks": ""
             }
            },
            "type": "scattergeo"
           }
          ],
          "scattergl": [
           {
            "marker": {
             "colorbar": {
              "outlinewidth": 0,
              "ticks": ""
             }
            },
            "type": "scattergl"
           }
          ],
          "scattermapbox": [
           {
            "marker": {
             "colorbar": {
              "outlinewidth": 0,
              "ticks": ""
             }
            },
            "type": "scattermapbox"
           }
          ],
          "scatterpolar": [
           {
            "marker": {
             "colorbar": {
              "outlinewidth": 0,
              "ticks": ""
             }
            },
            "type": "scatterpolar"
           }
          ],
          "scatterpolargl": [
           {
            "marker": {
             "colorbar": {
              "outlinewidth": 0,
              "ticks": ""
             }
            },
            "type": "scatterpolargl"
           }
          ],
          "scatterternary": [
           {
            "marker": {
             "colorbar": {
              "outlinewidth": 0,
              "ticks": ""
             }
            },
            "type": "scatterternary"
           }
          ],
          "surface": [
           {
            "colorbar": {
             "outlinewidth": 0,
             "ticks": ""
            },
            "colorscale": [
             [
              0,
              "#0d0887"
             ],
             [
              0.1111111111111111,
              "#46039f"
             ],
             [
              0.2222222222222222,
              "#7201a8"
             ],
             [
              0.3333333333333333,
              "#9c179e"
             ],
             [
              0.4444444444444444,
              "#bd3786"
             ],
             [
              0.5555555555555556,
              "#d8576b"
             ],
             [
              0.6666666666666666,
              "#ed7953"
             ],
             [
              0.7777777777777778,
              "#fb9f3a"
             ],
             [
              0.8888888888888888,
              "#fdca26"
             ],
             [
              1,
              "#f0f921"
             ]
            ],
            "type": "surface"
           }
          ],
          "table": [
           {
            "cells": {
             "fill": {
              "color": "#EBF0F8"
             },
             "line": {
              "color": "white"
             }
            },
            "header": {
             "fill": {
              "color": "#C8D4E3"
             },
             "line": {
              "color": "white"
             }
            },
            "type": "table"
           }
          ]
         },
         "layout": {
          "annotationdefaults": {
           "arrowcolor": "#2a3f5f",
           "arrowhead": 0,
           "arrowwidth": 1
          },
          "autotypenumbers": "strict",
          "coloraxis": {
           "colorbar": {
            "outlinewidth": 0,
            "ticks": ""
           }
          },
          "colorscale": {
           "diverging": [
            [
             0,
             "#8e0152"
            ],
            [
             0.1,
             "#c51b7d"
            ],
            [
             0.2,
             "#de77ae"
            ],
            [
             0.3,
             "#f1b6da"
            ],
            [
             0.4,
             "#fde0ef"
            ],
            [
             0.5,
             "#f7f7f7"
            ],
            [
             0.6,
             "#e6f5d0"
            ],
            [
             0.7,
             "#b8e186"
            ],
            [
             0.8,
             "#7fbc41"
            ],
            [
             0.9,
             "#4d9221"
            ],
            [
             1,
             "#276419"
            ]
           ],
           "sequential": [
            [
             0,
             "#0d0887"
            ],
            [
             0.1111111111111111,
             "#46039f"
            ],
            [
             0.2222222222222222,
             "#7201a8"
            ],
            [
             0.3333333333333333,
             "#9c179e"
            ],
            [
             0.4444444444444444,
             "#bd3786"
            ],
            [
             0.5555555555555556,
             "#d8576b"
            ],
            [
             0.6666666666666666,
             "#ed7953"
            ],
            [
             0.7777777777777778,
             "#fb9f3a"
            ],
            [
             0.8888888888888888,
             "#fdca26"
            ],
            [
             1,
             "#f0f921"
            ]
           ],
           "sequentialminus": [
            [
             0,
             "#0d0887"
            ],
            [
             0.1111111111111111,
             "#46039f"
            ],
            [
             0.2222222222222222,
             "#7201a8"
            ],
            [
             0.3333333333333333,
             "#9c179e"
            ],
            [
             0.4444444444444444,
             "#bd3786"
            ],
            [
             0.5555555555555556,
             "#d8576b"
            ],
            [
             0.6666666666666666,
             "#ed7953"
            ],
            [
             0.7777777777777778,
             "#fb9f3a"
            ],
            [
             0.8888888888888888,
             "#fdca26"
            ],
            [
             1,
             "#f0f921"
            ]
           ]
          },
          "colorway": [
           "#636efa",
           "#EF553B",
           "#00cc96",
           "#ab63fa",
           "#FFA15A",
           "#19d3f3",
           "#FF6692",
           "#B6E880",
           "#FF97FF",
           "#FECB52"
          ],
          "font": {
           "color": "#2a3f5f"
          },
          "geo": {
           "bgcolor": "white",
           "lakecolor": "white",
           "landcolor": "#E5ECF6",
           "showlakes": true,
           "showland": true,
           "subunitcolor": "white"
          },
          "hoverlabel": {
           "align": "left"
          },
          "hovermode": "closest",
          "mapbox": {
           "style": "light"
          },
          "paper_bgcolor": "white",
          "plot_bgcolor": "#E5ECF6",
          "polar": {
           "angularaxis": {
            "gridcolor": "white",
            "linecolor": "white",
            "ticks": ""
           },
           "bgcolor": "#E5ECF6",
           "radialaxis": {
            "gridcolor": "white",
            "linecolor": "white",
            "ticks": ""
           }
          },
          "scene": {
           "xaxis": {
            "backgroundcolor": "#E5ECF6",
            "gridcolor": "white",
            "gridwidth": 2,
            "linecolor": "white",
            "showbackground": true,
            "ticks": "",
            "zerolinecolor": "white"
           },
           "yaxis": {
            "backgroundcolor": "#E5ECF6",
            "gridcolor": "white",
            "gridwidth": 2,
            "linecolor": "white",
            "showbackground": true,
            "ticks": "",
            "zerolinecolor": "white"
           },
           "zaxis": {
            "backgroundcolor": "#E5ECF6",
            "gridcolor": "white",
            "gridwidth": 2,
            "linecolor": "white",
            "showbackground": true,
            "ticks": "",
            "zerolinecolor": "white"
           }
          },
          "shapedefaults": {
           "line": {
            "color": "#2a3f5f"
           }
          },
          "ternary": {
           "aaxis": {
            "gridcolor": "white",
            "linecolor": "white",
            "ticks": ""
           },
           "baxis": {
            "gridcolor": "white",
            "linecolor": "white",
            "ticks": ""
           },
           "bgcolor": "#E5ECF6",
           "caxis": {
            "gridcolor": "white",
            "linecolor": "white",
            "ticks": ""
           }
          },
          "title": {
           "x": 0.05
          },
          "xaxis": {
           "automargin": true,
           "gridcolor": "white",
           "linecolor": "white",
           "ticks": "",
           "title": {
            "standoff": 15
           },
           "zerolinecolor": "white",
           "zerolinewidth": 2
          },
          "yaxis": {
           "automargin": true,
           "gridcolor": "white",
           "linecolor": "white",
           "ticks": "",
           "title": {
            "standoff": 15
           },
           "zerolinecolor": "white",
           "zerolinewidth": 2
          }
         }
        },
        "xaxis": {
         "anchor": "y",
         "domain": [
          0,
          1
         ],
         "title": {
          "text": "Year"
         }
        },
        "yaxis": {
         "anchor": "x",
         "domain": [
          0,
          1
         ],
         "title": {
          "text": "Surplus_Deficit_Per_Capita"
         }
        }
       }
      }
     },
     "metadata": {},
     "output_type": "display_data"
    }
   ],
   "source": [
    "fig4 = px.line(filtered_gdp_cont_pop_trade.loc[filtered_gdp_cont_pop_trade['Country'].isin(min_gdp2019_countries['Country'])], x='Year', y='Surplus_Deficit_Per_Capita', color='Country', symbol=\"Country\")\n",
    "fig4.show()"
   ]
  },
  {
   "cell_type": "markdown",
   "metadata": {},
   "source": [
    "Looking at the two graphs above: it is interesting how for the top GDP countries, the surplus (or lack thereoff) oscilates in larger values - up to 20 Million in USD. For poorest GDP countries it is contained within a Million"
   ]
  },
  {
   "cell_type": "code",
   "execution_count": 81,
   "metadata": {},
   "outputs": [
    {
     "data": {
      "application/vnd.plotly.v1+json": {
       "config": {
        "plotlyServerURL": "https://plot.ly"
       },
       "data": [
        {
         "hovertemplate": "Surplus_Deficit_Per_Capita=%{x}<br>GDP_Per_Capita=%{y}<br>Year=%{marker.color}<extra></extra>",
         "legendgroup": "",
         "marker": {
          "color": [
           1990,
           1991,
           1992,
           1993,
           1994,
           1995,
           1996,
           1997,
           1998,
           1999,
           2000,
           2001,
           2002,
           2003,
           2004,
           2005,
           2006,
           2007,
           2008,
           2009,
           2010,
           2011,
           2012,
           2013,
           2014,
           2015,
           2016,
           2017,
           2018,
           2019
          ],
          "coloraxis": "coloraxis",
          "symbol": "circle"
         },
         "mode": "markers",
         "name": "",
         "orientation": "v",
         "showlegend": false,
         "type": "scatter",
         "x": [
          0,
          0,
          0,
          0,
          0,
          0,
          0,
          0,
          0,
          -6197197.290742055,
          -6228365.124752639,
          -6650830.010586145,
          -6616443.861752523,
          -8180507.012845333,
          -10189653.876884326,
          -10638125.143608494,
          -11720881.370675027,
          -12826324.525441395,
          -16710957.17184619,
          -12505047.94905413,
          -12743451.368310792,
          -18565168.19723208,
          -19887070.717726246,
          -18626344.172073137,
          -16348496.692611216,
          -11892876.730287733,
          -11062123.655190034,
          -12269657.566138787,
          -13523719.96740728,
          0
         ],
         "xaxis": "x",
         "y": [
          67857.5404954768,
          72742.2020090841,
          73088.5136628003,
          75143.1912547892,
          76959.1222967327,
          76972.4366192327,
          76986.0903099016,
          80368.021374555,
          84172.4537787859,
          90086.1430493081,
          96207.2286509716,
          97475.8296869607,
          100144.202417864,
          100546.540938853,
          102708.212547114,
          104357.564987409,
          108024.838026429,
          115256.016699066,
          111765.450698127,
          104932.811953115,
          108047.346867064,
          108355.582583156,
          105411.464570926,
          106767.27500452,
          108760.916030081,
          110798.736179667,
          113396.753759561,
          112666.769445095,
          113952.357894692,
          114304.044209514
         ],
         "yaxis": "y"
        }
       ],
       "layout": {
        "coloraxis": {
         "colorbar": {
          "title": {
           "text": "Year"
          }
         },
         "colorscale": [
          [
           0,
           "#0d0887"
          ],
          [
           0.1111111111111111,
           "#46039f"
          ],
          [
           0.2222222222222222,
           "#7201a8"
          ],
          [
           0.3333333333333333,
           "#9c179e"
          ],
          [
           0.4444444444444444,
           "#bd3786"
          ],
          [
           0.5555555555555556,
           "#d8576b"
          ],
          [
           0.6666666666666666,
           "#ed7953"
          ],
          [
           0.7777777777777778,
           "#fb9f3a"
          ],
          [
           0.8888888888888888,
           "#fdca26"
          ],
          [
           1,
           "#f0f921"
          ]
         ]
        },
        "legend": {
         "tracegroupgap": 0
        },
        "margin": {
         "t": 60
        },
        "template": {
         "data": {
          "bar": [
           {
            "error_x": {
             "color": "#2a3f5f"
            },
            "error_y": {
             "color": "#2a3f5f"
            },
            "marker": {
             "line": {
              "color": "#E5ECF6",
              "width": 0.5
             },
             "pattern": {
              "fillmode": "overlay",
              "size": 10,
              "solidity": 0.2
             }
            },
            "type": "bar"
           }
          ],
          "barpolar": [
           {
            "marker": {
             "line": {
              "color": "#E5ECF6",
              "width": 0.5
             },
             "pattern": {
              "fillmode": "overlay",
              "size": 10,
              "solidity": 0.2
             }
            },
            "type": "barpolar"
           }
          ],
          "carpet": [
           {
            "aaxis": {
             "endlinecolor": "#2a3f5f",
             "gridcolor": "white",
             "linecolor": "white",
             "minorgridcolor": "white",
             "startlinecolor": "#2a3f5f"
            },
            "baxis": {
             "endlinecolor": "#2a3f5f",
             "gridcolor": "white",
             "linecolor": "white",
             "minorgridcolor": "white",
             "startlinecolor": "#2a3f5f"
            },
            "type": "carpet"
           }
          ],
          "choropleth": [
           {
            "colorbar": {
             "outlinewidth": 0,
             "ticks": ""
            },
            "type": "choropleth"
           }
          ],
          "contour": [
           {
            "colorbar": {
             "outlinewidth": 0,
             "ticks": ""
            },
            "colorscale": [
             [
              0,
              "#0d0887"
             ],
             [
              0.1111111111111111,
              "#46039f"
             ],
             [
              0.2222222222222222,
              "#7201a8"
             ],
             [
              0.3333333333333333,
              "#9c179e"
             ],
             [
              0.4444444444444444,
              "#bd3786"
             ],
             [
              0.5555555555555556,
              "#d8576b"
             ],
             [
              0.6666666666666666,
              "#ed7953"
             ],
             [
              0.7777777777777778,
              "#fb9f3a"
             ],
             [
              0.8888888888888888,
              "#fdca26"
             ],
             [
              1,
              "#f0f921"
             ]
            ],
            "type": "contour"
           }
          ],
          "contourcarpet": [
           {
            "colorbar": {
             "outlinewidth": 0,
             "ticks": ""
            },
            "type": "contourcarpet"
           }
          ],
          "heatmap": [
           {
            "colorbar": {
             "outlinewidth": 0,
             "ticks": ""
            },
            "colorscale": [
             [
              0,
              "#0d0887"
             ],
             [
              0.1111111111111111,
              "#46039f"
             ],
             [
              0.2222222222222222,
              "#7201a8"
             ],
             [
              0.3333333333333333,
              "#9c179e"
             ],
             [
              0.4444444444444444,
              "#bd3786"
             ],
             [
              0.5555555555555556,
              "#d8576b"
             ],
             [
              0.6666666666666666,
              "#ed7953"
             ],
             [
              0.7777777777777778,
              "#fb9f3a"
             ],
             [
              0.8888888888888888,
              "#fdca26"
             ],
             [
              1,
              "#f0f921"
             ]
            ],
            "type": "heatmap"
           }
          ],
          "heatmapgl": [
           {
            "colorbar": {
             "outlinewidth": 0,
             "ticks": ""
            },
            "colorscale": [
             [
              0,
              "#0d0887"
             ],
             [
              0.1111111111111111,
              "#46039f"
             ],
             [
              0.2222222222222222,
              "#7201a8"
             ],
             [
              0.3333333333333333,
              "#9c179e"
             ],
             [
              0.4444444444444444,
              "#bd3786"
             ],
             [
              0.5555555555555556,
              "#d8576b"
             ],
             [
              0.6666666666666666,
              "#ed7953"
             ],
             [
              0.7777777777777778,
              "#fb9f3a"
             ],
             [
              0.8888888888888888,
              "#fdca26"
             ],
             [
              1,
              "#f0f921"
             ]
            ],
            "type": "heatmapgl"
           }
          ],
          "histogram": [
           {
            "marker": {
             "pattern": {
              "fillmode": "overlay",
              "size": 10,
              "solidity": 0.2
             }
            },
            "type": "histogram"
           }
          ],
          "histogram2d": [
           {
            "colorbar": {
             "outlinewidth": 0,
             "ticks": ""
            },
            "colorscale": [
             [
              0,
              "#0d0887"
             ],
             [
              0.1111111111111111,
              "#46039f"
             ],
             [
              0.2222222222222222,
              "#7201a8"
             ],
             [
              0.3333333333333333,
              "#9c179e"
             ],
             [
              0.4444444444444444,
              "#bd3786"
             ],
             [
              0.5555555555555556,
              "#d8576b"
             ],
             [
              0.6666666666666666,
              "#ed7953"
             ],
             [
              0.7777777777777778,
              "#fb9f3a"
             ],
             [
              0.8888888888888888,
              "#fdca26"
             ],
             [
              1,
              "#f0f921"
             ]
            ],
            "type": "histogram2d"
           }
          ],
          "histogram2dcontour": [
           {
            "colorbar": {
             "outlinewidth": 0,
             "ticks": ""
            },
            "colorscale": [
             [
              0,
              "#0d0887"
             ],
             [
              0.1111111111111111,
              "#46039f"
             ],
             [
              0.2222222222222222,
              "#7201a8"
             ],
             [
              0.3333333333333333,
              "#9c179e"
             ],
             [
              0.4444444444444444,
              "#bd3786"
             ],
             [
              0.5555555555555556,
              "#d8576b"
             ],
             [
              0.6666666666666666,
              "#ed7953"
             ],
             [
              0.7777777777777778,
              "#fb9f3a"
             ],
             [
              0.8888888888888888,
              "#fdca26"
             ],
             [
              1,
              "#f0f921"
             ]
            ],
            "type": "histogram2dcontour"
           }
          ],
          "mesh3d": [
           {
            "colorbar": {
             "outlinewidth": 0,
             "ticks": ""
            },
            "type": "mesh3d"
           }
          ],
          "parcoords": [
           {
            "line": {
             "colorbar": {
              "outlinewidth": 0,
              "ticks": ""
             }
            },
            "type": "parcoords"
           }
          ],
          "pie": [
           {
            "automargin": true,
            "type": "pie"
           }
          ],
          "scatter": [
           {
            "marker": {
             "colorbar": {
              "outlinewidth": 0,
              "ticks": ""
             }
            },
            "type": "scatter"
           }
          ],
          "scatter3d": [
           {
            "line": {
             "colorbar": {
              "outlinewidth": 0,
              "ticks": ""
             }
            },
            "marker": {
             "colorbar": {
              "outlinewidth": 0,
              "ticks": ""
             }
            },
            "type": "scatter3d"
           }
          ],
          "scattercarpet": [
           {
            "marker": {
             "colorbar": {
              "outlinewidth": 0,
              "ticks": ""
             }
            },
            "type": "scattercarpet"
           }
          ],
          "scattergeo": [
           {
            "marker": {
             "colorbar": {
              "outlinewidth": 0,
              "ticks": ""
             }
            },
            "type": "scattergeo"
           }
          ],
          "scattergl": [
           {
            "marker": {
             "colorbar": {
              "outlinewidth": 0,
              "ticks": ""
             }
            },
            "type": "scattergl"
           }
          ],
          "scattermapbox": [
           {
            "marker": {
             "colorbar": {
              "outlinewidth": 0,
              "ticks": ""
             }
            },
            "type": "scattermapbox"
           }
          ],
          "scatterpolar": [
           {
            "marker": {
             "colorbar": {
              "outlinewidth": 0,
              "ticks": ""
             }
            },
            "type": "scatterpolar"
           }
          ],
          "scatterpolargl": [
           {
            "marker": {
             "colorbar": {
              "outlinewidth": 0,
              "ticks": ""
             }
            },
            "type": "scatterpolargl"
           }
          ],
          "scatterternary": [
           {
            "marker": {
             "colorbar": {
              "outlinewidth": 0,
              "ticks": ""
             }
            },
            "type": "scatterternary"
           }
          ],
          "surface": [
           {
            "colorbar": {
             "outlinewidth": 0,
             "ticks": ""
            },
            "colorscale": [
             [
              0,
              "#0d0887"
             ],
             [
              0.1111111111111111,
              "#46039f"
             ],
             [
              0.2222222222222222,
              "#7201a8"
             ],
             [
              0.3333333333333333,
              "#9c179e"
             ],
             [
              0.4444444444444444,
              "#bd3786"
             ],
             [
              0.5555555555555556,
              "#d8576b"
             ],
             [
              0.6666666666666666,
              "#ed7953"
             ],
             [
              0.7777777777777778,
              "#fb9f3a"
             ],
             [
              0.8888888888888888,
              "#fdca26"
             ],
             [
              1,
              "#f0f921"
             ]
            ],
            "type": "surface"
           }
          ],
          "table": [
           {
            "cells": {
             "fill": {
              "color": "#EBF0F8"
             },
             "line": {
              "color": "white"
             }
            },
            "header": {
             "fill": {
              "color": "#C8D4E3"
             },
             "line": {
              "color": "white"
             }
            },
            "type": "table"
           }
          ]
         },
         "layout": {
          "annotationdefaults": {
           "arrowcolor": "#2a3f5f",
           "arrowhead": 0,
           "arrowwidth": 1
          },
          "autotypenumbers": "strict",
          "coloraxis": {
           "colorbar": {
            "outlinewidth": 0,
            "ticks": ""
           }
          },
          "colorscale": {
           "diverging": [
            [
             0,
             "#8e0152"
            ],
            [
             0.1,
             "#c51b7d"
            ],
            [
             0.2,
             "#de77ae"
            ],
            [
             0.3,
             "#f1b6da"
            ],
            [
             0.4,
             "#fde0ef"
            ],
            [
             0.5,
             "#f7f7f7"
            ],
            [
             0.6,
             "#e6f5d0"
            ],
            [
             0.7,
             "#b8e186"
            ],
            [
             0.8,
             "#7fbc41"
            ],
            [
             0.9,
             "#4d9221"
            ],
            [
             1,
             "#276419"
            ]
           ],
           "sequential": [
            [
             0,
             "#0d0887"
            ],
            [
             0.1111111111111111,
             "#46039f"
            ],
            [
             0.2222222222222222,
             "#7201a8"
            ],
            [
             0.3333333333333333,
             "#9c179e"
            ],
            [
             0.4444444444444444,
             "#bd3786"
            ],
            [
             0.5555555555555556,
             "#d8576b"
            ],
            [
             0.6666666666666666,
             "#ed7953"
            ],
            [
             0.7777777777777778,
             "#fb9f3a"
            ],
            [
             0.8888888888888888,
             "#fdca26"
            ],
            [
             1,
             "#f0f921"
            ]
           ],
           "sequentialminus": [
            [
             0,
             "#0d0887"
            ],
            [
             0.1111111111111111,
             "#46039f"
            ],
            [
             0.2222222222222222,
             "#7201a8"
            ],
            [
             0.3333333333333333,
             "#9c179e"
            ],
            [
             0.4444444444444444,
             "#bd3786"
            ],
            [
             0.5555555555555556,
             "#d8576b"
            ],
            [
             0.6666666666666666,
             "#ed7953"
            ],
            [
             0.7777777777777778,
             "#fb9f3a"
            ],
            [
             0.8888888888888888,
             "#fdca26"
            ],
            [
             1,
             "#f0f921"
            ]
           ]
          },
          "colorway": [
           "#636efa",
           "#EF553B",
           "#00cc96",
           "#ab63fa",
           "#FFA15A",
           "#19d3f3",
           "#FF6692",
           "#B6E880",
           "#FF97FF",
           "#FECB52"
          ],
          "font": {
           "color": "#2a3f5f"
          },
          "geo": {
           "bgcolor": "white",
           "lakecolor": "white",
           "landcolor": "#E5ECF6",
           "showlakes": true,
           "showland": true,
           "subunitcolor": "white"
          },
          "hoverlabel": {
           "align": "left"
          },
          "hovermode": "closest",
          "mapbox": {
           "style": "light"
          },
          "paper_bgcolor": "white",
          "plot_bgcolor": "#E5ECF6",
          "polar": {
           "angularaxis": {
            "gridcolor": "white",
            "linecolor": "white",
            "ticks": ""
           },
           "bgcolor": "#E5ECF6",
           "radialaxis": {
            "gridcolor": "white",
            "linecolor": "white",
            "ticks": ""
           }
          },
          "scene": {
           "xaxis": {
            "backgroundcolor": "#E5ECF6",
            "gridcolor": "white",
            "gridwidth": 2,
            "linecolor": "white",
            "showbackground": true,
            "ticks": "",
            "zerolinecolor": "white"
           },
           "yaxis": {
            "backgroundcolor": "#E5ECF6",
            "gridcolor": "white",
            "gridwidth": 2,
            "linecolor": "white",
            "showbackground": true,
            "ticks": "",
            "zerolinecolor": "white"
           },
           "zaxis": {
            "backgroundcolor": "#E5ECF6",
            "gridcolor": "white",
            "gridwidth": 2,
            "linecolor": "white",
            "showbackground": true,
            "ticks": "",
            "zerolinecolor": "white"
           }
          },
          "shapedefaults": {
           "line": {
            "color": "#2a3f5f"
           }
          },
          "ternary": {
           "aaxis": {
            "gridcolor": "white",
            "linecolor": "white",
            "ticks": ""
           },
           "baxis": {
            "gridcolor": "white",
            "linecolor": "white",
            "ticks": ""
           },
           "bgcolor": "#E5ECF6",
           "caxis": {
            "gridcolor": "white",
            "linecolor": "white",
            "ticks": ""
           }
          },
          "title": {
           "x": 0.05
          },
          "xaxis": {
           "automargin": true,
           "gridcolor": "white",
           "linecolor": "white",
           "ticks": "",
           "title": {
            "standoff": 15
           },
           "zerolinecolor": "white",
           "zerolinewidth": 2
          },
          "yaxis": {
           "automargin": true,
           "gridcolor": "white",
           "linecolor": "white",
           "ticks": "",
           "title": {
            "standoff": 15
           },
           "zerolinecolor": "white",
           "zerolinewidth": 2
          }
         }
        },
        "xaxis": {
         "anchor": "y",
         "domain": [
          0,
          1
         ],
         "title": {
          "text": "Surplus_Deficit_Per_Capita"
         }
        },
        "yaxis": {
         "anchor": "x",
         "domain": [
          0,
          1
         ],
         "title": {
          "text": "GDP_Per_Capita"
         }
        }
       }
      }
     },
     "metadata": {},
     "output_type": "display_data"
    }
   ],
   "source": [
    "fig5 = px.scatter(filtered_gdp_cont_pop_trade.loc[filtered_gdp_cont_pop_trade['Country'] == 'Luxembourg'], x='Surplus_Deficit_Per_Capita', y='GDP_Per_Capita', color='Year')\n",
    "fig5.show()"
   ]
  },
  {
   "cell_type": "code",
   "execution_count": null,
   "metadata": {},
   "outputs": [],
   "source": []
  }
 ],
 "metadata": {
  "kernelspec": {
   "display_name": "Python 3.9.12 ('base')",
   "language": "python",
   "name": "python3"
  },
  "language_info": {
   "codemirror_mode": {
    "name": "ipython",
    "version": 3
   },
   "file_extension": ".py",
   "mimetype": "text/x-python",
   "name": "python",
   "nbconvert_exporter": "python",
   "pygments_lexer": "ipython3",
   "version": "3.9.12"
  },
  "orig_nbformat": 4,
  "vscode": {
   "interpreter": {
    "hash": "8ae6d9166a6324ec8fca68373a3fb6f0a0d010f541edaf8017d36667030d4460"
   }
  }
 },
 "nbformat": 4,
 "nbformat_minor": 2
}
